{
 "cells": [
  {
   "cell_type": "markdown",
   "metadata": {},
   "source": [
    "# Automated ML\n",
    "\n",
    "TODO: Import Dependencies. In the cell below, import all the dependencies that you will need to complete the project."
   ]
  },
  {
   "cell_type": "code",
   "execution_count": 1,
   "metadata": {},
   "outputs": [
    {
     "name": "stdout",
     "output_type": "stream",
     "text": [
      "Requirement already up-to-date: azureml-sdk[automl] in /anaconda/envs/azureml_py36/lib/python3.6/site-packages (1.24.0)\n",
      "Requirement already satisfied, skipping upgrade: azureml-dataset-runtime[fuse]~=1.24.0 in /anaconda/envs/azureml_py36/lib/python3.6/site-packages (from azureml-sdk[automl]) (1.24.0)\n",
      "Requirement already satisfied, skipping upgrade: azureml-core~=1.24.0 in /anaconda/envs/azureml_py36/lib/python3.6/site-packages (from azureml-sdk[automl]) (1.24.0.post2)\n",
      "Requirement already satisfied, skipping upgrade: azureml-train~=1.24.0 in /anaconda/envs/azureml_py36/lib/python3.6/site-packages (from azureml-sdk[automl]) (1.24.0)\n",
      "Requirement already satisfied, skipping upgrade: azureml-train-automl-client~=1.24.0 in /anaconda/envs/azureml_py36/lib/python3.6/site-packages (from azureml-sdk[automl]) (1.24.0)\n",
      "Requirement already satisfied, skipping upgrade: azureml-pipeline~=1.24.0 in /anaconda/envs/azureml_py36/lib/python3.6/site-packages (from azureml-sdk[automl]) (1.24.0)\n",
      "Requirement already satisfied, skipping upgrade: azureml-train-automl~=1.24.0; extra == \"automl\" in /anaconda/envs/azureml_py36/lib/python3.6/site-packages (from azureml-sdk[automl]) (1.24.0)\n",
      "Requirement already satisfied, skipping upgrade: pyarrow<2.0.0,>=0.17.0 in /anaconda/envs/azureml_py36/lib/python3.6/site-packages (from azureml-dataset-runtime[fuse]~=1.24.0->azureml-sdk[automl]) (1.0.1)\n",
      "Requirement already satisfied, skipping upgrade: azureml-dataprep<2.12.0a,>=2.11.0a in /anaconda/envs/azureml_py36/lib/python3.6/site-packages (from azureml-dataset-runtime[fuse]~=1.24.0->azureml-sdk[automl]) (2.11.2)\n",
      "Requirement already satisfied, skipping upgrade: numpy!=1.19.3; sys_platform == \"linux\" in /anaconda/envs/azureml_py36/lib/python3.6/site-packages (from azureml-dataset-runtime[fuse]~=1.24.0->azureml-sdk[automl]) (1.19.5)\n",
      "Requirement already satisfied, skipping upgrade: fusepy<4.0.0,>=3.0.1; extra == \"fuse\" in /anaconda/envs/azureml_py36/lib/python3.6/site-packages (from azureml-dataset-runtime[fuse]~=1.24.0->azureml-sdk[automl]) (3.0.1)\n",
      "Requirement already satisfied, skipping upgrade: ndg-httpsclient in /anaconda/envs/azureml_py36/lib/python3.6/site-packages (from azureml-core~=1.24.0->azureml-sdk[automl]) (0.5.1)\n",
      "Requirement already satisfied, skipping upgrade: msrestazure>=0.4.33 in /anaconda/envs/azureml_py36/lib/python3.6/site-packages (from azureml-core~=1.24.0->azureml-sdk[automl]) (0.6.4)\n",
      "Requirement already satisfied, skipping upgrade: docker in /anaconda/envs/azureml_py36/lib/python3.6/site-packages (from azureml-core~=1.24.0->azureml-sdk[automl]) (4.4.4)\n",
      "Requirement already satisfied, skipping upgrade: azure-mgmt-authorization<1.0.0,>=0.40.0 in /anaconda/envs/azureml_py36/lib/python3.6/site-packages (from azureml-core~=1.24.0->azureml-sdk[automl]) (0.61.0)\n",
      "Requirement already satisfied, skipping upgrade: adal>=1.2.0 in /anaconda/envs/azureml_py36/lib/python3.6/site-packages (from azureml-core~=1.24.0->azureml-sdk[automl]) (1.2.6)\n",
      "Requirement already satisfied, skipping upgrade: ruamel.yaml>=0.15.35 in /anaconda/envs/azureml_py36/lib/python3.6/site-packages (from azureml-core~=1.24.0->azureml-sdk[automl]) (0.16.13)\n",
      "Requirement already satisfied, skipping upgrade: requests<3.0.0,>=2.19.1 in /anaconda/envs/azureml_py36/lib/python3.6/site-packages (from azureml-core~=1.24.0->azureml-sdk[automl]) (2.25.1)\n",
      "Requirement already satisfied, skipping upgrade: azure-mgmt-containerregistry>=2.0.0 in /anaconda/envs/azureml_py36/lib/python3.6/site-packages (from azureml-core~=1.24.0->azureml-sdk[automl]) (2.8.0)\n",
      "Requirement already satisfied, skipping upgrade: azure-graphrbac<1.0.0,>=0.40.0 in /anaconda/envs/azureml_py36/lib/python3.6/site-packages (from azureml-core~=1.24.0->azureml-sdk[automl]) (0.61.1)\n",
      "Requirement already satisfied, skipping upgrade: azure-mgmt-resource<15.0.0,>=1.2.1 in /anaconda/envs/azureml_py36/lib/python3.6/site-packages (from azureml-core~=1.24.0->azureml-sdk[automl]) (12.1.0)\n",
      "Requirement already satisfied, skipping upgrade: SecretStorage in /anaconda/envs/azureml_py36/lib/python3.6/site-packages (from azureml-core~=1.24.0->azureml-sdk[automl]) (3.3.1)\n",
      "Requirement already satisfied, skipping upgrade: jsonpickle in /anaconda/envs/azureml_py36/lib/python3.6/site-packages (from azureml-core~=1.24.0->azureml-sdk[automl]) (2.0.0)\n",
      "Requirement already satisfied, skipping upgrade: pathspec in /anaconda/envs/azureml_py36/lib/python3.6/site-packages (from azureml-core~=1.24.0->azureml-sdk[automl]) (0.8.1)\n",
      "Requirement already satisfied, skipping upgrade: azure-mgmt-storage<16.0.0,>=1.5.0 in /anaconda/envs/azureml_py36/lib/python3.6/site-packages (from azureml-core~=1.24.0->azureml-sdk[automl]) (11.2.0)\n",
      "Requirement already satisfied, skipping upgrade: contextlib2 in /anaconda/envs/azureml_py36/lib/python3.6/site-packages (from azureml-core~=1.24.0->azureml-sdk[automl]) (0.6.0.post1)\n",
      "Requirement already satisfied, skipping upgrade: backports.tempfile in /anaconda/envs/azureml_py36/lib/python3.6/site-packages (from azureml-core~=1.24.0->azureml-sdk[automl]) (1.0)\n",
      "Requirement already satisfied, skipping upgrade: msrest>=0.5.1 in /anaconda/envs/azureml_py36/lib/python3.6/site-packages (from azureml-core~=1.24.0->azureml-sdk[automl]) (0.6.21)\n",
      "Requirement already satisfied, skipping upgrade: PyJWT<3.0.0 in /anaconda/envs/azureml_py36/lib/python3.6/site-packages (from azureml-core~=1.24.0->azureml-sdk[automl]) (2.0.1)\n",
      "Requirement already satisfied, skipping upgrade: azure-mgmt-keyvault<7.0.0,>=0.40.0 in /anaconda/envs/azureml_py36/lib/python3.6/site-packages (from azureml-core~=1.24.0->azureml-sdk[automl]) (2.2.0)\n",
      "Requirement already satisfied, skipping upgrade: pytz in /anaconda/envs/azureml_py36/lib/python3.6/site-packages (from azureml-core~=1.24.0->azureml-sdk[automl]) (2021.1)\n",
      "Requirement already satisfied, skipping upgrade: cryptography!=1.9,!=2.0.*,!=2.1.*,!=2.2.*,<4.0.0 in /anaconda/envs/azureml_py36/lib/python3.6/site-packages (from azureml-core~=1.24.0->azureml-sdk[automl]) (3.4.6)\n",
      "Requirement already satisfied, skipping upgrade: azure-common>=1.1.12 in /anaconda/envs/azureml_py36/lib/python3.6/site-packages (from azureml-core~=1.24.0->azureml-sdk[automl]) (1.1.26)\n",
      "Requirement already satisfied, skipping upgrade: urllib3>=1.23 in /anaconda/envs/azureml_py36/lib/python3.6/site-packages (from azureml-core~=1.24.0->azureml-sdk[automl]) (1.26.3)\n",
      "Requirement already satisfied, skipping upgrade: pyopenssl<21.0.0 in /anaconda/envs/azureml_py36/lib/python3.6/site-packages (from azureml-core~=1.24.0->azureml-sdk[automl]) (20.0.1)\n",
      "Requirement already satisfied, skipping upgrade: jmespath in /anaconda/envs/azureml_py36/lib/python3.6/site-packages (from azureml-core~=1.24.0->azureml-sdk[automl]) (0.10.0)\n",
      "Requirement already satisfied, skipping upgrade: python-dateutil>=2.7.3 in /anaconda/envs/azureml_py36/lib/python3.6/site-packages (from azureml-core~=1.24.0->azureml-sdk[automl]) (2.8.1)\n",
      "Requirement already satisfied, skipping upgrade: azureml-train-core~=1.24.0 in /anaconda/envs/azureml_py36/lib/python3.6/site-packages (from azureml-train~=1.24.0->azureml-sdk[automl]) (1.24.0)\n",
      "Requirement already satisfied, skipping upgrade: azureml-automl-core~=1.24.0 in /anaconda/envs/azureml_py36/lib/python3.6/site-packages (from azureml-train-automl-client~=1.24.0->azureml-sdk[automl]) (1.24.0)\n",
      "Requirement already satisfied, skipping upgrade: azureml-telemetry~=1.24.0 in /anaconda/envs/azureml_py36/lib/python3.6/site-packages (from azureml-train-automl-client~=1.24.0->azureml-sdk[automl]) (1.24.0)\n",
      "Requirement already satisfied, skipping upgrade: azureml-pipeline-core~=1.24.0 in /anaconda/envs/azureml_py36/lib/python3.6/site-packages (from azureml-pipeline~=1.24.0->azureml-sdk[automl]) (1.24.0)\n",
      "Requirement already satisfied, skipping upgrade: azureml-pipeline-steps~=1.24.0 in /anaconda/envs/azureml_py36/lib/python3.6/site-packages (from azureml-pipeline~=1.24.0->azureml-sdk[automl]) (1.24.0)\n",
      "Requirement already satisfied, skipping upgrade: azureml-automl-runtime~=1.24.0 in /anaconda/envs/azureml_py36/lib/python3.6/site-packages (from azureml-train-automl~=1.24.0; extra == \"automl\"->azureml-sdk[automl]) (1.24.0)\n",
      "Requirement already satisfied, skipping upgrade: azureml-train-automl-runtime~=1.24.0 in /anaconda/envs/azureml_py36/lib/python3.6/site-packages (from azureml-train-automl~=1.24.0; extra == \"automl\"->azureml-sdk[automl]) (1.24.0)\n",
      "Requirement already satisfied, skipping upgrade: azure-identity<1.5.0,>=1.2.0 in /anaconda/envs/azureml_py36/lib/python3.6/site-packages (from azureml-dataprep<2.12.0a,>=2.11.0a->azureml-dataset-runtime[fuse]~=1.24.0->azureml-sdk[automl]) (1.4.1)\n"
     ]
    },
    {
     "name": "stdout",
     "output_type": "stream",
     "text": [
      "Requirement already satisfied, skipping upgrade: dotnetcore2<3.0.0,>=2.1.14 in /anaconda/envs/azureml_py36/lib/python3.6/site-packages (from azureml-dataprep<2.12.0a,>=2.11.0a->azureml-dataset-runtime[fuse]~=1.24.0->azureml-sdk[automl]) (2.1.20)\n",
      "Requirement already satisfied, skipping upgrade: cloudpickle<2.0.0,>=1.1.0 in /anaconda/envs/azureml_py36/lib/python3.6/site-packages (from azureml-dataprep<2.12.0a,>=2.11.0a->azureml-dataset-runtime[fuse]~=1.24.0->azureml-sdk[automl]) (1.6.0)\n",
      "Requirement already satisfied, skipping upgrade: azureml-dataprep-native<31.0.0,>=30.0.0 in /anaconda/envs/azureml_py36/lib/python3.6/site-packages (from azureml-dataprep<2.12.0a,>=2.11.0a->azureml-dataset-runtime[fuse]~=1.24.0->azureml-sdk[automl]) (30.0.0)\n",
      "Requirement already satisfied, skipping upgrade: azureml-dataprep-rslex<1.10.0a,>=1.9.0dev0 in /anaconda/envs/azureml_py36/lib/python3.6/site-packages (from azureml-dataprep<2.12.0a,>=2.11.0a->azureml-dataset-runtime[fuse]~=1.24.0->azureml-sdk[automl]) (1.9.1)\n",
      "Requirement already satisfied, skipping upgrade: pyasn1>=0.1.1 in /anaconda/envs/azureml_py36/lib/python3.6/site-packages (from ndg-httpsclient->azureml-core~=1.24.0->azureml-sdk[automl]) (0.4.8)\n",
      "Requirement already satisfied, skipping upgrade: six in /anaconda/envs/azureml_py36/lib/python3.6/site-packages (from msrestazure>=0.4.33->azureml-core~=1.24.0->azureml-sdk[automl]) (1.15.0)\n",
      "Requirement already satisfied, skipping upgrade: websocket-client>=0.32.0 in /anaconda/envs/azureml_py36/lib/python3.6/site-packages (from docker->azureml-core~=1.24.0->azureml-sdk[automl]) (0.58.0)\n",
      "Requirement already satisfied, skipping upgrade: ruamel.yaml.clib>=0.1.2; platform_python_implementation == \"CPython\" and python_version < \"3.10\" in /anaconda/envs/azureml_py36/lib/python3.6/site-packages (from ruamel.yaml>=0.15.35->azureml-core~=1.24.0->azureml-sdk[automl]) (0.2.2)\n",
      "Requirement already satisfied, skipping upgrade: certifi>=2017.4.17 in /anaconda/envs/azureml_py36/lib/python3.6/site-packages (from requests<3.0.0,>=2.19.1->azureml-core~=1.24.0->azureml-sdk[automl]) (2020.12.5)\n",
      "Requirement already satisfied, skipping upgrade: idna<3,>=2.5 in /anaconda/envs/azureml_py36/lib/python3.6/site-packages (from requests<3.0.0,>=2.19.1->azureml-core~=1.24.0->azureml-sdk[automl]) (2.10)\n",
      "Requirement already satisfied, skipping upgrade: chardet<5,>=3.0.2 in /anaconda/envs/azureml_py36/lib/python3.6/site-packages (from requests<3.0.0,>=2.19.1->azureml-core~=1.24.0->azureml-sdk[automl]) (4.0.0)\n",
      "Requirement already satisfied, skipping upgrade: jeepney>=0.6 in /anaconda/envs/azureml_py36/lib/python3.6/site-packages (from SecretStorage->azureml-core~=1.24.0->azureml-sdk[automl]) (0.6.0)\n",
      "Requirement already satisfied, skipping upgrade: importlib-metadata; python_version < \"3.8\" in /anaconda/envs/azureml_py36/lib/python3.6/site-packages (from jsonpickle->azureml-core~=1.24.0->azureml-sdk[automl]) (3.7.2)\n",
      "Requirement already satisfied, skipping upgrade: backports.weakref in /anaconda/envs/azureml_py36/lib/python3.6/site-packages (from backports.tempfile->azureml-core~=1.24.0->azureml-sdk[automl]) (1.0.post1)\n",
      "Requirement already satisfied, skipping upgrade: requests-oauthlib>=0.5.0 in /anaconda/envs/azureml_py36/lib/python3.6/site-packages (from msrest>=0.5.1->azureml-core~=1.24.0->azureml-sdk[automl]) (1.3.0)\n",
      "Requirement already satisfied, skipping upgrade: isodate>=0.6.0 in /anaconda/envs/azureml_py36/lib/python3.6/site-packages (from msrest>=0.5.1->azureml-core~=1.24.0->azureml-sdk[automl]) (0.6.0)\n",
      "Requirement already satisfied, skipping upgrade: cffi>=1.12 in /anaconda/envs/azureml_py36/lib/python3.6/site-packages (from cryptography!=1.9,!=2.0.*,!=2.1.*,!=2.2.*,<4.0.0->azureml-core~=1.24.0->azureml-sdk[automl]) (1.14.5)\n",
      "Requirement already satisfied, skipping upgrade: azureml-train-restclients-hyperdrive~=1.24.0 in /anaconda/envs/azureml_py36/lib/python3.6/site-packages (from azureml-train-core~=1.24.0->azureml-train~=1.24.0->azureml-sdk[automl]) (1.24.0)\n",
      "Requirement already satisfied, skipping upgrade: applicationinsights in /anaconda/envs/azureml_py36/lib/python3.6/site-packages (from azureml-telemetry~=1.24.0->azureml-train-automl-client~=1.24.0->azureml-sdk[automl]) (0.11.9)\n",
      "Requirement already satisfied, skipping upgrade: botocore<=1.18.18 in /anaconda/envs/azureml_py36/lib/python3.6/site-packages (from azureml-automl-runtime~=1.24.0->azureml-train-automl~=1.24.0; extra == \"automl\"->azureml-sdk[automl]) (1.18.18)\n",
      "Requirement already satisfied, skipping upgrade: scikit-learn<0.23.0,>=0.19.0 in /anaconda/envs/azureml_py36/lib/python3.6/site-packages (from azureml-automl-runtime~=1.24.0->azureml-train-automl~=1.24.0; extra == \"automl\"->azureml-sdk[automl]) (0.22.2.post1)\n",
      "Requirement already satisfied, skipping upgrade: boto3<=1.15.18 in /anaconda/envs/azureml_py36/lib/python3.6/site-packages (from azureml-automl-runtime~=1.24.0->azureml-train-automl~=1.24.0; extra == \"automl\"->azureml-sdk[automl]) (1.15.18)\n",
      "Requirement already satisfied, skipping upgrade: keras2onnx<=1.6.0,>=1.4.0 in /anaconda/envs/azureml_py36/lib/python3.6/site-packages (from azureml-automl-runtime~=1.24.0->azureml-train-automl~=1.24.0; extra == \"automl\"->azureml-sdk[automl]) (1.6.0)\n",
      "Requirement already satisfied, skipping upgrade: pmdarima==1.1.1 in /anaconda/envs/azureml_py36/lib/python3.6/site-packages (from azureml-automl-runtime~=1.24.0->azureml-train-automl~=1.24.0; extra == \"automl\"->azureml-sdk[automl]) (1.1.1)\n",
      "Requirement already satisfied, skipping upgrade: gensim<3.9.0 in /anaconda/envs/azureml_py36/lib/python3.6/site-packages (from azureml-automl-runtime~=1.24.0->azureml-train-automl~=1.24.0; extra == \"automl\"->azureml-sdk[automl]) (3.8.3)\n",
      "Requirement already satisfied, skipping upgrade: py-cpuinfo==5.0.0 in /anaconda/envs/azureml_py36/lib/python3.6/site-packages (from azureml-automl-runtime~=1.24.0->azureml-train-automl~=1.24.0; extra == \"automl\"->azureml-sdk[automl]) (5.0.0)\n",
      "Requirement already satisfied, skipping upgrade: onnx<=1.7.0,>=1.5.0 in /anaconda/envs/azureml_py36/lib/python3.6/site-packages (from azureml-automl-runtime~=1.24.0->azureml-train-automl~=1.24.0; extra == \"automl\"->azureml-sdk[automl]) (1.7.0)\n",
      "Requirement already satisfied, skipping upgrade: sklearn-pandas<=1.7.0,>=1.4.0 in /anaconda/envs/azureml_py36/lib/python3.6/site-packages (from azureml-automl-runtime~=1.24.0->azureml-train-automl~=1.24.0; extra == \"automl\"->azureml-sdk[automl]) (1.7.0)\n",
      "Requirement already satisfied, skipping upgrade: dill<0.4.0,>=0.2.8 in /anaconda/envs/azureml_py36/lib/python3.6/site-packages (from azureml-automl-runtime~=1.24.0->azureml-train-automl~=1.24.0; extra == \"automl\"->azureml-sdk[automl]) (0.3.3)\n",
      "Requirement already satisfied, skipping upgrade: onnxconverter-common<=1.6.0,>=1.4.2 in /anaconda/envs/azureml_py36/lib/python3.6/site-packages (from azureml-automl-runtime~=1.24.0->azureml-train-automl~=1.24.0; extra == \"automl\"->azureml-sdk[automl]) (1.6.0)\n",
      "Requirement already satisfied, skipping upgrade: onnxmltools==1.4.1 in /anaconda/envs/azureml_py36/lib/python3.6/site-packages (from azureml-automl-runtime~=1.24.0->azureml-train-automl~=1.24.0; extra == \"automl\"->azureml-sdk[automl]) (1.4.1)\n",
      "Requirement already satisfied, skipping upgrade: smart-open<=1.9.0 in /anaconda/envs/azureml_py36/lib/python3.6/site-packages (from azureml-automl-runtime~=1.24.0->azureml-train-automl~=1.24.0; extra == \"automl\"->azureml-sdk[automl]) (1.9.0)\n",
      "Requirement already satisfied, skipping upgrade: pandas<1.0.0,>=0.21.0 in /anaconda/envs/azureml_py36/lib/python3.6/site-packages (from azureml-automl-runtime~=1.24.0->azureml-train-automl~=1.24.0; extra == \"automl\"->azureml-sdk[automl]) (0.25.3)\n",
      "Requirement already satisfied, skipping upgrade: lightgbm<=2.3.0,>=2.0.11 in /anaconda/envs/azureml_py36/lib/python3.6/site-packages (from azureml-automl-runtime~=1.24.0->azureml-train-automl~=1.24.0; extra == \"automl\"->azureml-sdk[automl]) (2.3.0)\n",
      "Requirement already satisfied, skipping upgrade: nimbusml<=1.8.0,>=1.7.1 in /anaconda/envs/azureml_py36/lib/python3.6/site-packages (from azureml-automl-runtime~=1.24.0->azureml-train-automl~=1.24.0; extra == \"automl\"->azureml-sdk[automl]) (1.8.0)\n",
      "Requirement already satisfied, skipping upgrade: onnxruntime<=1.6.0,>=1.3.0 in /anaconda/envs/azureml_py36/lib/python3.6/site-packages (from azureml-automl-runtime~=1.24.0->azureml-train-automl~=1.24.0; extra == \"automl\"->azureml-sdk[automl]) (1.3.0)\n",
      "Requirement already satisfied, skipping upgrade: statsmodels<=0.10.2,>=0.9.0 in /anaconda/envs/azureml_py36/lib/python3.6/site-packages (from azureml-automl-runtime~=1.24.0->azureml-train-automl~=1.24.0; extra == \"automl\"->azureml-sdk[automl]) (0.10.2)\n",
      "Requirement already satisfied, skipping upgrade: joblib==0.14.1 in /anaconda/envs/azureml_py36/lib/python3.6/site-packages (from azureml-automl-runtime~=1.24.0->azureml-train-automl~=1.24.0; extra == \"automl\"->azureml-sdk[automl]) (0.14.1)\n",
      "Requirement already satisfied, skipping upgrade: psutil<6.0.0,>=5.2.2 in /anaconda/envs/azureml_py36/lib/python3.6/site-packages (from azureml-automl-runtime~=1.24.0->azureml-train-automl~=1.24.0; extra == \"automl\"->azureml-sdk[automl]) (5.8.0)\n",
      "Requirement already satisfied, skipping upgrade: skl2onnx==1.4.9 in /anaconda/envs/azureml_py36/lib/python3.6/site-packages (from azureml-automl-runtime~=1.24.0->azureml-train-automl~=1.24.0; extra == \"automl\"->azureml-sdk[automl]) (1.4.9)\n",
      "Requirement already satisfied, skipping upgrade: scipy<=1.5.2,>=1.0.0 in /anaconda/envs/azureml_py36/lib/python3.6/site-packages (from azureml-automl-runtime~=1.24.0->azureml-train-automl~=1.24.0; extra == \"automl\"->azureml-sdk[automl]) (1.5.2)\n",
      "Requirement already satisfied, skipping upgrade: azureml-defaults~=1.24.0 in /anaconda/envs/azureml_py36/lib/python3.6/site-packages (from azureml-train-automl-runtime~=1.24.0->azureml-train-automl~=1.24.0; extra == \"automl\"->azureml-sdk[automl]) (1.24.0)\n"
     ]
    },
    {
     "name": "stdout",
     "output_type": "stream",
     "text": [
      "Requirement already satisfied, skipping upgrade: azure-storage-queue~=12.1 in /anaconda/envs/azureml_py36/lib/python3.6/site-packages (from azureml-train-automl-runtime~=1.24.0->azureml-train-automl~=1.24.0; extra == \"automl\"->azureml-sdk[automl]) (12.1.5)\n",
      "Requirement already satisfied, skipping upgrade: azureml-interpret~=1.24.0 in /anaconda/envs/azureml_py36/lib/python3.6/site-packages (from azureml-train-automl-runtime~=1.24.0->azureml-train-automl~=1.24.0; extra == \"automl\"->azureml-sdk[automl]) (1.24.0)\n",
      "Requirement already satisfied, skipping upgrade: jinja2<=2.11.2 in /anaconda/envs/azureml_py36/lib/python3.6/site-packages (from azureml-train-automl-runtime~=1.24.0->azureml-train-automl~=1.24.0; extra == \"automl\"->azureml-sdk[automl]) (2.11.2)\n",
      "Requirement already satisfied, skipping upgrade: msal<2.0.0,>=1.3.0 in /anaconda/envs/azureml_py36/lib/python3.6/site-packages (from azure-identity<1.5.0,>=1.2.0->azureml-dataprep<2.12.0a,>=2.11.0a->azureml-dataset-runtime[fuse]~=1.24.0->azureml-sdk[automl]) (1.10.0)\n",
      "Requirement already satisfied, skipping upgrade: azure-core<2.0.0,>=1.0.0 in /anaconda/envs/azureml_py36/lib/python3.6/site-packages (from azure-identity<1.5.0,>=1.2.0->azureml-dataprep<2.12.0a,>=2.11.0a->azureml-dataset-runtime[fuse]~=1.24.0->azureml-sdk[automl]) (1.12.0)\n",
      "Requirement already satisfied, skipping upgrade: msal-extensions~=0.2.2 in /anaconda/envs/azureml_py36/lib/python3.6/site-packages (from azure-identity<1.5.0,>=1.2.0->azureml-dataprep<2.12.0a,>=2.11.0a->azureml-dataset-runtime[fuse]~=1.24.0->azureml-sdk[automl]) (0.2.2)\n",
      "Requirement already satisfied, skipping upgrade: distro>=1.2.0 in /anaconda/envs/azureml_py36/lib/python3.6/site-packages (from dotnetcore2<3.0.0,>=2.1.14->azureml-dataprep<2.12.0a,>=2.11.0a->azureml-dataset-runtime[fuse]~=1.24.0->azureml-sdk[automl]) (1.5.0)\n",
      "Requirement already satisfied, skipping upgrade: typing-extensions>=3.6.4; python_version < \"3.8\" in /anaconda/envs/azureml_py36/lib/python3.6/site-packages (from importlib-metadata; python_version < \"3.8\"->jsonpickle->azureml-core~=1.24.0->azureml-sdk[automl]) (3.7.4.3)\n",
      "Requirement already satisfied, skipping upgrade: zipp>=0.5 in /anaconda/envs/azureml_py36/lib/python3.6/site-packages (from importlib-metadata; python_version < \"3.8\"->jsonpickle->azureml-core~=1.24.0->azureml-sdk[automl]) (3.4.1)\n",
      "Requirement already satisfied, skipping upgrade: oauthlib>=3.0.0 in /anaconda/envs/azureml_py36/lib/python3.6/site-packages (from requests-oauthlib>=0.5.0->msrest>=0.5.1->azureml-core~=1.24.0->azureml-sdk[automl]) (3.1.0)\n",
      "Requirement already satisfied, skipping upgrade: pycparser in /anaconda/envs/azureml_py36/lib/python3.6/site-packages (from cffi>=1.12->cryptography!=1.9,!=2.0.*,!=2.1.*,!=2.2.*,<4.0.0->azureml-core~=1.24.0->azureml-sdk[automl]) (2.20)\n",
      "Requirement already satisfied, skipping upgrade: s3transfer<0.4.0,>=0.3.0 in /anaconda/envs/azureml_py36/lib/python3.6/site-packages (from boto3<=1.15.18->azureml-automl-runtime~=1.24.0->azureml-train-automl~=1.24.0; extra == \"automl\"->azureml-sdk[automl]) (0.3.4)\n",
      "Requirement already satisfied, skipping upgrade: fire in /anaconda/envs/azureml_py36/lib/python3.6/site-packages (from keras2onnx<=1.6.0,>=1.4.0->azureml-automl-runtime~=1.24.0->azureml-train-automl~=1.24.0; extra == \"automl\"->azureml-sdk[automl]) (0.4.0)\n",
      "Requirement already satisfied, skipping upgrade: protobuf in /anaconda/envs/azureml_py36/lib/python3.6/site-packages (from keras2onnx<=1.6.0,>=1.4.0->azureml-automl-runtime~=1.24.0->azureml-train-automl~=1.24.0; extra == \"automl\"->azureml-sdk[automl]) (3.14.0)\n",
      "Requirement already satisfied, skipping upgrade: Cython>=0.29 in /anaconda/envs/azureml_py36/lib/python3.6/site-packages (from pmdarima==1.1.1->azureml-automl-runtime~=1.24.0->azureml-train-automl~=1.24.0; extra == \"automl\"->azureml-sdk[automl]) (0.29.21)\n",
      "Requirement already satisfied, skipping upgrade: boto>=2.32 in /anaconda/envs/azureml_py36/lib/python3.6/site-packages (from smart-open<=1.9.0->azureml-automl-runtime~=1.24.0->azureml-train-automl~=1.24.0; extra == \"automl\"->azureml-sdk[automl]) (2.49.0)\n",
      "Requirement already satisfied, skipping upgrade: patsy>=0.4.0 in /anaconda/envs/azureml_py36/lib/python3.6/site-packages (from statsmodels<=0.10.2,>=0.9.0->azureml-automl-runtime~=1.24.0->azureml-train-automl~=1.24.0; extra == \"automl\"->azureml-sdk[automl]) (0.5.1)\n",
      "Requirement already satisfied, skipping upgrade: azureml-model-management-sdk==1.0.1b6.post1 in /anaconda/envs/azureml_py36/lib/python3.6/site-packages (from azureml-defaults~=1.24.0->azureml-train-automl-runtime~=1.24.0->azureml-train-automl~=1.24.0; extra == \"automl\"->azureml-sdk[automl]) (1.0.1b6.post1)\n",
      "Requirement already satisfied, skipping upgrade: werkzeug<=1.0.1,>=0.16.1 in /anaconda/envs/azureml_py36/lib/python3.6/site-packages (from azureml-defaults~=1.24.0->azureml-train-automl-runtime~=1.24.0->azureml-train-automl~=1.24.0; extra == \"automl\"->azureml-sdk[automl]) (1.0.1)\n",
      "Requirement already satisfied, skipping upgrade: gunicorn==19.9.0 in /anaconda/envs/azureml_py36/lib/python3.6/site-packages (from azureml-defaults~=1.24.0->azureml-train-automl-runtime~=1.24.0->azureml-train-automl~=1.24.0; extra == \"automl\"->azureml-sdk[automl]) (19.9.0)\n",
      "Requirement already satisfied, skipping upgrade: configparser==3.7.4 in /anaconda/envs/azureml_py36/lib/python3.6/site-packages (from azureml-defaults~=1.24.0->azureml-train-automl-runtime~=1.24.0->azureml-train-automl~=1.24.0; extra == \"automl\"->azureml-sdk[automl]) (3.7.4)\n",
      "Requirement already satisfied, skipping upgrade: flask==1.0.3 in /anaconda/envs/azureml_py36/lib/python3.6/site-packages (from azureml-defaults~=1.24.0->azureml-train-automl-runtime~=1.24.0->azureml-train-automl~=1.24.0; extra == \"automl\"->azureml-sdk[automl]) (1.0.3)\n",
      "Requirement already satisfied, skipping upgrade: json-logging-py==0.2 in /anaconda/envs/azureml_py36/lib/python3.6/site-packages (from azureml-defaults~=1.24.0->azureml-train-automl-runtime~=1.24.0->azureml-train-automl~=1.24.0; extra == \"automl\"->azureml-sdk[automl]) (0.2)\n",
      "Requirement already satisfied, skipping upgrade: interpret-community==0.16.* in /anaconda/envs/azureml_py36/lib/python3.6/site-packages (from azureml-interpret~=1.24.0->azureml-train-automl-runtime~=1.24.0->azureml-train-automl~=1.24.0; extra == \"automl\"->azureml-sdk[automl]) (0.16.0)\n",
      "Requirement already satisfied, skipping upgrade: MarkupSafe>=0.23 in /anaconda/envs/azureml_py36/lib/python3.6/site-packages (from jinja2<=2.11.2->azureml-train-automl-runtime~=1.24.0->azureml-train-automl~=1.24.0; extra == \"automl\"->azureml-sdk[automl]) (1.1.1)\n",
      "Requirement already satisfied, skipping upgrade: portalocker~=1.0; platform_system != \"Windows\" in /anaconda/envs/azureml_py36/lib/python3.6/site-packages (from msal-extensions~=0.2.2->azure-identity<1.5.0,>=1.2.0->azureml-dataprep<2.12.0a,>=2.11.0a->azureml-dataset-runtime[fuse]~=1.24.0->azureml-sdk[automl]) (1.7.1)\n",
      "Requirement already satisfied, skipping upgrade: termcolor in /anaconda/envs/azureml_py36/lib/python3.6/site-packages (from fire->keras2onnx<=1.6.0,>=1.4.0->azureml-automl-runtime~=1.24.0->azureml-train-automl~=1.24.0; extra == \"automl\"->azureml-sdk[automl]) (1.1.0)\n",
      "Requirement already satisfied, skipping upgrade: liac-arff>=2.1.1 in /anaconda/envs/azureml_py36/lib/python3.6/site-packages (from azureml-model-management-sdk==1.0.1b6.post1->azureml-defaults~=1.24.0->azureml-train-automl-runtime~=1.24.0->azureml-train-automl~=1.24.0; extra == \"automl\"->azureml-sdk[automl]) (2.5.0)\n",
      "Requirement already satisfied, skipping upgrade: click>=5.1 in /anaconda/envs/azureml_py36/lib/python3.6/site-packages (from flask==1.0.3->azureml-defaults~=1.24.0->azureml-train-automl-runtime~=1.24.0->azureml-train-automl~=1.24.0; extra == \"automl\"->azureml-sdk[automl]) (7.1.2)\n",
      "Requirement already satisfied, skipping upgrade: itsdangerous>=0.24 in /anaconda/envs/azureml_py36/lib/python3.6/site-packages (from flask==1.0.3->azureml-defaults~=1.24.0->azureml-train-automl-runtime~=1.24.0->azureml-train-automl~=1.24.0; extra == \"automl\"->azureml-sdk[automl]) (1.1.0)\n",
      "Requirement already satisfied, skipping upgrade: packaging in /anaconda/envs/azureml_py36/lib/python3.6/site-packages (from interpret-community==0.16.*->azureml-interpret~=1.24.0->azureml-train-automl-runtime~=1.24.0->azureml-train-automl~=1.24.0; extra == \"automl\"->azureml-sdk[automl]) (20.9)\n",
      "Requirement already satisfied, skipping upgrade: shap<=0.34.0,>=0.20.0 in /anaconda/envs/azureml_py36/lib/python3.6/site-packages (from interpret-community==0.16.*->azureml-interpret~=1.24.0->azureml-train-automl-runtime~=1.24.0->azureml-train-automl~=1.24.0; extra == \"automl\"->azureml-sdk[automl]) (0.34.0)\n",
      "Requirement already satisfied, skipping upgrade: interpret-core[required]<=0.2.1,>=0.1.20 in /anaconda/envs/azureml_py36/lib/python3.6/site-packages (from interpret-community==0.16.*->azureml-interpret~=1.24.0->azureml-train-automl-runtime~=1.24.0->azureml-train-automl~=1.24.0; extra == \"automl\"->azureml-sdk[automl]) (0.2.1)\n"
     ]
    },
    {
     "name": "stdout",
     "output_type": "stream",
     "text": [
      "Requirement already satisfied, skipping upgrade: pyparsing>=2.0.2 in /anaconda/envs/azureml_py36/lib/python3.6/site-packages (from packaging->interpret-community==0.16.*->azureml-interpret~=1.24.0->azureml-train-automl-runtime~=1.24.0->azureml-train-automl~=1.24.0; extra == \"automl\"->azureml-sdk[automl]) (2.4.7)\r\n",
      "Requirement already satisfied, skipping upgrade: tqdm>4.25.0 in /anaconda/envs/azureml_py36/lib/python3.6/site-packages (from shap<=0.34.0,>=0.20.0->interpret-community==0.16.*->azureml-interpret~=1.24.0->azureml-train-automl-runtime~=1.24.0->azureml-train-automl~=1.24.0; extra == \"automl\"->azureml-sdk[automl]) (4.56.0)\r\n"
     ]
    }
   ],
   "source": [
    "!pip install --upgrade azureml-sdk[automl]"
   ]
  },
  {
   "cell_type": "code",
   "execution_count": 2,
   "metadata": {},
   "outputs": [
    {
     "name": "stdout",
     "output_type": "stream",
     "text": [
      "Requirement already up-to-date: azureml-sdk in /anaconda/envs/azureml_py36/lib/python3.6/site-packages (1.24.0)\n",
      "Requirement already up-to-date: azureml-train-automl-client~=1.24.0 in /anaconda/envs/azureml_py36/lib/python3.6/site-packages (from azureml-sdk) (1.24.0)\n",
      "Requirement already up-to-date: azureml-dataset-runtime[fuse]~=1.24.0 in /anaconda/envs/azureml_py36/lib/python3.6/site-packages (from azureml-sdk) (1.24.0)\n",
      "Requirement already up-to-date: azureml-core~=1.24.0 in /anaconda/envs/azureml_py36/lib/python3.6/site-packages (from azureml-sdk) (1.24.0.post2)\n",
      "Requirement already up-to-date: azureml-train~=1.24.0 in /anaconda/envs/azureml_py36/lib/python3.6/site-packages (from azureml-sdk) (1.24.0)\n",
      "Requirement already up-to-date: azureml-pipeline~=1.24.0 in /anaconda/envs/azureml_py36/lib/python3.6/site-packages (from azureml-sdk) (1.24.0)\n",
      "Requirement already up-to-date: azureml-telemetry~=1.24.0 in /anaconda/envs/azureml_py36/lib/python3.6/site-packages (from azureml-train-automl-client~=1.24.0->azureml-sdk) (1.24.0)\n",
      "Requirement already up-to-date: azureml-automl-core~=1.24.0 in /anaconda/envs/azureml_py36/lib/python3.6/site-packages (from azureml-train-automl-client~=1.24.0->azureml-sdk) (1.24.0)\n",
      "Requirement already up-to-date: numpy!=1.19.3; sys_platform == \"linux\" in /anaconda/envs/azureml_py36/lib/python3.6/site-packages (from azureml-dataset-runtime[fuse]~=1.24.0->azureml-sdk) (1.19.5)\n",
      "Requirement already up-to-date: azureml-dataprep<2.12.0a,>=2.11.0a in /anaconda/envs/azureml_py36/lib/python3.6/site-packages (from azureml-dataset-runtime[fuse]~=1.24.0->azureml-sdk) (2.11.2)\n",
      "Requirement already up-to-date: pyarrow<2.0.0,>=0.17.0 in /anaconda/envs/azureml_py36/lib/python3.6/site-packages (from azureml-dataset-runtime[fuse]~=1.24.0->azureml-sdk) (1.0.1)\n",
      "Requirement already up-to-date: fusepy<4.0.0,>=3.0.1; extra == \"fuse\" in /anaconda/envs/azureml_py36/lib/python3.6/site-packages (from azureml-dataset-runtime[fuse]~=1.24.0->azureml-sdk) (3.0.1)\n",
      "Requirement already up-to-date: contextlib2 in /anaconda/envs/azureml_py36/lib/python3.6/site-packages (from azureml-core~=1.24.0->azureml-sdk) (0.6.0.post1)\n",
      "Requirement already up-to-date: azure-mgmt-storage<16.0.0,>=1.5.0 in /anaconda/envs/azureml_py36/lib/python3.6/site-packages (from azureml-core~=1.24.0->azureml-sdk) (11.2.0)\n",
      "Requirement already up-to-date: azure-mgmt-containerregistry>=2.0.0 in /anaconda/envs/azureml_py36/lib/python3.6/site-packages (from azureml-core~=1.24.0->azureml-sdk) (2.8.0)\n",
      "Requirement already up-to-date: urllib3>=1.23 in /anaconda/envs/azureml_py36/lib/python3.6/site-packages (from azureml-core~=1.24.0->azureml-sdk) (1.26.3)\n",
      "Requirement already up-to-date: docker in /anaconda/envs/azureml_py36/lib/python3.6/site-packages (from azureml-core~=1.24.0->azureml-sdk) (4.4.4)\n",
      "Requirement already up-to-date: pathspec in /anaconda/envs/azureml_py36/lib/python3.6/site-packages (from azureml-core~=1.24.0->azureml-sdk) (0.8.1)\n",
      "Requirement already up-to-date: ndg-httpsclient in /anaconda/envs/azureml_py36/lib/python3.6/site-packages (from azureml-core~=1.24.0->azureml-sdk) (0.5.1)\n",
      "Requirement already up-to-date: pytz in /anaconda/envs/azureml_py36/lib/python3.6/site-packages (from azureml-core~=1.24.0->azureml-sdk) (2021.1)\n",
      "Requirement already up-to-date: jmespath in /anaconda/envs/azureml_py36/lib/python3.6/site-packages (from azureml-core~=1.24.0->azureml-sdk) (0.10.0)\n",
      "Requirement already up-to-date: azure-mgmt-resource<15.0.0,>=1.2.1 in /anaconda/envs/azureml_py36/lib/python3.6/site-packages (from azureml-core~=1.24.0->azureml-sdk) (12.1.0)\n",
      "Requirement already up-to-date: azure-mgmt-authorization<1.0.0,>=0.40.0 in /anaconda/envs/azureml_py36/lib/python3.6/site-packages (from azureml-core~=1.24.0->azureml-sdk) (0.61.0)\n",
      "Requirement already up-to-date: ruamel.yaml>=0.15.35 in /anaconda/envs/azureml_py36/lib/python3.6/site-packages (from azureml-core~=1.24.0->azureml-sdk) (0.16.13)\n",
      "Requirement already up-to-date: cryptography!=1.9,!=2.0.*,!=2.1.*,!=2.2.*,<4.0.0 in /anaconda/envs/azureml_py36/lib/python3.6/site-packages (from azureml-core~=1.24.0->azureml-sdk) (3.4.6)\n",
      "Requirement already up-to-date: PyJWT<3.0.0 in /anaconda/envs/azureml_py36/lib/python3.6/site-packages (from azureml-core~=1.24.0->azureml-sdk) (2.0.1)\n",
      "Requirement already up-to-date: requests<3.0.0,>=2.19.1 in /anaconda/envs/azureml_py36/lib/python3.6/site-packages (from azureml-core~=1.24.0->azureml-sdk) (2.25.1)\n",
      "Requirement already up-to-date: python-dateutil>=2.7.3 in /anaconda/envs/azureml_py36/lib/python3.6/site-packages (from azureml-core~=1.24.0->azureml-sdk) (2.8.1)\n",
      "Requirement already up-to-date: pyopenssl<21.0.0 in /anaconda/envs/azureml_py36/lib/python3.6/site-packages (from azureml-core~=1.24.0->azureml-sdk) (20.0.1)\n",
      "Requirement already up-to-date: msrest>=0.5.1 in /anaconda/envs/azureml_py36/lib/python3.6/site-packages (from azureml-core~=1.24.0->azureml-sdk) (0.6.21)\n",
      "Requirement already up-to-date: jsonpickle in /anaconda/envs/azureml_py36/lib/python3.6/site-packages (from azureml-core~=1.24.0->azureml-sdk) (2.0.0)\n",
      "Requirement already up-to-date: SecretStorage in /anaconda/envs/azureml_py36/lib/python3.6/site-packages (from azureml-core~=1.24.0->azureml-sdk) (3.3.1)\n",
      "Requirement already up-to-date: msrestazure>=0.4.33 in /anaconda/envs/azureml_py36/lib/python3.6/site-packages (from azureml-core~=1.24.0->azureml-sdk) (0.6.4)\n",
      "Requirement already up-to-date: azure-common>=1.1.12 in /anaconda/envs/azureml_py36/lib/python3.6/site-packages (from azureml-core~=1.24.0->azureml-sdk) (1.1.26)\n",
      "Requirement already up-to-date: azure-mgmt-keyvault<7.0.0,>=0.40.0 in /anaconda/envs/azureml_py36/lib/python3.6/site-packages (from azureml-core~=1.24.0->azureml-sdk) (2.2.0)\n",
      "Requirement already up-to-date: azure-graphrbac<1.0.0,>=0.40.0 in /anaconda/envs/azureml_py36/lib/python3.6/site-packages (from azureml-core~=1.24.0->azureml-sdk) (0.61.1)\n",
      "Requirement already up-to-date: adal>=1.2.0 in /anaconda/envs/azureml_py36/lib/python3.6/site-packages (from azureml-core~=1.24.0->azureml-sdk) (1.2.6)\n",
      "Requirement already up-to-date: backports.tempfile in /anaconda/envs/azureml_py36/lib/python3.6/site-packages (from azureml-core~=1.24.0->azureml-sdk) (1.0)\n",
      "Requirement already up-to-date: azureml-train-core~=1.24.0 in /anaconda/envs/azureml_py36/lib/python3.6/site-packages (from azureml-train~=1.24.0->azureml-sdk) (1.24.0)\n",
      "Requirement already up-to-date: azureml-pipeline-steps~=1.24.0 in /anaconda/envs/azureml_py36/lib/python3.6/site-packages (from azureml-pipeline~=1.24.0->azureml-sdk) (1.24.0)\n",
      "Requirement already up-to-date: azureml-pipeline-core~=1.24.0 in /anaconda/envs/azureml_py36/lib/python3.6/site-packages (from azureml-pipeline~=1.24.0->azureml-sdk) (1.24.0)\n",
      "Requirement already up-to-date: applicationinsights in /anaconda/envs/azureml_py36/lib/python3.6/site-packages (from azureml-telemetry~=1.24.0->azureml-train-automl-client~=1.24.0->azureml-sdk) (0.11.9)\n",
      "Requirement already up-to-date: azure-identity<1.5.0,>=1.2.0 in /anaconda/envs/azureml_py36/lib/python3.6/site-packages (from azureml-dataprep<2.12.0a,>=2.11.0a->azureml-dataset-runtime[fuse]~=1.24.0->azureml-sdk) (1.4.1)\n",
      "Requirement already up-to-date: azureml-dataprep-native<31.0.0,>=30.0.0 in /anaconda/envs/azureml_py36/lib/python3.6/site-packages (from azureml-dataprep<2.12.0a,>=2.11.0a->azureml-dataset-runtime[fuse]~=1.24.0->azureml-sdk) (30.0.0)\n",
      "Requirement already up-to-date: dotnetcore2<3.0.0,>=2.1.14 in /anaconda/envs/azureml_py36/lib/python3.6/site-packages (from azureml-dataprep<2.12.0a,>=2.11.0a->azureml-dataset-runtime[fuse]~=1.24.0->azureml-sdk) (2.1.20)\n",
      "Requirement already up-to-date: azureml-dataprep-rslex<1.10.0a,>=1.9.0dev0 in /anaconda/envs/azureml_py36/lib/python3.6/site-packages (from azureml-dataprep<2.12.0a,>=2.11.0a->azureml-dataset-runtime[fuse]~=1.24.0->azureml-sdk) (1.9.1)\n",
      "Requirement already up-to-date: cloudpickle<2.0.0,>=1.1.0 in /anaconda/envs/azureml_py36/lib/python3.6/site-packages (from azureml-dataprep<2.12.0a,>=2.11.0a->azureml-dataset-runtime[fuse]~=1.24.0->azureml-sdk) (1.6.0)\n",
      "Requirement already up-to-date: six>=1.4.0 in /anaconda/envs/azureml_py36/lib/python3.6/site-packages (from docker->azureml-core~=1.24.0->azureml-sdk) (1.15.0)\n"
     ]
    },
    {
     "name": "stdout",
     "output_type": "stream",
     "text": [
      "Requirement already up-to-date: websocket-client>=0.32.0 in /anaconda/envs/azureml_py36/lib/python3.6/site-packages (from docker->azureml-core~=1.24.0->azureml-sdk) (0.58.0)\n",
      "Requirement already up-to-date: pyasn1>=0.1.1 in /anaconda/envs/azureml_py36/lib/python3.6/site-packages (from ndg-httpsclient->azureml-core~=1.24.0->azureml-sdk) (0.4.8)\n",
      "Requirement already up-to-date: ruamel.yaml.clib>=0.1.2; platform_python_implementation == \"CPython\" and python_version < \"3.10\" in /anaconda/envs/azureml_py36/lib/python3.6/site-packages (from ruamel.yaml>=0.15.35->azureml-core~=1.24.0->azureml-sdk) (0.2.2)\n",
      "Requirement already up-to-date: cffi>=1.12 in /anaconda/envs/azureml_py36/lib/python3.6/site-packages (from cryptography!=1.9,!=2.0.*,!=2.1.*,!=2.2.*,<4.0.0->azureml-core~=1.24.0->azureml-sdk) (1.14.5)\n",
      "Requirement already up-to-date: certifi>=2017.4.17 in /anaconda/envs/azureml_py36/lib/python3.6/site-packages (from requests<3.0.0,>=2.19.1->azureml-core~=1.24.0->azureml-sdk) (2020.12.5)\n",
      "Requirement already up-to-date: chardet<5,>=3.0.2 in /anaconda/envs/azureml_py36/lib/python3.6/site-packages (from requests<3.0.0,>=2.19.1->azureml-core~=1.24.0->azureml-sdk) (4.0.0)\n",
      "Requirement already up-to-date: idna<3,>=2.5 in /anaconda/envs/azureml_py36/lib/python3.6/site-packages (from requests<3.0.0,>=2.19.1->azureml-core~=1.24.0->azureml-sdk) (2.10)\n",
      "Requirement already up-to-date: isodate>=0.6.0 in /anaconda/envs/azureml_py36/lib/python3.6/site-packages (from msrest>=0.5.1->azureml-core~=1.24.0->azureml-sdk) (0.6.0)\n",
      "Requirement already up-to-date: requests-oauthlib>=0.5.0 in /anaconda/envs/azureml_py36/lib/python3.6/site-packages (from msrest>=0.5.1->azureml-core~=1.24.0->azureml-sdk) (1.3.0)\n",
      "Requirement already up-to-date: importlib-metadata; python_version < \"3.8\" in /anaconda/envs/azureml_py36/lib/python3.6/site-packages (from jsonpickle->azureml-core~=1.24.0->azureml-sdk) (3.7.2)\n",
      "Requirement already up-to-date: jeepney>=0.6 in /anaconda/envs/azureml_py36/lib/python3.6/site-packages (from SecretStorage->azureml-core~=1.24.0->azureml-sdk) (0.6.0)\n",
      "Requirement already up-to-date: backports.weakref in /anaconda/envs/azureml_py36/lib/python3.6/site-packages (from backports.tempfile->azureml-core~=1.24.0->azureml-sdk) (1.0.post1)\n",
      "Requirement already up-to-date: azureml-train-restclients-hyperdrive~=1.24.0 in /anaconda/envs/azureml_py36/lib/python3.6/site-packages (from azureml-train-core~=1.24.0->azureml-train~=1.24.0->azureml-sdk) (1.24.0)\n",
      "Requirement already up-to-date: azure-core<2.0.0,>=1.0.0 in /anaconda/envs/azureml_py36/lib/python3.6/site-packages (from azure-identity<1.5.0,>=1.2.0->azureml-dataprep<2.12.0a,>=2.11.0a->azureml-dataset-runtime[fuse]~=1.24.0->azureml-sdk) (1.12.0)\n",
      "Requirement already up-to-date: msal-extensions~=0.2.2 in /anaconda/envs/azureml_py36/lib/python3.6/site-packages (from azure-identity<1.5.0,>=1.2.0->azureml-dataprep<2.12.0a,>=2.11.0a->azureml-dataset-runtime[fuse]~=1.24.0->azureml-sdk) (0.2.2)\n",
      "Requirement already up-to-date: msal<2.0.0,>=1.3.0 in /anaconda/envs/azureml_py36/lib/python3.6/site-packages (from azure-identity<1.5.0,>=1.2.0->azureml-dataprep<2.12.0a,>=2.11.0a->azureml-dataset-runtime[fuse]~=1.24.0->azureml-sdk) (1.10.0)\n",
      "Requirement already up-to-date: distro>=1.2.0 in /anaconda/envs/azureml_py36/lib/python3.6/site-packages (from dotnetcore2<3.0.0,>=2.1.14->azureml-dataprep<2.12.0a,>=2.11.0a->azureml-dataset-runtime[fuse]~=1.24.0->azureml-sdk) (1.5.0)\n",
      "Requirement already up-to-date: pycparser in /anaconda/envs/azureml_py36/lib/python3.6/site-packages (from cffi>=1.12->cryptography!=1.9,!=2.0.*,!=2.1.*,!=2.2.*,<4.0.0->azureml-core~=1.24.0->azureml-sdk) (2.20)\n",
      "Requirement already up-to-date: oauthlib>=3.0.0 in /anaconda/envs/azureml_py36/lib/python3.6/site-packages (from requests-oauthlib>=0.5.0->msrest>=0.5.1->azureml-core~=1.24.0->azureml-sdk) (3.1.0)\n",
      "Requirement already up-to-date: zipp>=0.5 in /anaconda/envs/azureml_py36/lib/python3.6/site-packages (from importlib-metadata; python_version < \"3.8\"->jsonpickle->azureml-core~=1.24.0->azureml-sdk) (3.4.1)\n",
      "Requirement already up-to-date: typing-extensions>=3.6.4; python_version < \"3.8\" in /anaconda/envs/azureml_py36/lib/python3.6/site-packages (from importlib-metadata; python_version < \"3.8\"->jsonpickle->azureml-core~=1.24.0->azureml-sdk) (3.7.4.3)\n",
      "Requirement already up-to-date: portalocker~=1.0; platform_system != \"Windows\" in /anaconda/envs/azureml_py36/lib/python3.6/site-packages (from msal-extensions~=0.2.2->azure-identity<1.5.0,>=1.2.0->azureml-dataprep<2.12.0a,>=2.11.0a->azureml-dataset-runtime[fuse]~=1.24.0->azureml-sdk) (1.7.1)\n"
     ]
    }
   ],
   "source": [
    "!pip install --upgrade --upgrade-strategy eager azureml-sdk"
   ]
  },
  {
   "cell_type": "code",
   "execution_count": 3,
   "metadata": {
    "gather": {
     "logged": 1598423888013
    },
    "jupyter": {
     "outputs_hidden": false,
     "source_hidden": false
    },
    "nteract": {
     "transient": {
      "deleting": false
     }
    }
   },
   "outputs": [],
   "source": [
    "from azureml.core.experiment import Experiment\n",
    "from azureml.core.workspace import Workspace\n",
    "\n",
    "from azureml.core.compute import AmlCompute\n",
    "from azureml.core.compute import ComputeTarget\n",
    "from azureml.core.compute_target import ComputeTargetException\n",
    "\n",
    "import azureml.core\n",
    "from azureml.train.automl import AutoMLConfig\n",
    "from azureml.core.dataset import Dataset\n",
    "from azureml.data.dataset_factory import TabularDatasetFactory\n",
    "\n",
    "from sklearn.model_selection import train_test_split\n",
    "\n",
    "import pandas as pd\n",
    "from azureml.widgets import RunDetails"
   ]
  },
  {
   "cell_type": "code",
   "execution_count": 4,
   "metadata": {},
   "outputs": [
    {
     "data": {
      "text/plain": [
       "'1.24.0'"
      ]
     },
     "execution_count": 4,
     "metadata": {},
     "output_type": "execute_result"
    }
   ],
   "source": [
    "azureml.core.__version__"
   ]
  },
  {
   "cell_type": "markdown",
   "metadata": {},
   "source": [
    "## Dataset\n",
    "\n",
    "### Overview\n",
    "TODO: In this markdown cell, give an overview of the dataset you are using. Also mention the task you will be performing.\n",
    "\n",
    "\n",
    "TODO: Get data. In the cell below, write code to access the data you will be using in this project. Remember that the dataset needs to be external."
   ]
  },
  {
   "cell_type": "code",
   "execution_count": 5,
   "metadata": {
    "gather": {
     "logged": 1598423890461
    },
    "jupyter": {
     "outputs_hidden": false,
     "source_hidden": false
    },
    "nteract": {
     "transient": {
      "deleting": false
     }
    }
   },
   "outputs": [],
   "source": [
    "ws = Workspace.from_config()\n",
    "\n",
    "# choose a name for experiment\n",
    "experiment_name = 'automl_experiment'\n",
    "\n",
    "experiment=Experiment(ws, experiment_name)"
   ]
  },
  {
   "cell_type": "code",
   "execution_count": 6,
   "metadata": {},
   "outputs": [
    {
     "name": "stdout",
     "output_type": "stream",
     "text": [
      "Found existing cluster, use it.\n",
      "Succeeded\n",
      "AmlCompute wait for completion finished\n",
      "\n",
      "Minimum number of nodes requested have been provisioned\n"
     ]
    }
   ],
   "source": [
    "cpu_cluster_name = \"cpu-cluster\"\n",
    "\n",
    "# Verify that cluster does not exist already\n",
    "try:\n",
    "    cpu_cluster = ComputeTarget(workspace=ws, name=cpu_cluster_name)\n",
    "    print('Found existing cluster, use it.')\n",
    "except ComputeTargetException:\n",
    "    compute_config = AmlCompute.provisioning_configuration(vm_size='STANDARD_D2_V2',\n",
    "                                                            max_nodes=4)\n",
    "    cpu_cluster = ComputeTarget.create(ws, cpu_cluster_name, compute_config)\n",
    "\n",
    "cpu_cluster.wait_for_completion(show_output=True)"
   ]
  },
  {
   "cell_type": "code",
   "execution_count": 7,
   "metadata": {},
   "outputs": [
    {
     "data": {
      "text/html": [
       "<div>\n",
       "<style scoped>\n",
       "    .dataframe tbody tr th:only-of-type {\n",
       "        vertical-align: middle;\n",
       "    }\n",
       "\n",
       "    .dataframe tbody tr th {\n",
       "        vertical-align: top;\n",
       "    }\n",
       "\n",
       "    .dataframe thead th {\n",
       "        text-align: right;\n",
       "    }\n",
       "</style>\n",
       "<table border=\"1\" class=\"dataframe\">\n",
       "  <thead>\n",
       "    <tr style=\"text-align: right;\">\n",
       "      <th></th>\n",
       "      <th>age</th>\n",
       "      <th>anaemia</th>\n",
       "      <th>creatinine_phosphokinase</th>\n",
       "      <th>diabetes</th>\n",
       "      <th>ejection_fraction</th>\n",
       "      <th>high_blood_pressure</th>\n",
       "      <th>platelets</th>\n",
       "      <th>serum_creatinine</th>\n",
       "      <th>serum_sodium</th>\n",
       "      <th>sex</th>\n",
       "      <th>smoking</th>\n",
       "      <th>time</th>\n",
       "      <th>DEATH_EVENT</th>\n",
       "    </tr>\n",
       "  </thead>\n",
       "  <tbody>\n",
       "    <tr>\n",
       "      <th>0</th>\n",
       "      <td>75.0</td>\n",
       "      <td>0</td>\n",
       "      <td>582</td>\n",
       "      <td>0</td>\n",
       "      <td>20</td>\n",
       "      <td>1</td>\n",
       "      <td>265000.00</td>\n",
       "      <td>1.9</td>\n",
       "      <td>130</td>\n",
       "      <td>1</td>\n",
       "      <td>0</td>\n",
       "      <td>4</td>\n",
       "      <td>1</td>\n",
       "    </tr>\n",
       "    <tr>\n",
       "      <th>1</th>\n",
       "      <td>55.0</td>\n",
       "      <td>0</td>\n",
       "      <td>7861</td>\n",
       "      <td>0</td>\n",
       "      <td>38</td>\n",
       "      <td>0</td>\n",
       "      <td>263358.03</td>\n",
       "      <td>1.1</td>\n",
       "      <td>136</td>\n",
       "      <td>1</td>\n",
       "      <td>0</td>\n",
       "      <td>6</td>\n",
       "      <td>1</td>\n",
       "    </tr>\n",
       "    <tr>\n",
       "      <th>2</th>\n",
       "      <td>65.0</td>\n",
       "      <td>0</td>\n",
       "      <td>146</td>\n",
       "      <td>0</td>\n",
       "      <td>20</td>\n",
       "      <td>0</td>\n",
       "      <td>162000.00</td>\n",
       "      <td>1.3</td>\n",
       "      <td>129</td>\n",
       "      <td>1</td>\n",
       "      <td>1</td>\n",
       "      <td>7</td>\n",
       "      <td>1</td>\n",
       "    </tr>\n",
       "    <tr>\n",
       "      <th>3</th>\n",
       "      <td>50.0</td>\n",
       "      <td>1</td>\n",
       "      <td>111</td>\n",
       "      <td>0</td>\n",
       "      <td>20</td>\n",
       "      <td>0</td>\n",
       "      <td>210000.00</td>\n",
       "      <td>1.9</td>\n",
       "      <td>137</td>\n",
       "      <td>1</td>\n",
       "      <td>0</td>\n",
       "      <td>7</td>\n",
       "      <td>1</td>\n",
       "    </tr>\n",
       "    <tr>\n",
       "      <th>4</th>\n",
       "      <td>65.0</td>\n",
       "      <td>1</td>\n",
       "      <td>160</td>\n",
       "      <td>1</td>\n",
       "      <td>20</td>\n",
       "      <td>0</td>\n",
       "      <td>327000.00</td>\n",
       "      <td>2.7</td>\n",
       "      <td>116</td>\n",
       "      <td>0</td>\n",
       "      <td>0</td>\n",
       "      <td>8</td>\n",
       "      <td>1</td>\n",
       "    </tr>\n",
       "  </tbody>\n",
       "</table>\n",
       "</div>"
      ],
      "text/plain": [
       "    age  anaemia  creatinine_phosphokinase  diabetes  ejection_fraction  \\\n",
       "0  75.0        0                       582         0                 20   \n",
       "1  55.0        0                      7861         0                 38   \n",
       "2  65.0        0                       146         0                 20   \n",
       "3  50.0        1                       111         0                 20   \n",
       "4  65.0        1                       160         1                 20   \n",
       "\n",
       "   high_blood_pressure  platelets  serum_creatinine  serum_sodium  sex  \\\n",
       "0                    1  265000.00               1.9           130    1   \n",
       "1                    0  263358.03               1.1           136    1   \n",
       "2                    0  162000.00               1.3           129    1   \n",
       "3                    0  210000.00               1.9           137    1   \n",
       "4                    0  327000.00               2.7           116    0   \n",
       "\n",
       "   smoking  time  DEATH_EVENT  \n",
       "0        0     4            1  \n",
       "1        0     6            1  \n",
       "2        1     7            1  \n",
       "3        0     7            1  \n",
       "4        0     8            1  "
      ]
     },
     "execution_count": 7,
     "metadata": {},
     "output_type": "execute_result"
    }
   ],
   "source": [
    "dataset = pd.read_csv(\"heart_failure_clinical_records_dataset.csv\")\n",
    "\n",
    "dataset.head()"
   ]
  },
  {
   "cell_type": "code",
   "execution_count": 8,
   "metadata": {},
   "outputs": [
    {
     "name": "stdout",
     "output_type": "stream",
     "text": [
      "Uploading an estimated of 1 files\n",
      "Uploading ./training/train_data.csv\n",
      "Uploaded ./training/train_data.csv, 1 files out of an estimated total of 1\n",
      "Uploaded 1 files\n"
     ]
    },
    {
     "data": {
      "text/plain": [
       "$AZUREML_DATAREFERENCE_c7aa87162ca549d182c676e69d7f9c1b"
      ]
     },
     "execution_count": 8,
     "metadata": {},
     "output_type": "execute_result"
    }
   ],
   "source": [
    "train, test = train_test_split(dataset, random_state=500, shuffle=True)\n",
    "\n",
    "if \"training\" not in os.listdir():\n",
    "    os.mkdir(\"./training\")\n",
    "\n",
    "if \"models\" not in os.listdir():\n",
    "    os.mkdir(\"./models\")\n",
    "if \"outputs\" not in os.listdir():\n",
    "    os.mkdir(\"./outputs\")\n",
    "\n",
    "train.to_csv(\"training/train_data.csv\", index = False)\n",
    "\n",
    "data_store = ws.get_default_datastore()\n",
    "data_store.upload(src_dir = \"./training\", target_path = 'udacity-project', overwrite = True,  show_progress = True)"
   ]
  },
  {
   "cell_type": "code",
   "execution_count": 9,
   "metadata": {},
   "outputs": [],
   "source": [
    "train_data = Dataset.Tabular.from_delimited_files(path=data_store.path(\"udacity-project/train_data.csv\"))"
   ]
  },
  {
   "cell_type": "markdown",
   "metadata": {},
   "source": [
    "## AutoML Configuration\n",
    "\n",
    "TODO: Explain why you chose the automl settings and cofiguration you used below."
   ]
  },
  {
   "cell_type": "code",
   "execution_count": 10,
   "metadata": {
    "gather": {
     "logged": 1598429217746
    },
    "jupyter": {
     "outputs_hidden": false,
     "source_hidden": false
    },
    "nteract": {
     "transient": {
      "deleting": false
     }
    }
   },
   "outputs": [],
   "source": [
    "# TODO: Put your automl settings here\n",
    "automl_settings = {    \n",
    "    \"experiment_timeout_minutes\": 20,\n",
    "    \"max_concurrent_iterations\": 5,\n",
    "    \"primary_metric\" : 'accuracy'}\n",
    "\n",
    "# TODO: Put your automl config here\n",
    "automl_config = AutoMLConfig(\n",
    "    task=\"classification\",\n",
    "    training_data= train_data,\n",
    "    featurization=\"auto\",\n",
    "    enable_early_stopping=True,\n",
    "    label_column_name= \"DEATH_EVENT\",\n",
    "    n_cross_validations=4,\n",
    "    compute_target=cpu_cluster,\n",
    "    blocked_models = ['XGBoostClassifier'],\n",
    "    **automl_settings)"
   ]
  },
  {
   "cell_type": "code",
   "execution_count": 11,
   "metadata": {
    "gather": {
     "logged": 1598431107951
    },
    "jupyter": {
     "outputs_hidden": false,
     "source_hidden": false
    },
    "nteract": {
     "transient": {
      "deleting": false
     }
    }
   },
   "outputs": [
    {
     "name": "stdout",
     "output_type": "stream",
     "text": [
      "Running on remote.\n",
      "No run_configuration provided, running on cpu-cluster with default configuration\n",
      "Running on remote compute: cpu-cluster\n",
      "Parent Run ID: AutoML_8af90426-71d5-4962-9d1f-17b56aa9021f\n",
      "\n",
      "Current status: FeaturesGeneration. Generating features for the dataset.\n",
      "Current status: ModelSelection. Beginning model selection.\n",
      "\n",
      "****************************************************************************************************\n",
      "DATA GUARDRAILS: \n",
      "\n",
      "TYPE:         Class balancing detection\n",
      "STATUS:       PASSED\n",
      "DESCRIPTION:  Your inputs were analyzed, and all classes are balanced in your training data.\n",
      "              Learn more about imbalanced data: https://aka.ms/AutomatedMLImbalancedData\n",
      "\n",
      "****************************************************************************************************\n",
      "\n",
      "TYPE:         Missing feature values imputation\n",
      "STATUS:       PASSED\n",
      "DESCRIPTION:  No feature missing values were detected in the training data.\n",
      "              Learn more about missing value imputation: https://aka.ms/AutomatedMLFeaturization\n",
      "\n",
      "****************************************************************************************************\n",
      "\n",
      "TYPE:         High cardinality feature detection\n",
      "STATUS:       PASSED\n",
      "DESCRIPTION:  Your inputs were analyzed, and no high cardinality features were detected.\n",
      "              Learn more about high cardinality feature handling: https://aka.ms/AutomatedMLFeaturization\n",
      "\n",
      "****************************************************************************************************\n",
      "\n",
      "****************************************************************************************************\n",
      "ITERATION: The iteration being evaluated.\n",
      "PIPELINE: A summary description of the pipeline being evaluated.\n",
      "DURATION: Time taken for the current iteration.\n",
      "METRIC: The result of computing score on the fitted pipeline.\n",
      "BEST: The best observed score thus far.\n",
      "****************************************************************************************************\n",
      "\n",
      " ITERATION   PIPELINE                                       DURATION      METRIC      BEST\n",
      "         1   MinMaxScaler RandomForest                      0:00:57       0.8125    0.8125\n",
      "         0   MaxAbsScaler LightGBM                          0:00:52       0.8259    0.8259\n",
      "         4   MinMaxScaler RandomForest                      0:00:42       0.8036    0.8259\n",
      "         6   StandardScalerWrapper KNN                      0:00:48       0.7589    0.8259\n",
      "         2   MinMaxScaler RandomForest                      0:01:55       0.8170    0.8259\n",
      "         3   MinMaxScaler RandomForest                      0:01:51       0.8482    0.8482\n",
      "         5   RobustScaler LogisticRegression                0:02:01       0.8125    0.8482\n",
      "         7   MinMaxScaler SVM                               0:00:54       0.7366    0.8482\n",
      "        10   StandardScalerWrapper SGD                      0:00:48       0.8348    0.8482\n",
      "         8   MinMaxScaler SVM                               0:00:48       0.7366    0.8482\n",
      "         9   MinMaxScaler LogisticRegression                0:00:57       0.8304    0.8482\n",
      "        11   MaxAbsScaler RandomForest                      0:00:48       0.7545    0.8482\n",
      "        13   StandardScalerWrapper RandomForest             0:00:46       0.8393    0.8482\n",
      "        12   StandardScalerWrapper GradientBoosting         0:00:55       0.8437    0.8482\n",
      "        14   RobustScaler RandomForest                      0:00:50       0.8393    0.8482\n",
      "        15   RobustScaler ExtremeRandomTrees                0:00:44       0.8527    0.8527\n",
      "        16   MaxAbsScaler LightGBM                          0:00:50       0.7366    0.8527\n",
      "        17   StandardScalerWrapper RandomForest             0:00:56       0.8125    0.8527\n",
      "        18   StandardScalerWrapper RandomForest             0:00:50       0.8304    0.8527\n",
      "        19   MinMaxScaler RandomForest                      0:00:49       0.7679    0.8527\n",
      "        20   MinMaxScaler LightGBM                          0:00:48       0.7679    0.8527\n",
      "        21   MaxAbsScaler RandomForest                      0:00:50       0.8304    0.8527\n",
      "        22   MaxAbsScaler ExtremeRandomTrees                0:00:47       0.8438    0.8527\n",
      "        23   SparseNormalizer LightGBM                      0:01:05       0.8304    0.8527\n",
      "        24   MaxAbsScaler LightGBM                          0:00:47       0.8259    0.8527\n",
      "        25   MaxAbsScaler ExtremeRandomTrees                0:00:47       0.6518    0.8527\n",
      "        27   StandardScalerWrapper LightGBM                 0:00:45       0.8080    0.8527\n",
      "        26   MinMaxScaler LightGBM                          0:00:52       0.8259    0.8527\n",
      "        28   StandardScalerWrapper RandomForest             0:00:56       0.8393    0.8527\n",
      "        29   MinMaxScaler LinearSVM                         0:00:49       0.7768    0.8527\n",
      "        30   MaxAbsScaler ExtremeRandomTrees                0:01:02       0.6562    0.8527\n",
      "        31   StandardScalerWrapper LightGBM                 0:00:59       0.8036    0.8527\n",
      "        32   StandardScalerWrapper RandomForest             0:00:53       0.8259    0.8527\n",
      "        33   MaxAbsScaler RandomForest                      0:00:59       0.8214    0.8527\n",
      "        34   RobustScaler RandomForest                      0:00:44       0.8170    0.8527\n",
      "        35   RobustScaler ExtremeRandomTrees                0:00:25          nan    0.8527\n",
      "        36                                                  0:00:34          nan    0.8527\n",
      "        37                                                  0:00:16          nan    0.8527\n",
      "        38    VotingEnsemble                                0:01:07       0.8616    0.8616\n",
      "        39    StackEnsemble                                 0:01:11       0.8348    0.8616\n"
     ]
    }
   ],
   "source": [
    "# TODO: Submit your experiment\n",
    "remote_run = experiment.submit(automl_config, show_output = True)"
   ]
  },
  {
   "cell_type": "markdown",
   "metadata": {},
   "source": [
    "## Run Details\n",
    "\n",
    "OPTIONAL: Write about the different models trained and their performance. Why do you think some models did better than others?\n",
    "\n",
    "TODO: In the cell below, use the `RunDetails` widget to show the different experiments."
   ]
  },
  {
   "cell_type": "code",
   "execution_count": 12,
   "metadata": {
    "gather": {
     "logged": 1598431121770
    },
    "jupyter": {
     "outputs_hidden": false,
     "source_hidden": false
    },
    "nteract": {
     "transient": {
      "deleting": false
     }
    }
   },
   "outputs": [
    {
     "data": {
      "application/vnd.jupyter.widget-view+json": {
       "model_id": "1a024d7ed7fa4b588d0462abb0421579",
       "version_major": 2,
       "version_minor": 0
      },
      "text/plain": [
       "_AutoMLWidget(widget_settings={'childWidgetDisplay': 'popup', 'send_telemetry': False, 'log_level': 'INFO', 's…"
      ]
     },
     "metadata": {},
     "output_type": "display_data"
    },
    {
     "data": {
      "application/aml.mini.widget.v1": "{\"status\": \"Completed\", \"workbench_run_details_uri\": \"https://ml.azure.com/experiments/automl_experiment/runs/AutoML_8af90426-71d5-4962-9d1f-17b56aa9021f?wsid=/subscriptions/6b4af8be-9931-443e-90f6-c4c34a1f9737/resourcegroups/aml-quickstarts-140332/workspaces/quick-starts-ws-140332\", \"run_id\": \"AutoML_8af90426-71d5-4962-9d1f-17b56aa9021f\", \"run_properties\": {\"run_id\": \"AutoML_8af90426-71d5-4962-9d1f-17b56aa9021f\", \"created_utc\": \"2021-03-13T13:55:42.341468Z\", \"properties\": {\"num_iterations\": \"1000\", \"training_type\": \"TrainFull\", \"acquisition_function\": \"EI\", \"primary_metric\": \"accuracy\", \"train_split\": \"0\", \"acquisition_parameter\": \"0\", \"num_cross_validation\": \"4\", \"target\": \"cpu-cluster\", \"AMLSettingsJsonString\": \"{\\\"path\\\":null,\\\"name\\\":\\\"automl_experiment\\\",\\\"subscription_id\\\":\\\"6b4af8be-9931-443e-90f6-c4c34a1f9737\\\",\\\"resource_group\\\":\\\"aml-quickstarts-140332\\\",\\\"workspace_name\\\":\\\"quick-starts-ws-140332\\\",\\\"region\\\":\\\"southcentralus\\\",\\\"compute_target\\\":\\\"cpu-cluster\\\",\\\"spark_service\\\":null,\\\"azure_service\\\":\\\"remote\\\",\\\"many_models\\\":false,\\\"pipeline_fetch_max_batch_size\\\":1,\\\"enable_batch_run\\\":false,\\\"iterations\\\":1000,\\\"primary_metric\\\":\\\"accuracy\\\",\\\"task_type\\\":\\\"classification\\\",\\\"data_script\\\":null,\\\"validation_size\\\":0.0,\\\"n_cross_validations\\\":4,\\\"y_min\\\":null,\\\"y_max\\\":null,\\\"num_classes\\\":null,\\\"featurization\\\":\\\"auto\\\",\\\"_ignore_package_version_incompatibilities\\\":false,\\\"is_timeseries\\\":false,\\\"max_cores_per_iteration\\\":1,\\\"max_concurrent_iterations\\\":5,\\\"iteration_timeout_minutes\\\":null,\\\"mem_in_mb\\\":null,\\\"enforce_time_on_windows\\\":false,\\\"experiment_timeout_minutes\\\":20,\\\"experiment_exit_score\\\":null,\\\"whitelist_models\\\":null,\\\"blacklist_algos\\\":[\\\"XGBoostClassifier\\\",\\\"TensorFlowLinearClassifier\\\",\\\"TensorFlowDNN\\\"],\\\"supported_models\\\":[\\\"XGBoostClassifier\\\",\\\"BernoulliNaiveBayes\\\",\\\"DecisionTree\\\",\\\"SGD\\\",\\\"ExtremeRandomTrees\\\",\\\"AveragedPerceptronClassifier\\\",\\\"TensorFlowLinearClassifier\\\",\\\"LinearSVM\\\",\\\"SVM\\\",\\\"LightGBM\\\",\\\"RandomForest\\\",\\\"TensorFlowDNN\\\",\\\"KNN\\\",\\\"LogisticRegression\\\",\\\"MultinomialNaiveBayes\\\",\\\"GradientBoosting\\\"],\\\"private_models\\\":[],\\\"auto_blacklist\\\":true,\\\"blacklist_samples_reached\\\":false,\\\"exclude_nan_labels\\\":true,\\\"verbosity\\\":20,\\\"_debug_log\\\":\\\"azureml_automl.log\\\",\\\"show_warnings\\\":false,\\\"model_explainability\\\":true,\\\"service_url\\\":null,\\\"sdk_url\\\":null,\\\"sdk_packages\\\":null,\\\"enable_onnx_compatible_models\\\":false,\\\"enable_split_onnx_featurizer_estimator_models\\\":false,\\\"vm_type\\\":\\\"STANDARD_DS3_V2\\\",\\\"telemetry_verbosity\\\":20,\\\"send_telemetry\\\":true,\\\"enable_dnn\\\":false,\\\"scenario\\\":\\\"SDK-1.13.0\\\",\\\"environment_label\\\":null,\\\"save_mlflow\\\":false,\\\"force_text_dnn\\\":false,\\\"enable_feature_sweeping\\\":true,\\\"enable_early_stopping\\\":true,\\\"early_stopping_n_iters\\\":10,\\\"metrics\\\":null,\\\"enable_metric_confidence\\\":false,\\\"enable_ensembling\\\":true,\\\"enable_stack_ensembling\\\":true,\\\"ensemble_iterations\\\":15,\\\"enable_tf\\\":false,\\\"enable_subsampling\\\":null,\\\"subsample_seed\\\":null,\\\"enable_nimbusml\\\":false,\\\"enable_streaming\\\":false,\\\"force_streaming\\\":false,\\\"track_child_runs\\\":true,\\\"allowed_private_models\\\":[],\\\"label_column_name\\\":\\\"DEATH_EVENT\\\",\\\"weight_column_name\\\":null,\\\"cv_split_column_names\\\":null,\\\"enable_local_managed\\\":false,\\\"_local_managed_run_id\\\":null,\\\"cost_mode\\\":1,\\\"lag_length\\\":0,\\\"metric_operation\\\":\\\"maximize\\\",\\\"preprocess\\\":true}\", \"DataPrepJsonString\": \"{\\\\\\\"training_data\\\\\\\": \\\\\\\"{\\\\\\\\\\\\\\\"blocks\\\\\\\\\\\\\\\": [{\\\\\\\\\\\\\\\"id\\\\\\\\\\\\\\\": \\\\\\\\\\\\\\\"cfb3dd56-b01c-4ba3-9b74-de1c291e2e1e\\\\\\\\\\\\\\\", \\\\\\\\\\\\\\\"type\\\\\\\\\\\\\\\": \\\\\\\\\\\\\\\"Microsoft.DPrep.GetDatastoreFilesBlock\\\\\\\\\\\\\\\", \\\\\\\\\\\\\\\"arguments\\\\\\\\\\\\\\\": {\\\\\\\\\\\\\\\"datastores\\\\\\\\\\\\\\\": [{\\\\\\\\\\\\\\\"datastoreName\\\\\\\\\\\\\\\": \\\\\\\\\\\\\\\"workspaceblobstore\\\\\\\\\\\\\\\", \\\\\\\\\\\\\\\"path\\\\\\\\\\\\\\\": \\\\\\\\\\\\\\\"udacity-project/train_data.csv\\\\\\\\\\\\\\\", \\\\\\\\\\\\\\\"resourceGroup\\\\\\\\\\\\\\\": \\\\\\\\\\\\\\\"aml-quickstarts-140332\\\\\\\\\\\\\\\", \\\\\\\\\\\\\\\"subscription\\\\\\\\\\\\\\\": \\\\\\\\\\\\\\\"6b4af8be-9931-443e-90f6-c4c34a1f9737\\\\\\\\\\\\\\\", \\\\\\\\\\\\\\\"workspaceName\\\\\\\\\\\\\\\": \\\\\\\\\\\\\\\"quick-starts-ws-140332\\\\\\\\\\\\\\\"}]}, \\\\\\\\\\\\\\\"localData\\\\\\\\\\\\\\\": {}, \\\\\\\\\\\\\\\"isEnabled\\\\\\\\\\\\\\\": true, \\\\\\\\\\\\\\\"name\\\\\\\\\\\\\\\": null, \\\\\\\\\\\\\\\"annotation\\\\\\\\\\\\\\\": null}, {\\\\\\\\\\\\\\\"id\\\\\\\\\\\\\\\": \\\\\\\\\\\\\\\"2e90e684-d789-4750-8470-bebf672a935c\\\\\\\\\\\\\\\", \\\\\\\\\\\\\\\"type\\\\\\\\\\\\\\\": \\\\\\\\\\\\\\\"Microsoft.DPrep.ParseDelimitedBlock\\\\\\\\\\\\\\\", \\\\\\\\\\\\\\\"arguments\\\\\\\\\\\\\\\": {\\\\\\\\\\\\\\\"columnHeadersMode\\\\\\\\\\\\\\\": 3, \\\\\\\\\\\\\\\"fileEncoding\\\\\\\\\\\\\\\": 0, \\\\\\\\\\\\\\\"handleQuotedLineBreaks\\\\\\\\\\\\\\\": false, \\\\\\\\\\\\\\\"preview\\\\\\\\\\\\\\\": false, \\\\\\\\\\\\\\\"separator\\\\\\\\\\\\\\\": \\\\\\\\\\\\\\\",\\\\\\\\\\\\\\\", \\\\\\\\\\\\\\\"skipRows\\\\\\\\\\\\\\\": 0, \\\\\\\\\\\\\\\"skipRowsMode\\\\\\\\\\\\\\\": 0}, \\\\\\\\\\\\\\\"localData\\\\\\\\\\\\\\\": {}, \\\\\\\\\\\\\\\"isEnabled\\\\\\\\\\\\\\\": true, \\\\\\\\\\\\\\\"name\\\\\\\\\\\\\\\": null, \\\\\\\\\\\\\\\"annotation\\\\\\\\\\\\\\\": null}, {\\\\\\\\\\\\\\\"id\\\\\\\\\\\\\\\": \\\\\\\\\\\\\\\"79861e51-b3e1-45d6-9099-dd84ac404594\\\\\\\\\\\\\\\", \\\\\\\\\\\\\\\"type\\\\\\\\\\\\\\\": \\\\\\\\\\\\\\\"Microsoft.DPrep.DropColumnsBlock\\\\\\\\\\\\\\\", \\\\\\\\\\\\\\\"arguments\\\\\\\\\\\\\\\": {\\\\\\\\\\\\\\\"columns\\\\\\\\\\\\\\\": {\\\\\\\\\\\\\\\"type\\\\\\\\\\\\\\\": 0, \\\\\\\\\\\\\\\"details\\\\\\\\\\\\\\\": {\\\\\\\\\\\\\\\"selectedColumns\\\\\\\\\\\\\\\": [\\\\\\\\\\\\\\\"Path\\\\\\\\\\\\\\\"]}}}, \\\\\\\\\\\\\\\"localData\\\\\\\\\\\\\\\": {}, \\\\\\\\\\\\\\\"isEnabled\\\\\\\\\\\\\\\": true, \\\\\\\\\\\\\\\"name\\\\\\\\\\\\\\\": null, \\\\\\\\\\\\\\\"annotation\\\\\\\\\\\\\\\": null}, {\\\\\\\\\\\\\\\"id\\\\\\\\\\\\\\\": \\\\\\\\\\\\\\\"10135bce-5192-4cbb-9920-f5154c0ce21f\\\\\\\\\\\\\\\", \\\\\\\\\\\\\\\"type\\\\\\\\\\\\\\\": \\\\\\\\\\\\\\\"Microsoft.DPrep.SetColumnTypesBlock\\\\\\\\\\\\\\\", \\\\\\\\\\\\\\\"arguments\\\\\\\\\\\\\\\": {\\\\\\\\\\\\\\\"columnConversion\\\\\\\\\\\\\\\": [{\\\\\\\\\\\\\\\"column\\\\\\\\\\\\\\\": {\\\\\\\\\\\\\\\"type\\\\\\\\\\\\\\\": 2, \\\\\\\\\\\\\\\"details\\\\\\\\\\\\\\\": {\\\\\\\\\\\\\\\"selectedColumn\\\\\\\\\\\\\\\": \\\\\\\\\\\\\\\"age\\\\\\\\\\\\\\\"}}, \\\\\\\\\\\\\\\"typeProperty\\\\\\\\\\\\\\\": 3}, {\\\\\\\\\\\\\\\"column\\\\\\\\\\\\\\\": {\\\\\\\\\\\\\\\"type\\\\\\\\\\\\\\\": 2, \\\\\\\\\\\\\\\"details\\\\\\\\\\\\\\\": {\\\\\\\\\\\\\\\"selectedColumn\\\\\\\\\\\\\\\": \\\\\\\\\\\\\\\"anaemia\\\\\\\\\\\\\\\"}}, \\\\\\\\\\\\\\\"typeProperty\\\\\\\\\\\\\\\": 2}, {\\\\\\\\\\\\\\\"column\\\\\\\\\\\\\\\": {\\\\\\\\\\\\\\\"type\\\\\\\\\\\\\\\": 2, \\\\\\\\\\\\\\\"details\\\\\\\\\\\\\\\": {\\\\\\\\\\\\\\\"selectedColumn\\\\\\\\\\\\\\\": \\\\\\\\\\\\\\\"creatinine_phosphokinase\\\\\\\\\\\\\\\"}}, \\\\\\\\\\\\\\\"typeProperty\\\\\\\\\\\\\\\": 2}, {\\\\\\\\\\\\\\\"column\\\\\\\\\\\\\\\": {\\\\\\\\\\\\\\\"type\\\\\\\\\\\\\\\": 2, \\\\\\\\\\\\\\\"details\\\\\\\\\\\\\\\": {\\\\\\\\\\\\\\\"selectedColumn\\\\\\\\\\\\\\\": \\\\\\\\\\\\\\\"diabetes\\\\\\\\\\\\\\\"}}, \\\\\\\\\\\\\\\"typeProperty\\\\\\\\\\\\\\\": 2}, {\\\\\\\\\\\\\\\"column\\\\\\\\\\\\\\\": {\\\\\\\\\\\\\\\"type\\\\\\\\\\\\\\\": 2, \\\\\\\\\\\\\\\"details\\\\\\\\\\\\\\\": {\\\\\\\\\\\\\\\"selectedColumn\\\\\\\\\\\\\\\": \\\\\\\\\\\\\\\"ejection_fraction\\\\\\\\\\\\\\\"}}, \\\\\\\\\\\\\\\"typeProperty\\\\\\\\\\\\\\\": 2}, {\\\\\\\\\\\\\\\"column\\\\\\\\\\\\\\\": {\\\\\\\\\\\\\\\"type\\\\\\\\\\\\\\\": 2, \\\\\\\\\\\\\\\"details\\\\\\\\\\\\\\\": {\\\\\\\\\\\\\\\"selectedColumn\\\\\\\\\\\\\\\": \\\\\\\\\\\\\\\"high_blood_pressure\\\\\\\\\\\\\\\"}}, \\\\\\\\\\\\\\\"typeProperty\\\\\\\\\\\\\\\": 2}, {\\\\\\\\\\\\\\\"column\\\\\\\\\\\\\\\": {\\\\\\\\\\\\\\\"type\\\\\\\\\\\\\\\": 2, \\\\\\\\\\\\\\\"details\\\\\\\\\\\\\\\": {\\\\\\\\\\\\\\\"selectedColumn\\\\\\\\\\\\\\\": \\\\\\\\\\\\\\\"platelets\\\\\\\\\\\\\\\"}}, \\\\\\\\\\\\\\\"typeProperty\\\\\\\\\\\\\\\": 3}, {\\\\\\\\\\\\\\\"column\\\\\\\\\\\\\\\": {\\\\\\\\\\\\\\\"type\\\\\\\\\\\\\\\": 2, \\\\\\\\\\\\\\\"details\\\\\\\\\\\\\\\": {\\\\\\\\\\\\\\\"selectedColumn\\\\\\\\\\\\\\\": \\\\\\\\\\\\\\\"serum_creatinine\\\\\\\\\\\\\\\"}}, \\\\\\\\\\\\\\\"typeProperty\\\\\\\\\\\\\\\": 3}, {\\\\\\\\\\\\\\\"column\\\\\\\\\\\\\\\": {\\\\\\\\\\\\\\\"type\\\\\\\\\\\\\\\": 2, \\\\\\\\\\\\\\\"details\\\\\\\\\\\\\\\": {\\\\\\\\\\\\\\\"selectedColumn\\\\\\\\\\\\\\\": \\\\\\\\\\\\\\\"serum_sodium\\\\\\\\\\\\\\\"}}, \\\\\\\\\\\\\\\"typeProperty\\\\\\\\\\\\\\\": 2}, {\\\\\\\\\\\\\\\"column\\\\\\\\\\\\\\\": {\\\\\\\\\\\\\\\"type\\\\\\\\\\\\\\\": 2, \\\\\\\\\\\\\\\"details\\\\\\\\\\\\\\\": {\\\\\\\\\\\\\\\"selectedColumn\\\\\\\\\\\\\\\": \\\\\\\\\\\\\\\"sex\\\\\\\\\\\\\\\"}}, \\\\\\\\\\\\\\\"typeProperty\\\\\\\\\\\\\\\": 2}, {\\\\\\\\\\\\\\\"column\\\\\\\\\\\\\\\": {\\\\\\\\\\\\\\\"type\\\\\\\\\\\\\\\": 2, \\\\\\\\\\\\\\\"details\\\\\\\\\\\\\\\": {\\\\\\\\\\\\\\\"selectedColumn\\\\\\\\\\\\\\\": \\\\\\\\\\\\\\\"smoking\\\\\\\\\\\\\\\"}}, \\\\\\\\\\\\\\\"typeProperty\\\\\\\\\\\\\\\": 2}, {\\\\\\\\\\\\\\\"column\\\\\\\\\\\\\\\": {\\\\\\\\\\\\\\\"type\\\\\\\\\\\\\\\": 2, \\\\\\\\\\\\\\\"details\\\\\\\\\\\\\\\": {\\\\\\\\\\\\\\\"selectedColumn\\\\\\\\\\\\\\\": \\\\\\\\\\\\\\\"time\\\\\\\\\\\\\\\"}}, \\\\\\\\\\\\\\\"typeProperty\\\\\\\\\\\\\\\": 2}, {\\\\\\\\\\\\\\\"column\\\\\\\\\\\\\\\": {\\\\\\\\\\\\\\\"type\\\\\\\\\\\\\\\": 2, \\\\\\\\\\\\\\\"details\\\\\\\\\\\\\\\": {\\\\\\\\\\\\\\\"selectedColumn\\\\\\\\\\\\\\\": \\\\\\\\\\\\\\\"DEATH_EVENT\\\\\\\\\\\\\\\"}}, \\\\\\\\\\\\\\\"typeProperty\\\\\\\\\\\\\\\": 2}]}, \\\\\\\\\\\\\\\"localData\\\\\\\\\\\\\\\": {}, \\\\\\\\\\\\\\\"isEnabled\\\\\\\\\\\\\\\": true, \\\\\\\\\\\\\\\"name\\\\\\\\\\\\\\\": null, \\\\\\\\\\\\\\\"annotation\\\\\\\\\\\\\\\": null}], \\\\\\\\\\\\\\\"inspectors\\\\\\\\\\\\\\\": [], \\\\\\\\\\\\\\\"meta\\\\\\\\\\\\\\\": {\\\\\\\\\\\\\\\"savedDatasetId\\\\\\\\\\\\\\\": \\\\\\\\\\\\\\\"3e7a4598-8592-4d41-ad14-f634eb46bd18\\\\\\\\\\\\\\\", \\\\\\\\\\\\\\\"datasetType\\\\\\\\\\\\\\\": \\\\\\\\\\\\\\\"tabular\\\\\\\\\\\\\\\", \\\\\\\\\\\\\\\"subscriptionId\\\\\\\\\\\\\\\": \\\\\\\\\\\\\\\"6b4af8be-9931-443e-90f6-c4c34a1f9737\\\\\\\\\\\\\\\", \\\\\\\\\\\\\\\"workspaceId\\\\\\\\\\\\\\\": \\\\\\\\\\\\\\\"cac97f8a-ce68-40a8-be4b-32b66be2fb4a\\\\\\\\\\\\\\\", \\\\\\\\\\\\\\\"workspaceLocation\\\\\\\\\\\\\\\": \\\\\\\\\\\\\\\"southcentralus\\\\\\\\\\\\\\\", \\\\\\\\\\\\\\\"partition_keys\\\\\\\\\\\\\\\": \\\\\\\\\\\\\\\"true\\\\\\\\\\\\\\\"}}\\\\\\\", \\\\\\\"activities\\\\\\\": 0}\", \"EnableSubsampling\": null, \"runTemplate\": \"AutoML\", \"azureml.runsource\": \"automl\", \"display_task_type\": \"classification\", \"dependencies_versions\": \"{\\\"azureml-widgets\\\": \\\"1.22.0\\\", \\\"azureml-train\\\": \\\"1.24.0\\\", \\\"azureml-train-restclients-hyperdrive\\\": \\\"1.24.0\\\", \\\"azureml-train-core\\\": \\\"1.24.0\\\", \\\"azureml-train-automl\\\": \\\"1.24.0\\\", \\\"azureml-train-automl-runtime\\\": \\\"1.24.0\\\", \\\"azureml-train-automl-client\\\": \\\"1.24.0\\\", \\\"azureml-tensorboard\\\": \\\"1.22.0\\\", \\\"azureml-telemetry\\\": \\\"1.24.0\\\", \\\"azureml-sdk\\\": \\\"1.24.0\\\", \\\"azureml-samples\\\": \\\"0+unknown\\\", \\\"azureml-pipeline\\\": \\\"1.24.0\\\", \\\"azureml-pipeline-steps\\\": \\\"1.24.0\\\", \\\"azureml-pipeline-core\\\": \\\"1.24.0\\\", \\\"azureml-opendatasets\\\": \\\"1.22.0\\\", \\\"azureml-model-management-sdk\\\": \\\"1.0.1b6.post1\\\", \\\"azureml-mlflow\\\": \\\"1.22.0\\\", \\\"azureml-interpret\\\": \\\"1.24.0\\\", \\\"azureml-explain-model\\\": \\\"1.22.0\\\", \\\"azureml-defaults\\\": \\\"1.24.0\\\", \\\"azureml-dataset-runtime\\\": \\\"1.24.0\\\", \\\"azureml-dataprep\\\": \\\"2.11.2\\\", \\\"azureml-dataprep-rslex\\\": \\\"1.9.1\\\", \\\"azureml-dataprep-native\\\": \\\"30.0.0\\\", \\\"azureml-datadrift\\\": \\\"1.22.0\\\", \\\"azureml-core\\\": \\\"1.24.0.post2\\\", \\\"azureml-contrib-services\\\": \\\"1.22.0\\\", \\\"azureml-contrib-server\\\": \\\"1.22.0\\\", \\\"azureml-contrib-reinforcementlearning\\\": \\\"1.22.0\\\", \\\"azureml-contrib-pipeline-steps\\\": \\\"1.22.0\\\", \\\"azureml-contrib-notebook\\\": \\\"1.22.0\\\", \\\"azureml-contrib-interpret\\\": \\\"1.22.0\\\", \\\"azureml-contrib-gbdt\\\": \\\"1.22.0\\\", \\\"azureml-contrib-fairness\\\": \\\"1.22.0\\\", \\\"azureml-contrib-dataset\\\": \\\"1.22.0\\\", \\\"azureml-cli-common\\\": \\\"1.22.0\\\", \\\"azureml-automl-runtime\\\": \\\"1.24.0\\\", \\\"azureml-automl-core\\\": \\\"1.24.0\\\", \\\"azureml-accel-models\\\": \\\"1.22.0\\\"}\", \"_aml_system_scenario_identification\": \"Remote.Parent\", \"ClientType\": \"SDK\", \"environment_cpu_name\": \"AzureML-AutoML\", \"environment_cpu_label\": \"prod\", \"environment_gpu_name\": \"AzureML-AutoML-GPU\", \"environment_gpu_label\": \"prod\", \"root_attribution\": \"automl\", \"attribution\": \"AutoML\", \"Orchestrator\": \"AutoML\", \"CancelUri\": \"https://southcentralus.experiments.azureml.net/jasmine/v1.0/subscriptions/6b4af8be-9931-443e-90f6-c4c34a1f9737/resourceGroups/aml-quickstarts-140332/providers/Microsoft.MachineLearningServices/workspaces/quick-starts-ws-140332/experimentids/4f3bc7cc-f265-4336-b719-b3cd838ee25f/cancel/AutoML_8af90426-71d5-4962-9d1f-17b56aa9021f\", \"ClientSdkVersion\": \"1.23.0\", \"snapshotId\": \"00000000-0000-0000-0000-000000000000\", \"SetupRunId\": \"AutoML_8af90426-71d5-4962-9d1f-17b56aa9021f_setup\", \"SetupRunContainerId\": \"dcid.AutoML_8af90426-71d5-4962-9d1f-17b56aa9021f_setup\", \"FeaturizationRunJsonPath\": \"featurizer_container.json\", \"FeaturizationRunId\": \"AutoML_8af90426-71d5-4962-9d1f-17b56aa9021f_featurize\", \"ProblemInfoJsonString\": \"{\\\"dataset_num_categorical\\\": 0, \\\"is_sparse\\\": false, \\\"subsampling\\\": false, \\\"dataset_classes\\\": 2, \\\"dataset_features\\\": 12, \\\"dataset_samples\\\": 224, \\\"single_frequency_class_detected\\\": false}\", \"ModelExplainRunId\": \"AutoML_8af90426-71d5-4962-9d1f-17b56aa9021f_ModelExplain\"}, \"tags\": {\"model_explain_run\": \"best_run\", \"_aml_system_azureml.automlComponent\": \"AutoML\", \"pipeline_id\": \"\", \"score\": \"\", \"predicted_cost\": \"\", \"fit_time\": \"\", \"training_percent\": \"\", \"iteration\": \"\", \"run_preprocessor\": \"\", \"run_algorithm\": \"\", \"dynamic_whitelisting_iterations\": \"<25>;<30>;<35>;\", \"automl_best_child_run_id\": \"AutoML_8af90426-71d5-4962-9d1f-17b56aa9021f_38\", \"model_explain_best_run_child_id\": \"AutoML_8af90426-71d5-4962-9d1f-17b56aa9021f_38\"}, \"end_time_utc\": \"2021-03-13T14:12:56.216291Z\", \"status\": \"Completed\", \"log_files\": {}, \"log_groups\": [], \"run_duration\": \"0:17:13\", \"run_number\": \"106\", \"run_queued_details\": {\"status\": \"Completed\", \"details\": null}}, \"child_runs\": [{\"run_id\": \"AutoML_8af90426-71d5-4962-9d1f-17b56aa9021f_0\", \"run_number\": 110, \"metric\": null, \"status\": \"Completed\", \"run_type\": \"azureml.scriptrun\", \"training_percent\": \"100\", \"start_time\": \"2021-03-13T13:59:42.259126Z\", \"end_time\": \"2021-03-13T14:00:33.958497Z\", \"created_time\": \"2021-03-13T13:58:15.86315Z\", \"created_time_dt\": \"2021-03-13T13:58:15.86315Z\", \"duration\": \"0:02:18\", \"iteration\": \"0\", \"goal\": \"accuracy_max\", \"run_name\": \"MaxAbsScaler, LightGBM\", \"run_properties\": \"copy=True\", \"primary_metric\": 0.82589286, \"best_metric\": 0.82589286}, {\"run_id\": \"AutoML_8af90426-71d5-4962-9d1f-17b56aa9021f_3\", \"run_number\": 111, \"metric\": null, \"status\": \"Completed\", \"run_type\": \"azureml.scriptrun\", \"training_percent\": \"100\", \"start_time\": \"2021-03-13T14:01:29.420555Z\", \"end_time\": \"2021-03-13T14:03:20.021836Z\", \"created_time\": \"2021-03-13T13:58:15.994491Z\", \"created_time_dt\": \"2021-03-13T13:58:15.994491Z\", \"duration\": \"0:05:04\", \"iteration\": \"3\", \"goal\": \"accuracy_max\", \"run_name\": \"MinMaxScaler, RandomForest\", \"run_properties\": \"copy=True, feature_range=(0, 1\", \"primary_metric\": 0.84821429, \"best_metric\": 0.84821429}, {\"run_id\": \"AutoML_8af90426-71d5-4962-9d1f-17b56aa9021f_4\", \"run_number\": 112, \"metric\": null, \"status\": \"Completed\", \"run_type\": \"azureml.scriptrun\", \"training_percent\": \"100\", \"start_time\": \"2021-03-13T14:00:50.58378Z\", \"end_time\": \"2021-03-13T14:01:32.907007Z\", \"created_time\": \"2021-03-13T13:58:15.994688Z\", \"created_time_dt\": \"2021-03-13T13:58:15.994688Z\", \"duration\": \"0:03:16\", \"iteration\": \"4\", \"goal\": \"accuracy_max\", \"run_name\": \"MinMaxScaler, RandomForest\", \"run_properties\": \"copy=True, feature_range=(0, 1\", \"primary_metric\": 0.80357143, \"best_metric\": 0.84821429}, {\"run_id\": \"AutoML_8af90426-71d5-4962-9d1f-17b56aa9021f_2\", \"run_number\": 113, \"metric\": null, \"status\": \"Completed\", \"run_type\": \"azureml.scriptrun\", \"training_percent\": \"100\", \"start_time\": \"2021-03-13T14:01:24.138091Z\", \"end_time\": \"2021-03-13T14:03:19.507543Z\", \"created_time\": \"2021-03-13T13:58:16.00582Z\", \"created_time_dt\": \"2021-03-13T13:58:16.00582Z\", \"duration\": \"0:05:03\", \"iteration\": \"2\", \"goal\": \"accuracy_max\", \"run_name\": \"MinMaxScaler, RandomForest\", \"run_properties\": \"copy=True, feature_range=(0, 1\", \"primary_metric\": 0.81696429, \"best_metric\": 0.82589286}, {\"run_id\": \"AutoML_8af90426-71d5-4962-9d1f-17b56aa9021f_1\", \"run_number\": 114, \"metric\": null, \"status\": \"Completed\", \"run_type\": \"azureml.scriptrun\", \"training_percent\": \"100\", \"start_time\": \"2021-03-13T13:58:28.974401Z\", \"end_time\": \"2021-03-13T13:59:26.006215Z\", \"created_time\": \"2021-03-13T13:58:16.022788Z\", \"created_time_dt\": \"2021-03-13T13:58:16.022788Z\", \"duration\": \"0:01:09\", \"iteration\": \"1\", \"goal\": \"accuracy_max\", \"run_name\": \"MinMaxScaler, RandomForest\", \"run_properties\": \"copy=True, feature_range=(0, 1\", \"primary_metric\": 0.8125, \"best_metric\": 0.82589286}, {\"run_id\": \"AutoML_8af90426-71d5-4962-9d1f-17b56aa9021f_5\", \"run_number\": 115, \"metric\": null, \"status\": \"Completed\", \"run_type\": \"azureml.scriptrun\", \"training_percent\": \"100\", \"start_time\": \"2021-03-13T14:01:25.869903Z\", \"end_time\": \"2021-03-13T14:03:27.010623Z\", \"created_time\": \"2021-03-13T13:59:29.411562Z\", \"created_time_dt\": \"2021-03-13T13:59:29.411562Z\", \"duration\": \"0:03:57\", \"iteration\": \"5\", \"goal\": \"accuracy_max\", \"run_name\": \"RobustScaler, LogisticRegression\", \"run_properties\": \"copy=True, quantile_range=[25, 75], with_centering=True,\\n             with_scaling=True\", \"primary_metric\": 0.8125, \"best_metric\": 0.84821429}, {\"run_id\": \"AutoML_8af90426-71d5-4962-9d1f-17b56aa9021f_6\", \"run_number\": 116, \"metric\": null, \"status\": \"Completed\", \"run_type\": \"azureml.scriptrun\", \"training_percent\": \"100\", \"start_time\": \"2021-03-13T14:01:49.440569Z\", \"end_time\": \"2021-03-13T14:02:37.743584Z\", \"created_time\": \"2021-03-13T14:00:37.20978Z\", \"created_time_dt\": \"2021-03-13T14:00:37.20978Z\", \"duration\": \"0:02:00\", \"iteration\": \"6\", \"goal\": \"accuracy_max\", \"run_name\": \"StandardScalerWrapper, KNN\", \"run_properties\": \"<azureml.automl.runtime.shared.model_wrappers.StandardScalerWrapper object at 0x7f457d93fd68\", \"primary_metric\": 0.75892857, \"best_metric\": 0.84821429}, {\"run_id\": \"AutoML_8af90426-71d5-4962-9d1f-17b56aa9021f_7\", \"run_number\": 117, \"metric\": null, \"status\": \"Completed\", \"run_type\": \"azureml.scriptrun\", \"training_percent\": \"100\", \"start_time\": \"2021-03-13T14:02:55.020405Z\", \"end_time\": \"2021-03-13T14:03:48.796708Z\", \"created_time\": \"2021-03-13T14:01:37.366523Z\", \"created_time_dt\": \"2021-03-13T14:01:37.366523Z\", \"duration\": \"0:02:11\", \"iteration\": \"7\", \"goal\": \"accuracy_max\", \"run_name\": \"MinMaxScaler, SVM\", \"run_properties\": \"copy=True, feature_range=(0, 1\", \"primary_metric\": 0.73660714, \"best_metric\": 0.84821429}, {\"run_id\": \"AutoML_8af90426-71d5-4962-9d1f-17b56aa9021f_8\", \"run_number\": 118, \"metric\": null, \"status\": \"Completed\", \"run_type\": \"azureml.scriptrun\", \"training_percent\": \"100\", \"start_time\": \"2021-03-13T14:03:37.283577Z\", \"end_time\": \"2021-03-13T14:04:25.547317Z\", \"created_time\": \"2021-03-13T14:02:40.122Z\", \"created_time_dt\": \"2021-03-13T14:02:40.122Z\", \"duration\": \"0:01:45\", \"iteration\": \"8\", \"goal\": \"accuracy_max\", \"run_name\": \"MinMaxScaler, SVM\", \"run_properties\": \"copy=True, feature_range=(0, 1\", \"primary_metric\": 0.73660714, \"best_metric\": 0.84821429}, {\"run_id\": \"AutoML_8af90426-71d5-4962-9d1f-17b56aa9021f_9\", \"run_number\": 119, \"metric\": null, \"status\": \"Completed\", \"run_type\": \"azureml.scriptrun\", \"training_percent\": \"100\", \"start_time\": \"2021-03-13T14:03:40.332277Z\", \"end_time\": \"2021-03-13T14:04:36.867851Z\", \"created_time\": \"2021-03-13T14:03:21.576906Z\", \"created_time_dt\": \"2021-03-13T14:03:21.576906Z\", \"duration\": \"0:01:15\", \"iteration\": \"9\", \"goal\": \"accuracy_max\", \"run_name\": \"MinMaxScaler, LogisticRegression\", \"run_properties\": \"copy=True, feature_range=(0, 1\", \"primary_metric\": 0.83035714, \"best_metric\": 0.84821429}, {\"run_id\": \"AutoML_8af90426-71d5-4962-9d1f-17b56aa9021f_10\", \"run_number\": 120, \"metric\": null, \"status\": \"Completed\", \"run_type\": \"azureml.scriptrun\", \"training_percent\": \"100\", \"start_time\": \"2021-03-13T14:03:39.53797Z\", \"end_time\": \"2021-03-13T14:04:27.941119Z\", \"created_time\": \"2021-03-13T14:03:26.232145Z\", \"created_time_dt\": \"2021-03-13T14:03:26.232145Z\", \"duration\": \"0:01:01\", \"iteration\": \"10\", \"goal\": \"accuracy_max\", \"run_name\": \"StandardScalerWrapper, SGD\", \"run_properties\": \"<azureml.automl.runtime.shared.model_wrappers.StandardScalerWrapper object at 0x7f8079762b38\", \"primary_metric\": 0.83482143, \"best_metric\": 0.84821429}, {\"run_id\": \"AutoML_8af90426-71d5-4962-9d1f-17b56aa9021f_11\", \"run_number\": 121, \"metric\": null, \"status\": \"Completed\", \"run_type\": \"azureml.scriptrun\", \"training_percent\": \"100\", \"start_time\": \"2021-03-13T14:04:02.981804Z\", \"end_time\": \"2021-03-13T14:04:51.44758Z\", \"created_time\": \"2021-03-13T14:03:29.938479Z\", \"created_time_dt\": \"2021-03-13T14:03:29.938479Z\", \"duration\": \"0:01:21\", \"iteration\": \"11\", \"goal\": \"accuracy_max\", \"run_name\": \"MaxAbsScaler, RandomForest\", \"run_properties\": \"copy=True\", \"primary_metric\": 0.75446429, \"best_metric\": 0.84821429}, {\"run_id\": \"AutoML_8af90426-71d5-4962-9d1f-17b56aa9021f_12\", \"run_number\": 122, \"metric\": null, \"status\": \"Completed\", \"run_type\": \"azureml.scriptrun\", \"training_percent\": \"100\", \"start_time\": \"2021-03-13T14:04:42.285735Z\", \"end_time\": \"2021-03-13T14:05:37.224166Z\", \"created_time\": \"2021-03-13T14:03:50.759367Z\", \"created_time_dt\": \"2021-03-13T14:03:50.759367Z\", \"duration\": \"0:01:46\", \"iteration\": \"12\", \"goal\": \"accuracy_max\", \"run_name\": \"StandardScalerWrapper, GradientBoosting\", \"run_properties\": \"<azureml.automl.runtime.shared.model_wrappers.StandardScalerWrapper object at 0x7f6b7c0e7160\", \"primary_metric\": 0.84375, \"best_metric\": 0.84821429}, {\"run_id\": \"AutoML_8af90426-71d5-4962-9d1f-17b56aa9021f_13\", \"run_number\": 123, \"metric\": null, \"status\": \"Completed\", \"run_type\": \"azureml.scriptrun\", \"training_percent\": \"100\", \"start_time\": \"2021-03-13T14:04:42.043511Z\", \"end_time\": \"2021-03-13T14:05:28.349605Z\", \"created_time\": \"2021-03-13T14:04:27.264358Z\", \"created_time_dt\": \"2021-03-13T14:04:27.264358Z\", \"duration\": \"0:01:01\", \"iteration\": \"13\", \"goal\": \"accuracy_max\", \"run_name\": \"StandardScalerWrapper, RandomForest\", \"run_properties\": \"<azureml.automl.runtime.shared.model_wrappers.StandardScalerWrapper object at 0x7faaed1865c0\", \"primary_metric\": 0.83928571, \"best_metric\": 0.84821429}, {\"run_id\": \"AutoML_8af90426-71d5-4962-9d1f-17b56aa9021f_14\", \"run_number\": 124, \"metric\": null, \"status\": \"Completed\", \"run_type\": \"azureml.scriptrun\", \"training_percent\": \"100\", \"start_time\": \"2021-03-13T14:04:52.280754Z\", \"end_time\": \"2021-03-13T14:05:42.343461Z\", \"created_time\": \"2021-03-13T14:04:33.211695Z\", \"created_time_dt\": \"2021-03-13T14:04:33.211695Z\", \"duration\": \"0:01:09\", \"iteration\": \"14\", \"goal\": \"accuracy_max\", \"run_name\": \"RobustScaler, RandomForest\", \"run_properties\": \"copy=True, quantile_range=[10, 90], with_centering=True,\\n             with_scaling=True\", \"primary_metric\": 0.83928571, \"best_metric\": 0.84821429}, {\"run_id\": \"AutoML_8af90426-71d5-4962-9d1f-17b56aa9021f_15\", \"run_number\": 125, \"metric\": null, \"status\": \"Completed\", \"run_type\": \"azureml.scriptrun\", \"training_percent\": \"100\", \"start_time\": \"2021-03-13T14:05:03.644611Z\", \"end_time\": \"2021-03-13T14:05:47.333601Z\", \"created_time\": \"2021-03-13T14:04:39.013261Z\", \"created_time_dt\": \"2021-03-13T14:04:39.013261Z\", \"duration\": \"0:01:08\", \"iteration\": \"15\", \"goal\": \"accuracy_max\", \"run_name\": \"RobustScaler, ExtremeRandomTrees\", \"run_properties\": \"copy=True, quantile_range=[10, 90], with_centering=True,\\n             with_scaling=False\", \"primary_metric\": 0.85267857, \"best_metric\": 0.85267857}, {\"run_id\": \"AutoML_8af90426-71d5-4962-9d1f-17b56aa9021f_16\", \"run_number\": 126, \"metric\": null, \"status\": \"Completed\", \"run_type\": \"azureml.scriptrun\", \"training_percent\": \"100\", \"start_time\": \"2021-03-13T14:05:41.812071Z\", \"end_time\": \"2021-03-13T14:06:31.325914Z\", \"created_time\": \"2021-03-13T14:04:53.16239Z\", \"created_time_dt\": \"2021-03-13T14:04:53.16239Z\", \"duration\": \"0:01:38\", \"iteration\": \"16\", \"goal\": \"accuracy_max\", \"run_name\": \"MaxAbsScaler, LightGBM\", \"run_properties\": \"copy=True\", \"primary_metric\": 0.73660714, \"best_metric\": 0.85267857}, {\"run_id\": \"AutoML_8af90426-71d5-4962-9d1f-17b56aa9021f_17\", \"run_number\": 127, \"metric\": null, \"status\": \"Completed\", \"run_type\": \"azureml.scriptrun\", \"training_percent\": \"100\", \"start_time\": \"2021-03-13T14:05:48.807792Z\", \"end_time\": \"2021-03-13T14:06:45.269248Z\", \"created_time\": \"2021-03-13T14:05:30.214575Z\", \"created_time_dt\": \"2021-03-13T14:05:30.214575Z\", \"duration\": \"0:01:15\", \"iteration\": \"17\", \"goal\": \"accuracy_max\", \"run_name\": \"StandardScalerWrapper, RandomForest\", \"run_properties\": \"<azureml.automl.runtime.shared.model_wrappers.StandardScalerWrapper object at 0x7f3b1455e828\", \"primary_metric\": 0.8125, \"best_metric\": 0.85267857}, {\"run_id\": \"AutoML_8af90426-71d5-4962-9d1f-17b56aa9021f_18\", \"run_number\": 128, \"metric\": null, \"status\": \"Completed\", \"run_type\": \"azureml.scriptrun\", \"training_percent\": \"100\", \"start_time\": \"2021-03-13T14:05:56.267699Z\", \"end_time\": \"2021-03-13T14:06:46.708534Z\", \"created_time\": \"2021-03-13T14:05:39.435752Z\", \"created_time_dt\": \"2021-03-13T14:05:39.435752Z\", \"duration\": \"0:01:07\", \"iteration\": \"18\", \"goal\": \"accuracy_max\", \"run_name\": \"StandardScalerWrapper, RandomForest\", \"run_properties\": \"<azureml.automl.runtime.shared.model_wrappers.StandardScalerWrapper object at 0x7fe825ba79e8\", \"primary_metric\": 0.83035714, \"best_metric\": 0.85267857}, {\"run_id\": \"AutoML_8af90426-71d5-4962-9d1f-17b56aa9021f_19\", \"run_number\": 129, \"metric\": null, \"status\": \"Completed\", \"run_type\": \"azureml.scriptrun\", \"training_percent\": \"100\", \"start_time\": \"2021-03-13T14:06:04.68215Z\", \"end_time\": \"2021-03-13T14:06:54.019311Z\", \"created_time\": \"2021-03-13T14:05:43.953951Z\", \"created_time_dt\": \"2021-03-13T14:05:43.953951Z\", \"duration\": \"0:01:10\", \"iteration\": \"19\", \"goal\": \"accuracy_max\", \"run_name\": \"MinMaxScaler, RandomForest\", \"run_properties\": \"copy=True, feature_range=(0, 1\", \"primary_metric\": 0.76785714, \"best_metric\": 0.85267857}, {\"run_id\": \"AutoML_8af90426-71d5-4962-9d1f-17b56aa9021f_20\", \"run_number\": 130, \"metric\": null, \"status\": \"Completed\", \"run_type\": \"azureml.scriptrun\", \"training_percent\": \"100\", \"start_time\": \"2021-03-13T14:06:44.41982Z\", \"end_time\": \"2021-03-13T14:07:32.158147Z\", \"created_time\": \"2021-03-13T14:05:49.203659Z\", \"created_time_dt\": \"2021-03-13T14:05:49.203659Z\", \"duration\": \"0:01:42\", \"iteration\": \"20\", \"goal\": \"accuracy_max\", \"run_name\": \"MinMaxScaler, LightGBM\", \"run_properties\": \"copy=True, feature_range=(0, 1\", \"primary_metric\": 0.76785714, \"best_metric\": 0.85267857}, {\"run_id\": \"AutoML_8af90426-71d5-4962-9d1f-17b56aa9021f_21\", \"run_number\": 131, \"metric\": null, \"status\": \"Completed\", \"run_type\": \"azureml.scriptrun\", \"training_percent\": \"100\", \"start_time\": \"2021-03-13T14:06:57.477636Z\", \"end_time\": \"2021-03-13T14:07:47.24184Z\", \"created_time\": \"2021-03-13T14:06:32.991234Z\", \"created_time_dt\": \"2021-03-13T14:06:32.991234Z\", \"duration\": \"0:01:14\", \"iteration\": \"21\", \"goal\": \"accuracy_max\", \"run_name\": \"MaxAbsScaler, RandomForest\", \"run_properties\": \"copy=True\", \"primary_metric\": 0.83035714, \"best_metric\": 0.85267857}, {\"run_id\": \"AutoML_8af90426-71d5-4962-9d1f-17b56aa9021f_22\", \"run_number\": 132, \"metric\": null, \"status\": \"Completed\", \"run_type\": \"azureml.scriptrun\", \"training_percent\": \"100\", \"start_time\": \"2021-03-13T14:07:00.899257Z\", \"end_time\": \"2021-03-13T14:07:47.422164Z\", \"created_time\": \"2021-03-13T14:06:47.053237Z\", \"created_time_dt\": \"2021-03-13T14:06:47.053237Z\", \"duration\": \"0:01:00\", \"iteration\": \"22\", \"goal\": \"accuracy_max\", \"run_name\": \"MaxAbsScaler, ExtremeRandomTrees\", \"run_properties\": \"copy=True\", \"primary_metric\": 0.84375, \"best_metric\": 0.85267857}, {\"run_id\": \"AutoML_8af90426-71d5-4962-9d1f-17b56aa9021f_23\", \"run_number\": 133, \"metric\": null, \"status\": \"Completed\", \"run_type\": \"azureml.scriptrun\", \"training_percent\": \"100\", \"start_time\": \"2021-03-13T14:07:10.646395Z\", \"end_time\": \"2021-03-13T14:08:15.467784Z\", \"created_time\": \"2021-03-13T14:06:50.186312Z\", \"created_time_dt\": \"2021-03-13T14:06:50.186312Z\", \"duration\": \"0:01:25\", \"iteration\": \"23\", \"goal\": \"accuracy_max\", \"run_name\": \"SparseNormalizer, LightGBM\", \"run_properties\": \"<azureml.automl.runtime.shared.model_wrappers.SparseNormalizer object at 0x7fe46678a518\", \"primary_metric\": 0.83035714, \"best_metric\": 0.85267857}, {\"run_id\": \"AutoML_8af90426-71d5-4962-9d1f-17b56aa9021f_24\", \"run_number\": 134, \"metric\": null, \"status\": \"Completed\", \"run_type\": \"azureml.scriptrun\", \"training_percent\": \"100\", \"start_time\": \"2021-03-13T14:07:47.202505Z\", \"end_time\": \"2021-03-13T14:08:34.089036Z\", \"created_time\": \"2021-03-13T14:06:55.589652Z\", \"created_time_dt\": \"2021-03-13T14:06:55.589652Z\", \"duration\": \"0:01:38\", \"iteration\": \"24\", \"goal\": \"accuracy_max\", \"run_name\": \"MaxAbsScaler, LightGBM\", \"run_properties\": \"copy=True\", \"primary_metric\": 0.82589286, \"best_metric\": 0.85267857}, {\"run_id\": \"AutoML_8af90426-71d5-4962-9d1f-17b56aa9021f_25\", \"run_number\": 135, \"metric\": null, \"status\": \"Completed\", \"run_type\": \"azureml.scriptrun\", \"training_percent\": \"100\", \"start_time\": \"2021-03-13T14:08:02.328556Z\", \"end_time\": \"2021-03-13T14:08:49.467826Z\", \"created_time\": \"2021-03-13T14:07:34.843481Z\", \"created_time_dt\": \"2021-03-13T14:07:34.843481Z\", \"duration\": \"0:01:14\", \"iteration\": \"25\", \"goal\": \"accuracy_max\", \"run_name\": \"MaxAbsScaler, ExtremeRandomTrees\", \"run_properties\": \"copy=True\", \"primary_metric\": 0.65178571, \"best_metric\": 0.85267857}, {\"run_id\": \"AutoML_8af90426-71d5-4962-9d1f-17b56aa9021f_26\", \"run_number\": 136, \"metric\": null, \"status\": \"Completed\", \"run_type\": \"azureml.scriptrun\", \"training_percent\": \"100\", \"start_time\": \"2021-03-13T14:08:31.898813Z\", \"end_time\": \"2021-03-13T14:09:23.472877Z\", \"created_time\": \"2021-03-13T14:07:49.347539Z\", \"created_time_dt\": \"2021-03-13T14:07:49.347539Z\", \"duration\": \"0:01:34\", \"iteration\": \"26\", \"goal\": \"accuracy_max\", \"run_name\": \"MinMaxScaler, LightGBM\", \"run_properties\": \"copy=True, feature_range=(0, 1\", \"primary_metric\": 0.82589286, \"best_metric\": 0.85267857}, {\"run_id\": \"AutoML_8af90426-71d5-4962-9d1f-17b56aa9021f_27\", \"run_number\": 137, \"metric\": null, \"status\": \"Completed\", \"run_type\": \"azureml.scriptrun\", \"training_percent\": \"100\", \"start_time\": \"2021-03-13T14:08:01.588704Z\", \"end_time\": \"2021-03-13T14:08:46.384305Z\", \"created_time\": \"2021-03-13T14:07:49.360723Z\", \"created_time_dt\": \"2021-03-13T14:07:49.360723Z\", \"duration\": \"0:00:57\", \"iteration\": \"27\", \"goal\": \"accuracy_max\", \"run_name\": \"StandardScalerWrapper, LightGBM\", \"run_properties\": \"<azureml.automl.runtime.shared.model_wrappers.StandardScalerWrapper object at 0x7fb9584a3cf8\", \"primary_metric\": 0.80803571, \"best_metric\": 0.85267857}, {\"run_id\": \"AutoML_8af90426-71d5-4962-9d1f-17b56aa9021f_28\", \"run_number\": 138, \"metric\": null, \"status\": \"Completed\", \"run_type\": \"azureml.scriptrun\", \"training_percent\": \"100\", \"start_time\": \"2021-03-13T14:08:51.843287Z\", \"end_time\": \"2021-03-13T14:09:48.083231Z\", \"created_time\": \"2021-03-13T14:08:17.765242Z\", \"created_time_dt\": \"2021-03-13T14:08:17.765242Z\", \"duration\": \"0:01:30\", \"iteration\": \"28\", \"goal\": \"accuracy_max\", \"run_name\": \"StandardScalerWrapper, RandomForest\", \"run_properties\": \"<azureml.automl.runtime.shared.model_wrappers.StandardScalerWrapper object at 0x7fc32e3dea58\", \"primary_metric\": 0.83928571, \"best_metric\": 0.85267857}, {\"run_id\": \"AutoML_8af90426-71d5-4962-9d1f-17b56aa9021f_29\", \"run_number\": 139, \"metric\": null, \"status\": \"Completed\", \"run_type\": \"azureml.scriptrun\", \"training_percent\": \"100\", \"start_time\": \"2021-03-13T14:09:02.064181Z\", \"end_time\": \"2021-03-13T14:09:51.513234Z\", \"created_time\": \"2021-03-13T14:08:35.804819Z\", \"created_time_dt\": \"2021-03-13T14:08:35.804819Z\", \"duration\": \"0:01:15\", \"iteration\": \"29\", \"goal\": \"accuracy_max\", \"run_name\": \"MinMaxScaler, LinearSVM\", \"run_properties\": \"copy=True, feature_range=(0, 1\", \"primary_metric\": 0.77678571, \"best_metric\": 0.85267857}, {\"run_id\": \"AutoML_8af90426-71d5-4962-9d1f-17b56aa9021f_30\", \"run_number\": 140, \"metric\": null, \"status\": \"Completed\", \"run_type\": \"azureml.scriptrun\", \"training_percent\": \"100\", \"start_time\": \"2021-03-13T14:09:06.354325Z\", \"end_time\": \"2021-03-13T14:10:08.651512Z\", \"created_time\": \"2021-03-13T14:08:49.488944Z\", \"created_time_dt\": \"2021-03-13T14:08:49.488944Z\", \"duration\": \"0:01:19\", \"iteration\": \"30\", \"goal\": \"accuracy_max\", \"run_name\": \"MaxAbsScaler, ExtremeRandomTrees\", \"run_properties\": \"copy=True\", \"primary_metric\": 0.65625, \"best_metric\": 0.85267857}, {\"run_id\": \"AutoML_8af90426-71d5-4962-9d1f-17b56aa9021f_31\", \"run_number\": 141, \"metric\": null, \"status\": \"Completed\", \"run_type\": \"azureml.scriptrun\", \"training_percent\": \"100\", \"start_time\": \"2021-03-13T14:09:38.505308Z\", \"end_time\": \"2021-03-13T14:10:37.297176Z\", \"created_time\": \"2021-03-13T14:08:53.886352Z\", \"created_time_dt\": \"2021-03-13T14:08:53.886352Z\", \"duration\": \"0:01:43\", \"iteration\": \"31\", \"goal\": \"accuracy_max\", \"run_name\": \"StandardScalerWrapper, LightGBM\", \"run_properties\": \"<azureml.automl.runtime.shared.model_wrappers.StandardScalerWrapper object at 0x7f9312985e48\", \"primary_metric\": 0.80357143, \"best_metric\": 0.85267857}, {\"run_id\": \"AutoML_8af90426-71d5-4962-9d1f-17b56aa9021f_32\", \"run_number\": 142, \"metric\": null, \"status\": \"Completed\", \"run_type\": \"azureml.scriptrun\", \"training_percent\": \"100\", \"start_time\": \"2021-03-13T14:10:02.789883Z\", \"end_time\": \"2021-03-13T14:10:55.949258Z\", \"created_time\": \"2021-03-13T14:09:25.218354Z\", \"created_time_dt\": \"2021-03-13T14:09:25.218354Z\", \"duration\": \"0:01:30\", \"iteration\": \"32\", \"goal\": \"accuracy_max\", \"run_name\": \"StandardScalerWrapper, RandomForest\", \"run_properties\": \"<azureml.automl.runtime.shared.model_wrappers.StandardScalerWrapper object at 0x7f70aba5bd68\", \"primary_metric\": 0.82589286, \"best_metric\": 0.85267857}, {\"run_id\": \"AutoML_8af90426-71d5-4962-9d1f-17b56aa9021f_33\", \"run_number\": 143, \"metric\": null, \"status\": \"Completed\", \"run_type\": \"azureml.scriptrun\", \"training_percent\": \"100\", \"start_time\": \"2021-03-13T14:10:06.550053Z\", \"end_time\": \"2021-03-13T14:11:06.023445Z\", \"created_time\": \"2021-03-13T14:09:49.949032Z\", \"created_time_dt\": \"2021-03-13T14:09:49.949032Z\", \"duration\": \"0:01:16\", \"iteration\": \"33\", \"goal\": \"accuracy_max\", \"run_name\": \"MaxAbsScaler, RandomForest\", \"run_properties\": \"copy=True\", \"primary_metric\": 0.82142857, \"best_metric\": 0.85267857}, {\"run_id\": \"AutoML_8af90426-71d5-4962-9d1f-17b56aa9021f_34\", \"run_number\": 144, \"metric\": null, \"status\": \"Canceled\", \"run_type\": \"azureml.scriptrun\", \"training_percent\": \"100\", \"start_time\": \"2021-03-13T14:10:23.909552Z\", \"end_time\": \"2021-03-13T14:11:08.219171Z\", \"created_time\": \"2021-03-13T14:09:55.228741Z\", \"created_time_dt\": \"2021-03-13T14:09:55.228741Z\", \"duration\": \"0:01:12\", \"iteration\": \"34\", \"goal\": \"accuracy_max\", \"run_name\": \"RobustScaler, RandomForest\", \"run_properties\": \"copy=True, quantile_range=[10, 90], with_centering=True,\\n             with_scaling=True\", \"primary_metric\": 0.81696429, \"best_metric\": 0.85267857}, {\"run_id\": \"AutoML_8af90426-71d5-4962-9d1f-17b56aa9021f_35\", \"run_number\": 145, \"metric\": null, \"status\": \"Canceled\", \"run_type\": \"azureml.scriptrun\", \"training_percent\": \"100\", \"start_time\": \"2021-03-13T14:10:49.830881Z\", \"end_time\": \"2021-03-13T14:11:14.418723Z\", \"created_time\": \"2021-03-13T14:10:11.373188Z\", \"created_time_dt\": \"2021-03-13T14:10:11.373188Z\", \"duration\": \"0:01:03\", \"iteration\": \"35\", \"goal\": null, \"run_name\": \"RobustScaler, ExtremeRandomTrees\", \"run_properties\": null}, {\"run_id\": \"AutoML_8af90426-71d5-4962-9d1f-17b56aa9021f_36\", \"run_number\": 146, \"metric\": null, \"status\": \"Canceled\", \"run_type\": \"azureml.scriptrun\", \"training_percent\": \"100\", \"start_time\": \"2021-03-13T14:10:39.511748Z\", \"end_time\": \"2021-03-13T14:11:13.370814Z\", \"created_time\": \"2021-03-13T14:10:39.511748Z\", \"created_time_dt\": \"2021-03-13T14:10:39.511748Z\", \"duration\": \"0:00:33\", \"iteration\": \"36\", \"goal\": null, \"run_name\": \"Canceled\", \"run_properties\": null}, {\"run_id\": \"AutoML_8af90426-71d5-4962-9d1f-17b56aa9021f_37\", \"run_number\": 147, \"metric\": null, \"status\": \"Canceled\", \"run_type\": \"azureml.scriptrun\", \"training_percent\": \"100\", \"start_time\": \"2021-03-13T14:11:00.271571Z\", \"end_time\": \"2021-03-13T14:11:16.209492Z\", \"created_time\": \"2021-03-13T14:11:00.271571Z\", \"created_time_dt\": \"2021-03-13T14:11:00.271571Z\", \"duration\": \"0:00:15\", \"iteration\": \"37\", \"goal\": null, \"run_name\": \"Canceled\", \"run_properties\": null}, {\"run_id\": \"AutoML_8af90426-71d5-4962-9d1f-17b56aa9021f_38\", \"run_number\": 148, \"metric\": null, \"status\": \"Completed\", \"run_type\": \"azureml.scriptrun\", \"training_percent\": \"100\", \"start_time\": \"2021-03-13T14:11:29.358031Z\", \"end_time\": \"2021-03-13T14:12:35.919488Z\", \"created_time\": \"2021-03-13T14:11:17.927584Z\", \"created_time_dt\": \"2021-03-13T14:11:17.927584Z\", \"duration\": \"0:01:17\", \"iteration\": \"38\", \"goal\": \"accuracy_max\", \"run_name\": \"VotingEnsemble\", \"run_properties\": \"classification_labels=None,\\n                              estimators=[('15',\\n                                           Pipeline(memory=None,\\n                                                    steps=[('robustscaler',\\n                                                            RobustScaler(copy=True,\\n                                                                         quantile_range=[10,\\n                                                                                         90],\\n                                                                         with_centering=True,\\n                                                                         with_scaling=False\", \"primary_metric\": 0.86160714, \"best_metric\": 0.86160714}, {\"run_id\": \"AutoML_8af90426-71d5-4962-9d1f-17b56aa9021f_39\", \"run_number\": 149, \"metric\": null, \"status\": \"Completed\", \"run_type\": \"azureml.scriptrun\", \"training_percent\": \"100\", \"start_time\": \"2021-03-13T14:11:27.897882Z\", \"end_time\": \"2021-03-13T14:12:38.545998Z\", \"created_time\": \"2021-03-13T14:11:17.959162Z\", \"created_time_dt\": \"2021-03-13T14:11:17.959162Z\", \"duration\": \"0:01:20\", \"iteration\": \"39\", \"goal\": \"accuracy_max\", \"run_name\": \"StackEnsemble\", \"run_properties\": \"base_learners=[('15',\\n                                        Pipeline(memory=None,\\n                                                 steps=[('robustscaler',\\n                                                         RobustScaler(copy=True,\\n                                                                      quantile_range=[10,\\n                                                                                      90],\\n                                                                      with_centering=True,\\n                                                                      with_scaling=False\", \"primary_metric\": 0.83482143, \"best_metric\": 0.86160714}], \"children_metrics\": {\"categories\": [0], \"series\": {\"accuracy\": [{\"categories\": [\"0\", \"1\", \"2\", \"3\", \"4\", \"5\", \"6\", \"7\", \"8\", \"9\", \"10\", \"11\", \"12\", \"13\", \"14\", \"15\", \"16\", \"17\", \"18\", \"19\", \"20\", \"21\", \"22\", \"23\", \"24\", \"25\", \"26\", \"27\", \"28\", \"29\", \"30\", \"31\", \"32\", \"33\", \"34\", \"38\", \"39\"], \"mode\": \"markers\", \"name\": \"accuracy\", \"stepped\": false, \"type\": \"scatter\", \"data\": [0.8258928571428571, 0.8125, 0.8169642857142858, 0.8482142857142856, 0.8035714285714286, 0.8125, 0.7589285714285714, 0.7366071428571428, 0.7366071428571429, 0.8303571428571428, 0.8348214285714286, 0.7544642857142858, 0.8437499999999999, 0.8392857142857143, 0.8392857142857143, 0.8526785714285714, 0.7366071428571428, 0.8125, 0.8303571428571429, 0.7678571428571428, 0.7678571428571429, 0.8303571428571429, 0.84375, 0.8303571428571429, 0.8258928571428571, 0.6517857142857143, 0.8258928571428572, 0.8080357142857143, 0.8392857142857144, 0.7767857142857143, 0.65625, 0.8035714285714286, 0.8258928571428572, 0.8214285714285715, 0.8169642857142856, 0.8616071428571429, 0.8348214285714285]}, {\"categories\": [\"0\", \"1\", \"2\", \"3\", \"4\", \"5\", \"6\", \"7\", \"8\", \"9\", \"10\", \"11\", \"12\", \"13\", \"14\", \"15\", \"16\", \"17\", \"18\", \"19\", \"20\", \"21\", \"22\", \"23\", \"24\", \"25\", \"26\", \"27\", \"28\", \"29\", \"30\", \"31\", \"32\", \"33\", \"34\", \"38\", \"39\"], \"mode\": \"lines\", \"name\": \"accuracy_max\", \"stepped\": true, \"type\": \"scatter\", \"data\": [0.8258928571428571, 0.8258928571428571, 0.8258928571428571, 0.8482142857142856, 0.8482142857142856, 0.8482142857142856, 0.8482142857142856, 0.8482142857142856, 0.8482142857142856, 0.8482142857142856, 0.8482142857142856, 0.8482142857142856, 0.8482142857142856, 0.8482142857142856, 0.8482142857142856, 0.8526785714285714, 0.8526785714285714, 0.8526785714285714, 0.8526785714285714, 0.8526785714285714, 0.8526785714285714, 0.8526785714285714, 0.8526785714285714, 0.8526785714285714, 0.8526785714285714, 0.8526785714285714, 0.8526785714285714, 0.8526785714285714, 0.8526785714285714, 0.8526785714285714, 0.8526785714285714, 0.8526785714285714, 0.8526785714285714, 0.8526785714285714, 0.8526785714285714, 0.8616071428571429, 0.8616071428571429]}], \"f1_score_macro\": [{\"categories\": [\"0\", \"1\", \"2\", \"3\", \"4\", \"5\", \"6\", \"7\", \"8\", \"9\", \"10\", \"11\", \"12\", \"13\", \"14\", \"15\", \"16\", \"17\", \"18\", \"19\", \"20\", \"21\", \"22\", \"23\", \"24\", \"25\", \"26\", \"27\", \"28\", \"29\", \"30\", \"31\", \"32\", \"33\", \"34\", \"38\", \"39\"], \"mode\": \"markers\", \"name\": \"f1_score_macro\", \"stepped\": false, \"type\": \"scatter\", \"data\": [0.8038868670447618, 0.7897141204222782, 0.7793419093200743, 0.8306037616563932, 0.789806740514764, 0.7879970080821473, 0.6683605391235427, 0.6690650675748215, 0.6560176703217785, 0.8039347992908366, 0.814767859757045, 0.6691153453383518, 0.8182736767876087, 0.8124561025489818, 0.8171838277101435, 0.830595427963849, 0.624839954523271, 0.7775153530737613, 0.8052111775849, 0.6883311547282486, 0.7091200328089684, 0.8055871612035995, 0.8159902597402597, 0.8034261977296033, 0.7946788220801624, 0.6211044494107643, 0.8076071190707095, 0.783459735593838, 0.8201646113974881, 0.7485300768882858, 0.3955334234796477, 0.7544045314269763, 0.8074458269483504, 0.7906258321448194, 0.7960850324008218, 0.8390932800126671, 0.8072489750943698]}, {\"categories\": [\"0\", \"1\", \"2\", \"3\", \"4\", \"5\", \"6\", \"7\", \"8\", \"9\", \"10\", \"11\", \"12\", \"13\", \"14\", \"15\", \"16\", \"17\", \"18\", \"19\", \"20\", \"21\", \"22\", \"23\", \"24\", \"25\", \"26\", \"27\", \"28\", \"29\", \"30\", \"31\", \"32\", \"33\", \"34\", \"38\", \"39\"], \"mode\": \"lines\", \"name\": \"f1_score_macro_max\", \"stepped\": true, \"type\": \"scatter\", \"data\": [0.8038868670447618, 0.8038868670447618, 0.8038868670447618, 0.8306037616563932, 0.8306037616563932, 0.8306037616563932, 0.8306037616563932, 0.8306037616563932, 0.8306037616563932, 0.8306037616563932, 0.8306037616563932, 0.8306037616563932, 0.8306037616563932, 0.8306037616563932, 0.8306037616563932, 0.8306037616563932, 0.8306037616563932, 0.8306037616563932, 0.8306037616563932, 0.8306037616563932, 0.8306037616563932, 0.8306037616563932, 0.8306037616563932, 0.8306037616563932, 0.8306037616563932, 0.8306037616563932, 0.8306037616563932, 0.8306037616563932, 0.8306037616563932, 0.8306037616563932, 0.8306037616563932, 0.8306037616563932, 0.8306037616563932, 0.8306037616563932, 0.8306037616563932, 0.8390932800126671, 0.8390932800126671]}], \"AUC_macro\": [{\"categories\": [\"0\", \"1\", \"2\", \"3\", \"4\", \"5\", \"6\", \"7\", \"8\", \"9\", \"10\", \"11\", \"12\", \"13\", \"14\", \"15\", \"16\", \"17\", \"18\", \"19\", \"20\", \"21\", \"22\", \"23\", \"24\", \"25\", \"26\", \"27\", \"28\", \"29\", \"30\", \"31\", \"32\", \"33\", \"34\", \"38\", \"39\"], \"mode\": \"markers\", \"name\": \"AUC_macro\", \"stepped\": false, \"type\": \"scatter\", \"data\": [0.9002979276646557, 0.9158932723730517, 0.9039791607748868, 0.9110158606711916, 0.8719178135997989, 0.8976804062971342, 0.8207946930775516, 0.7784652502828053, 0.7784218475050276, 0.8899598180618401, 0.9029674930869784, 0.9033959236739567, 0.9190698254462042, 0.9261904341063348, 0.9175207783433887, 0.8990337481146304, 0.8608526583710409, 0.8905593066553544, 0.9173037644544997, 0.9131399454813977, 0.9020636940673704, 0.9229029191804927, 0.9198321235545501, 0.8968827575100552, 0.9179087520424837, 0.6911612501571142, 0.9075923438285569, 0.8958600427350427, 0.920968647875817, 0.8832892431812469, 0.7065167994281045, 0.8860292153720464, 0.9108720030480141, 0.9018658284627954, 0.8946650915975364, 0.9214569782239819, 0.9115799985859728]}, {\"categories\": [\"0\", \"1\", \"2\", \"3\", \"4\", \"5\", \"6\", \"7\", \"8\", \"9\", \"10\", \"11\", \"12\", \"13\", \"14\", \"15\", \"16\", \"17\", \"18\", \"19\", \"20\", \"21\", \"22\", \"23\", \"24\", \"25\", \"26\", \"27\", \"28\", \"29\", \"30\", \"31\", \"32\", \"33\", \"34\", \"38\", \"39\"], \"mode\": \"lines\", \"name\": \"AUC_macro_max\", \"stepped\": true, \"type\": \"scatter\", \"data\": [0.9002979276646557, 0.9158932723730517, 0.9158932723730517, 0.9158932723730517, 0.9158932723730517, 0.9158932723730517, 0.9158932723730517, 0.9158932723730517, 0.9158932723730517, 0.9158932723730517, 0.9158932723730517, 0.9158932723730517, 0.9190698254462042, 0.9261904341063348, 0.9261904341063348, 0.9261904341063348, 0.9261904341063348, 0.9261904341063348, 0.9261904341063348, 0.9261904341063348, 0.9261904341063348, 0.9261904341063348, 0.9261904341063348, 0.9261904341063348, 0.9261904341063348, 0.9261904341063348, 0.9261904341063348, 0.9261904341063348, 0.9261904341063348, 0.9261904341063348, 0.9261904341063348, 0.9261904341063348, 0.9261904341063348, 0.9261904341063348, 0.9261904341063348, 0.9261904341063348, 0.9261904341063348]}], \"precision_score_macro\": [{\"categories\": [\"0\", \"1\", \"2\", \"3\", \"4\", \"5\", \"6\", \"7\", \"8\", \"9\", \"10\", \"11\", \"12\", \"13\", \"14\", \"15\", \"16\", \"17\", \"18\", \"19\", \"20\", \"21\", \"22\", \"23\", \"24\", \"25\", \"26\", \"27\", \"28\", \"29\", \"30\", \"31\", \"32\", \"33\", \"34\", \"38\", \"39\"], \"mode\": \"markers\", \"name\": \"precision_score_macro\", \"stepped\": false, \"type\": \"scatter\", \"data\": [0.8176426426426427, 0.8088586680280759, 0.7969344091937159, 0.8445436507936508, 0.7989924344623833, 0.8029176201372998, 0.8086223125613881, 0.7327867022480516, 0.7466558972073678, 0.8326994832751412, 0.8303013163307281, 0.7783269557823128, 0.8515741070017386, 0.8479409769204378, 0.8423611111111111, 0.8588100510797879, 0.78711210571185, 0.8118850104144222, 0.8358066876945596, 0.8115395261985203, 0.7673355954248402, 0.8358238407387014, 0.8547184781058337, 0.8364948830409357, 0.8388014692716915, 0.6625835681328358, 0.8235515717427818, 0.8002525540086739, 0.838672187182699, 0.7879682141797033, 0.328125, 0.8066582120431179, 0.8172670546415166, 0.8342949891073167, 0.8106540230682108, 0.8710149957053982, 0.8388481409040619]}, {\"categories\": [\"0\", \"1\", \"2\", \"3\", \"4\", \"5\", \"6\", \"7\", \"8\", \"9\", \"10\", \"11\", \"12\", \"13\", \"14\", \"15\", \"16\", \"17\", \"18\", \"19\", \"20\", \"21\", \"22\", \"23\", \"24\", \"25\", \"26\", \"27\", \"28\", \"29\", \"30\", \"31\", \"32\", \"33\", \"34\", \"38\", \"39\"], \"mode\": \"lines\", \"name\": \"precision_score_macro_max\", \"stepped\": true, \"type\": \"scatter\", \"data\": [0.8176426426426427, 0.8176426426426427, 0.8176426426426427, 0.8445436507936508, 0.8445436507936508, 0.8445436507936508, 0.8445436507936508, 0.8445436507936508, 0.8445436507936508, 0.8445436507936508, 0.8445436507936508, 0.8445436507936508, 0.8515741070017386, 0.8515741070017386, 0.8515741070017386, 0.8588100510797879, 0.8588100510797879, 0.8588100510797879, 0.8588100510797879, 0.8588100510797879, 0.8588100510797879, 0.8588100510797879, 0.8588100510797879, 0.8588100510797879, 0.8588100510797879, 0.8588100510797879, 0.8588100510797879, 0.8588100510797879, 0.8588100510797879, 0.8588100510797879, 0.8588100510797879, 0.8588100510797879, 0.8588100510797879, 0.8588100510797879, 0.8588100510797879, 0.8710149957053982, 0.8710149957053982]}], \"balanced_accuracy\": [{\"categories\": [\"0\", \"1\", \"2\", \"3\", \"4\", \"5\", \"6\", \"7\", \"8\", \"9\", \"10\", \"11\", \"12\", \"13\", \"14\", \"15\", \"16\", \"17\", \"18\", \"19\", \"20\", \"21\", \"22\", \"23\", \"24\", \"25\", \"26\", \"27\", \"28\", \"29\", \"30\", \"31\", \"32\", \"33\", \"34\", \"38\", \"39\"], \"mode\": \"markers\", \"name\": \"balanced_accuracy\", \"stepped\": false, \"type\": \"scatter\", \"data\": [0.8121248900201106, 0.8045928387380593, 0.7786301219205631, 0.8404168237807943, 0.8151776175213674, 0.7975227029914529, 0.6705591691804926, 0.6722485388386124, 0.6611562814228256, 0.8058069381598794, 0.8264222756410255, 0.669878079436903, 0.8208788964303669, 0.8146288964303671, 0.8279168237807943, 0.8342791603821016, 0.633142439668175, 0.7797464177978884, 0.816378362242333, 0.6888496103569632, 0.7074338549522373, 0.8143885118149824, 0.8135259552538964, 0.80711569884364, 0.8010071015585722, 0.6588569161639015, 0.821506567370538, 0.7913716848919055, 0.8322704562594267, 0.7623774509803921, 0.5, 0.7495569381598793, 0.8196223761940675, 0.7982615321769734, 0.8091868558320763, 0.8411913964303669, 0.808411104826546]}, {\"categories\": [\"0\", \"1\", \"2\", \"3\", \"4\", \"5\", \"6\", \"7\", \"8\", \"9\", \"10\", \"11\", \"12\", \"13\", \"14\", \"15\", \"16\", \"17\", \"18\", \"19\", \"20\", \"21\", \"22\", \"23\", \"24\", \"25\", \"26\", \"27\", \"28\", \"29\", \"30\", \"31\", \"32\", \"33\", \"34\", \"38\", \"39\"], \"mode\": \"lines\", \"name\": \"balanced_accuracy_max\", \"stepped\": true, \"type\": \"scatter\", \"data\": [0.8121248900201106, 0.8121248900201106, 0.8121248900201106, 0.8404168237807943, 0.8404168237807943, 0.8404168237807943, 0.8404168237807943, 0.8404168237807943, 0.8404168237807943, 0.8404168237807943, 0.8404168237807943, 0.8404168237807943, 0.8404168237807943, 0.8404168237807943, 0.8404168237807943, 0.8404168237807943, 0.8404168237807943, 0.8404168237807943, 0.8404168237807943, 0.8404168237807943, 0.8404168237807943, 0.8404168237807943, 0.8404168237807943, 0.8404168237807943, 0.8404168237807943, 0.8404168237807943, 0.8404168237807943, 0.8404168237807943, 0.8404168237807943, 0.8404168237807943, 0.8404168237807943, 0.8404168237807943, 0.8404168237807943, 0.8404168237807943, 0.8404168237807943, 0.8411913964303669, 0.8411913964303669]}], \"f1_score_weighted\": [{\"categories\": [\"0\", \"1\", \"2\", \"3\", \"4\", \"5\", \"6\", \"7\", \"8\", \"9\", \"10\", \"11\", \"12\", \"13\", \"14\", \"15\", \"16\", \"17\", \"18\", \"19\", \"20\", \"21\", \"22\", \"23\", \"24\", \"25\", \"26\", \"27\", \"28\", \"29\", \"30\", \"31\", \"32\", \"33\", \"34\", \"38\", \"39\"], \"mode\": \"markers\", \"name\": \"f1_score_weighted\", \"stepped\": false, \"type\": \"scatter\", \"data\": [0.8234029154141936, 0.8094060274377093, 0.8113594954454261, 0.8474962744699587, 0.8071642774535959, 0.8101666569352328, 0.7196773606433634, 0.7140874884302548, 0.70442050397558, 0.8254848329345233, 0.8329145316870623, 0.7217744975357085, 0.8378285303816042, 0.8328431231405579, 0.8351706127082067, 0.8480571694387482, 0.6889549205678707, 0.8051604659393949, 0.8244836315061486, 0.7339280840772678, 0.7514832224748795, 0.8259172673115921, 0.8364795918367346, 0.8248164957906222, 0.8166648464050337, 0.6414125691762222, 0.8261540907990078, 0.8056574872923107, 0.8380147394873423, 0.7728289212564265, 0.5214331530407045, 0.7898894540774379, 0.8262257579128524, 0.8125825168185024, 0.815835196098354, 0.8556230778575405, 0.8288768659539336]}, {\"categories\": [\"0\", \"1\", \"2\", \"3\", \"4\", \"5\", \"6\", \"7\", \"8\", \"9\", \"10\", \"11\", \"12\", \"13\", \"14\", \"15\", \"16\", \"17\", \"18\", \"19\", \"20\", \"21\", \"22\", \"23\", \"24\", \"25\", \"26\", \"27\", \"28\", \"29\", \"30\", \"31\", \"32\", \"33\", \"34\", \"38\", \"39\"], \"mode\": \"lines\", \"name\": \"f1_score_weighted_max\", \"stepped\": true, \"type\": \"scatter\", \"data\": [0.8234029154141936, 0.8234029154141936, 0.8234029154141936, 0.8474962744699587, 0.8474962744699587, 0.8474962744699587, 0.8474962744699587, 0.8474962744699587, 0.8474962744699587, 0.8474962744699587, 0.8474962744699587, 0.8474962744699587, 0.8474962744699587, 0.8474962744699587, 0.8474962744699587, 0.8480571694387482, 0.8480571694387482, 0.8480571694387482, 0.8480571694387482, 0.8480571694387482, 0.8480571694387482, 0.8480571694387482, 0.8480571694387482, 0.8480571694387482, 0.8480571694387482, 0.8480571694387482, 0.8480571694387482, 0.8480571694387482, 0.8480571694387482, 0.8480571694387482, 0.8480571694387482, 0.8480571694387482, 0.8480571694387482, 0.8480571694387482, 0.8480571694387482, 0.8556230778575405, 0.8556230778575405]}], \"average_precision_score_weighted\": [{\"categories\": [\"0\", \"1\", \"2\", \"3\", \"4\", \"5\", \"6\", \"7\", \"8\", \"9\", \"10\", \"11\", \"12\", \"13\", \"14\", \"15\", \"16\", \"17\", \"18\", \"19\", \"20\", \"21\", \"22\", \"23\", \"24\", \"25\", \"26\", \"27\", \"28\", \"29\", \"30\", \"31\", \"32\", \"33\", \"34\", \"38\", \"39\"], \"mode\": \"markers\", \"name\": \"average_precision_score_weighted\", \"stepped\": false, \"type\": \"scatter\", \"data\": [0.8982973461226618, 0.9218266631431079, 0.9101112807151817, 0.9148621890371313, 0.8812793348331185, 0.904375656263325, 0.832839268774469, 0.8026936793520034, 0.7997955915805682, 0.8988060032933826, 0.9108685046955061, 0.9100625748974946, 0.9208858616532043, 0.9292423691389486, 0.9173336218217655, 0.9122074408779131, 0.874195320901805, 0.8999682199509835, 0.9182189977834926, 0.9195592656492789, 0.909685544680918, 0.927851961400741, 0.9231986039038373, 0.8869977492270018, 0.9214731948473738, 0.6903932229490851, 0.9081974894682829, 0.9040142221319101, 0.9193493602061841, 0.8956418608217652, 0.732984891079422, 0.8956780502875197, 0.9114630248476314, 0.9066497484423133, 0.9005297940953831, 0.9248584544197557, 0.9117644717429032]}, {\"categories\": [\"0\", \"1\", \"2\", \"3\", \"4\", \"5\", \"6\", \"7\", \"8\", \"9\", \"10\", \"11\", \"12\", \"13\", \"14\", \"15\", \"16\", \"17\", \"18\", \"19\", \"20\", \"21\", \"22\", \"23\", \"24\", \"25\", \"26\", \"27\", \"28\", \"29\", \"30\", \"31\", \"32\", \"33\", \"34\", \"38\", \"39\"], \"mode\": \"lines\", \"name\": \"average_precision_score_weighted_max\", \"stepped\": true, \"type\": \"scatter\", \"data\": [0.8982973461226618, 0.9218266631431079, 0.9218266631431079, 0.9218266631431079, 0.9218266631431079, 0.9218266631431079, 0.9218266631431079, 0.9218266631431079, 0.9218266631431079, 0.9218266631431079, 0.9218266631431079, 0.9218266631431079, 0.9218266631431079, 0.9292423691389486, 0.9292423691389486, 0.9292423691389486, 0.9292423691389486, 0.9292423691389486, 0.9292423691389486, 0.9292423691389486, 0.9292423691389486, 0.9292423691389486, 0.9292423691389486, 0.9292423691389486, 0.9292423691389486, 0.9292423691389486, 0.9292423691389486, 0.9292423691389486, 0.9292423691389486, 0.9292423691389486, 0.9292423691389486, 0.9292423691389486, 0.9292423691389486, 0.9292423691389486, 0.9292423691389486, 0.9292423691389486, 0.9292423691389486]}], \"AUC_micro\": [{\"categories\": [\"0\", \"1\", \"2\", \"3\", \"4\", \"5\", \"6\", \"7\", \"8\", \"9\", \"10\", \"11\", \"12\", \"13\", \"14\", \"15\", \"16\", \"17\", \"18\", \"19\", \"20\", \"21\", \"22\", \"23\", \"24\", \"25\", \"26\", \"27\", \"28\", \"29\", \"30\", \"31\", \"32\", \"33\", \"34\", \"38\", \"39\"], \"mode\": \"markers\", \"name\": \"AUC_micro\", \"stepped\": false, \"type\": \"scatter\", \"data\": [0.8967633928571429, 0.9080436862244898, 0.9018654336734693, 0.9067283163265307, 0.8779496173469388, 0.8919005102040817, 0.8262117346938775, 0.7979910714285714, 0.7992665816326531, 0.8885522959183673, 0.8959661989795918, 0.8760363520408163, 0.9013871173469388, 0.9115114795918366, 0.907844387755102, 0.895966198979592, 0.8396843112244897, 0.8933354591836735, 0.9080038265306123, 0.8780293367346939, 0.8869579081632654, 0.9158163265306123, 0.9079241071428572, 0.8911033163265306, 0.9053730867346939, 0.6808035714285714, 0.9009088010204083, 0.8935746173469388, 0.9134247448979591, 0.8606505102040816, 0.7489636479591837, 0.8834502551020407, 0.9025031887755102, 0.893813775510204, 0.8911830357142857, 0.904735331632653, 0.8966039540816326]}, {\"categories\": [\"0\", \"1\", \"2\", \"3\", \"4\", \"5\", \"6\", \"7\", \"8\", \"9\", \"10\", \"11\", \"12\", \"13\", \"14\", \"15\", \"16\", \"17\", \"18\", \"19\", \"20\", \"21\", \"22\", \"23\", \"24\", \"25\", \"26\", \"27\", \"28\", \"29\", \"30\", \"31\", \"32\", \"33\", \"34\", \"38\", \"39\"], \"mode\": \"lines\", \"name\": \"AUC_micro_max\", \"stepped\": true, \"type\": \"scatter\", \"data\": [0.8967633928571429, 0.9080436862244898, 0.9080436862244898, 0.9080436862244898, 0.9080436862244898, 0.9080436862244898, 0.9080436862244898, 0.9080436862244898, 0.9080436862244898, 0.9080436862244898, 0.9080436862244898, 0.9080436862244898, 0.9080436862244898, 0.9115114795918366, 0.9115114795918366, 0.9115114795918366, 0.9115114795918366, 0.9115114795918366, 0.9115114795918366, 0.9115114795918366, 0.9115114795918366, 0.9158163265306123, 0.9158163265306123, 0.9158163265306123, 0.9158163265306123, 0.9158163265306123, 0.9158163265306123, 0.9158163265306123, 0.9158163265306123, 0.9158163265306123, 0.9158163265306123, 0.9158163265306123, 0.9158163265306123, 0.9158163265306123, 0.9158163265306123, 0.9158163265306123, 0.9158163265306123]}], \"precision_score_micro\": [{\"categories\": [\"0\", \"1\", \"2\", \"3\", \"4\", \"5\", \"6\", \"7\", \"8\", \"9\", \"10\", \"11\", \"12\", \"13\", \"14\", \"15\", \"16\", \"17\", \"18\", \"19\", \"20\", \"21\", \"22\", \"23\", \"24\", \"25\", \"26\", \"27\", \"28\", \"29\", \"30\", \"31\", \"32\", \"33\", \"34\", \"38\", \"39\"], \"mode\": \"markers\", \"name\": \"precision_score_micro\", \"stepped\": false, \"type\": \"scatter\", \"data\": [0.8258928571428571, 0.8125, 0.8169642857142858, 0.8482142857142856, 0.8035714285714286, 0.8125, 0.7589285714285714, 0.7366071428571428, 0.7366071428571429, 0.8303571428571428, 0.8348214285714286, 0.7544642857142858, 0.8437499999999999, 0.8392857142857143, 0.8392857142857143, 0.8526785714285714, 0.7366071428571428, 0.8125, 0.8303571428571429, 0.7678571428571428, 0.7678571428571429, 0.8303571428571429, 0.84375, 0.8303571428571429, 0.8258928571428571, 0.6517857142857143, 0.8258928571428572, 0.8080357142857143, 0.8392857142857144, 0.7767857142857143, 0.65625, 0.8035714285714286, 0.8258928571428572, 0.8214285714285715, 0.8169642857142856, 0.8616071428571429, 0.8348214285714285]}, {\"categories\": [\"0\", \"1\", \"2\", \"3\", \"4\", \"5\", \"6\", \"7\", \"8\", \"9\", \"10\", \"11\", \"12\", \"13\", \"14\", \"15\", \"16\", \"17\", \"18\", \"19\", \"20\", \"21\", \"22\", \"23\", \"24\", \"25\", \"26\", \"27\", \"28\", \"29\", \"30\", \"31\", \"32\", \"33\", \"34\", \"38\", \"39\"], \"mode\": \"lines\", \"name\": \"precision_score_micro_max\", \"stepped\": true, \"type\": \"scatter\", \"data\": [0.8258928571428571, 0.8258928571428571, 0.8258928571428571, 0.8482142857142856, 0.8482142857142856, 0.8482142857142856, 0.8482142857142856, 0.8482142857142856, 0.8482142857142856, 0.8482142857142856, 0.8482142857142856, 0.8482142857142856, 0.8482142857142856, 0.8482142857142856, 0.8482142857142856, 0.8526785714285714, 0.8526785714285714, 0.8526785714285714, 0.8526785714285714, 0.8526785714285714, 0.8526785714285714, 0.8526785714285714, 0.8526785714285714, 0.8526785714285714, 0.8526785714285714, 0.8526785714285714, 0.8526785714285714, 0.8526785714285714, 0.8526785714285714, 0.8526785714285714, 0.8526785714285714, 0.8526785714285714, 0.8526785714285714, 0.8526785714285714, 0.8526785714285714, 0.8616071428571429, 0.8616071428571429]}], \"f1_score_micro\": [{\"categories\": [\"0\", \"1\", \"2\", \"3\", \"4\", \"5\", \"6\", \"7\", \"8\", \"9\", \"10\", \"11\", \"12\", \"13\", \"14\", \"15\", \"16\", \"17\", \"18\", \"19\", \"20\", \"21\", \"22\", \"23\", \"24\", \"25\", \"26\", \"27\", \"28\", \"29\", \"30\", \"31\", \"32\", \"33\", \"34\", \"38\", \"39\"], \"mode\": \"markers\", \"name\": \"f1_score_micro\", \"stepped\": false, \"type\": \"scatter\", \"data\": [0.8258928571428571, 0.8125, 0.8169642857142858, 0.8482142857142856, 0.8035714285714286, 0.8125, 0.7589285714285714, 0.7366071428571428, 0.7366071428571429, 0.8303571428571428, 0.8348214285714286, 0.7544642857142858, 0.8437499999999999, 0.8392857142857143, 0.8392857142857143, 0.8526785714285714, 0.7366071428571428, 0.8125, 0.8303571428571429, 0.7678571428571428, 0.7678571428571429, 0.8303571428571429, 0.84375, 0.8303571428571429, 0.8258928571428571, 0.6517857142857143, 0.8258928571428572, 0.8080357142857143, 0.8392857142857144, 0.7767857142857143, 0.65625, 0.8035714285714286, 0.8258928571428572, 0.8214285714285715, 0.8169642857142856, 0.8616071428571429, 0.8348214285714285]}, {\"categories\": [\"0\", \"1\", \"2\", \"3\", \"4\", \"5\", \"6\", \"7\", \"8\", \"9\", \"10\", \"11\", \"12\", \"13\", \"14\", \"15\", \"16\", \"17\", \"18\", \"19\", \"20\", \"21\", \"22\", \"23\", \"24\", \"25\", \"26\", \"27\", \"28\", \"29\", \"30\", \"31\", \"32\", \"33\", \"34\", \"38\", \"39\"], \"mode\": \"lines\", \"name\": \"f1_score_micro_max\", \"stepped\": true, \"type\": \"scatter\", \"data\": [0.8258928571428571, 0.8258928571428571, 0.8258928571428571, 0.8482142857142856, 0.8482142857142856, 0.8482142857142856, 0.8482142857142856, 0.8482142857142856, 0.8482142857142856, 0.8482142857142856, 0.8482142857142856, 0.8482142857142856, 0.8482142857142856, 0.8482142857142856, 0.8482142857142856, 0.8526785714285714, 0.8526785714285714, 0.8526785714285714, 0.8526785714285714, 0.8526785714285714, 0.8526785714285714, 0.8526785714285714, 0.8526785714285714, 0.8526785714285714, 0.8526785714285714, 0.8526785714285714, 0.8526785714285714, 0.8526785714285714, 0.8526785714285714, 0.8526785714285714, 0.8526785714285714, 0.8526785714285714, 0.8526785714285714, 0.8526785714285714, 0.8526785714285714, 0.8616071428571429, 0.8616071428571429]}], \"log_loss\": [{\"categories\": [\"0\", \"1\", \"2\", \"3\", \"4\", \"5\", \"6\", \"7\", \"8\", \"9\", \"10\", \"11\", \"12\", \"13\", \"14\", \"15\", \"16\", \"17\", \"18\", \"19\", \"20\", \"21\", \"22\", \"23\", \"24\", \"25\", \"26\", \"27\", \"28\", \"29\", \"30\", \"31\", \"32\", \"33\", \"34\", \"38\", \"39\"], \"mode\": \"markers\", \"name\": \"log_loss\", \"stepped\": false, \"type\": \"scatter\", \"data\": [0.4923423521307388, 0.3860917972383906, 0.41954777308844154, 0.3999568079167024, 0.4624618422380118, 0.4608900496334177, 0.8257759894085778, 0.5590480589787514, 0.559374807423732, 0.4460286082668995, 0.47889802736828824, 0.49244076765620215, 0.43581119508113064, 0.4248108527679782, 0.39019536462963655, 0.4119419570081343, 0.5293382824953301, 0.432516963686651, 0.4005646323847978, 0.49421066138871006, 0.47156330532750096, 0.391478659128872, 0.43254127649955953, 0.42313825513532205, 0.4065438502511832, 0.6818651770147225, 0.4045954950634056, 0.4223261591771259, 0.379168250490662, 0.47772382016203185, 0.648738782053168, 0.44606212970664605, 0.4075887421284482, 0.4441056415794661, 0.4248988590593506, 0.43995487289169594, 0.4170400981944098]}, {\"categories\": [\"0\", \"1\", \"2\", \"3\", \"4\", \"5\", \"6\", \"7\", \"8\", \"9\", \"10\", \"11\", \"12\", \"13\", \"14\", \"15\", \"16\", \"17\", \"18\", \"19\", \"20\", \"21\", \"22\", \"23\", \"24\", \"25\", \"26\", \"27\", \"28\", \"29\", \"30\", \"31\", \"32\", \"33\", \"34\", \"38\", \"39\"], \"mode\": \"lines\", \"name\": \"log_loss_min\", \"stepped\": true, \"type\": \"scatter\", \"data\": [0.4923423521307388, 0.3860917972383906, 0.3860917972383906, 0.3860917972383906, 0.3860917972383906, 0.3860917972383906, 0.3860917972383906, 0.3860917972383906, 0.3860917972383906, 0.3860917972383906, 0.3860917972383906, 0.3860917972383906, 0.3860917972383906, 0.3860917972383906, 0.3860917972383906, 0.3860917972383906, 0.3860917972383906, 0.3860917972383906, 0.3860917972383906, 0.3860917972383906, 0.3860917972383906, 0.3860917972383906, 0.3860917972383906, 0.3860917972383906, 0.3860917972383906, 0.3860917972383906, 0.3860917972383906, 0.3860917972383906, 0.379168250490662, 0.379168250490662, 0.379168250490662, 0.379168250490662, 0.379168250490662, 0.379168250490662, 0.379168250490662, 0.379168250490662, 0.379168250490662]}], \"average_precision_score_micro\": [{\"categories\": [\"0\", \"1\", \"2\", \"3\", \"4\", \"5\", \"6\", \"7\", \"8\", \"9\", \"10\", \"11\", \"12\", \"13\", \"14\", \"15\", \"16\", \"17\", \"18\", \"19\", \"20\", \"21\", \"22\", \"23\", \"24\", \"25\", \"26\", \"27\", \"28\", \"29\", \"30\", \"31\", \"32\", \"33\", \"34\", \"38\", \"39\"], \"mode\": \"markers\", \"name\": \"average_precision_score_micro\", \"stepped\": false, \"type\": \"scatter\", \"data\": [0.8954889972114491, 0.909550839154022, 0.9067132409148283, 0.9093647641928193, 0.8758933743862878, 0.8945846502149704, 0.8168492438738064, 0.7921800707384605, 0.7911841457382905, 0.8870879380791885, 0.8981988262194323, 0.8812858700072032, 0.9066893681812489, 0.915899089647227, 0.909250073062134, 0.8959170174700444, 0.8504841703185624, 0.8937699666210291, 0.9113759980626214, 0.8844473594338764, 0.8950345973555991, 0.9187161005390453, 0.9103140650545561, 0.876523420768188, 0.9096989051397741, 0.6661610545126122, 0.9014919702750386, 0.8988629126469964, 0.9162084442032021, 0.8623305433672086, 0.740042214064573, 0.8887134729914261, 0.9039071647180855, 0.8974340079459334, 0.8943165603046183, 0.9085802785137382, 0.8956118501854093]}, {\"categories\": [\"0\", \"1\", \"2\", \"3\", \"4\", \"5\", \"6\", \"7\", \"8\", \"9\", \"10\", \"11\", \"12\", \"13\", \"14\", \"15\", \"16\", \"17\", \"18\", \"19\", \"20\", \"21\", \"22\", \"23\", \"24\", \"25\", \"26\", \"27\", \"28\", \"29\", \"30\", \"31\", \"32\", \"33\", \"34\", \"38\", \"39\"], \"mode\": \"lines\", \"name\": \"average_precision_score_micro_max\", \"stepped\": true, \"type\": \"scatter\", \"data\": [0.8954889972114491, 0.909550839154022, 0.909550839154022, 0.909550839154022, 0.909550839154022, 0.909550839154022, 0.909550839154022, 0.909550839154022, 0.909550839154022, 0.909550839154022, 0.909550839154022, 0.909550839154022, 0.909550839154022, 0.915899089647227, 0.915899089647227, 0.915899089647227, 0.915899089647227, 0.915899089647227, 0.915899089647227, 0.915899089647227, 0.915899089647227, 0.9187161005390453, 0.9187161005390453, 0.9187161005390453, 0.9187161005390453, 0.9187161005390453, 0.9187161005390453, 0.9187161005390453, 0.9187161005390453, 0.9187161005390453, 0.9187161005390453, 0.9187161005390453, 0.9187161005390453, 0.9187161005390453, 0.9187161005390453, 0.9187161005390453, 0.9187161005390453]}], \"recall_score_macro\": [{\"categories\": [\"0\", \"1\", \"2\", \"3\", \"4\", \"5\", \"6\", \"7\", \"8\", \"9\", \"10\", \"11\", \"12\", \"13\", \"14\", \"15\", \"16\", \"17\", \"18\", \"19\", \"20\", \"21\", \"22\", \"23\", \"24\", \"25\", \"26\", \"27\", \"28\", \"29\", \"30\", \"31\", \"32\", \"33\", \"34\", \"38\", \"39\"], \"mode\": \"markers\", \"name\": \"recall_score_macro\", \"stepped\": false, \"type\": \"scatter\", \"data\": [0.8121248900201106, 0.8045928387380593, 0.7786301219205631, 0.8404168237807943, 0.8151776175213674, 0.7975227029914529, 0.6705591691804926, 0.6722485388386124, 0.6611562814228256, 0.8058069381598794, 0.8264222756410255, 0.669878079436903, 0.8208788964303669, 0.8146288964303671, 0.8279168237807943, 0.8342791603821016, 0.633142439668175, 0.7797464177978884, 0.816378362242333, 0.6888496103569632, 0.7074338549522373, 0.8143885118149824, 0.8135259552538964, 0.80711569884364, 0.8010071015585722, 0.6588569161639015, 0.821506567370538, 0.7913716848919055, 0.8322704562594267, 0.7623774509803921, 0.5, 0.7495569381598793, 0.8196223761940675, 0.7982615321769734, 0.8091868558320763, 0.8411913964303669, 0.808411104826546]}, {\"categories\": [\"0\", \"1\", \"2\", \"3\", \"4\", \"5\", \"6\", \"7\", \"8\", \"9\", \"10\", \"11\", \"12\", \"13\", \"14\", \"15\", \"16\", \"17\", \"18\", \"19\", \"20\", \"21\", \"22\", \"23\", \"24\", \"25\", \"26\", \"27\", \"28\", \"29\", \"30\", \"31\", \"32\", \"33\", \"34\", \"38\", \"39\"], \"mode\": \"lines\", \"name\": \"recall_score_macro_max\", \"stepped\": true, \"type\": \"scatter\", \"data\": [0.8121248900201106, 0.8121248900201106, 0.8121248900201106, 0.8404168237807943, 0.8404168237807943, 0.8404168237807943, 0.8404168237807943, 0.8404168237807943, 0.8404168237807943, 0.8404168237807943, 0.8404168237807943, 0.8404168237807943, 0.8404168237807943, 0.8404168237807943, 0.8404168237807943, 0.8404168237807943, 0.8404168237807943, 0.8404168237807943, 0.8404168237807943, 0.8404168237807943, 0.8404168237807943, 0.8404168237807943, 0.8404168237807943, 0.8404168237807943, 0.8404168237807943, 0.8404168237807943, 0.8404168237807943, 0.8404168237807943, 0.8404168237807943, 0.8404168237807943, 0.8404168237807943, 0.8404168237807943, 0.8404168237807943, 0.8404168237807943, 0.8404168237807943, 0.8411913964303669, 0.8411913964303669]}], \"AUC_weighted\": [{\"categories\": [\"0\", \"1\", \"2\", \"3\", \"4\", \"5\", \"6\", \"7\", \"8\", \"9\", \"10\", \"11\", \"12\", \"13\", \"14\", \"15\", \"16\", \"17\", \"18\", \"19\", \"20\", \"21\", \"22\", \"23\", \"24\", \"25\", \"26\", \"27\", \"28\", \"29\", \"30\", \"31\", \"32\", \"33\", \"34\", \"38\", \"39\"], \"mode\": \"markers\", \"name\": \"AUC_weighted\", \"stepped\": false, \"type\": \"scatter\", \"data\": [0.9002979276646556, 0.9159180739603534, 0.9039791607748869, 0.9110158606711916, 0.8719178135997989, 0.8976804062971342, 0.8207946930775515, 0.7784652502828053, 0.7784218475050277, 0.8899598180618401, 0.9029674930869784, 0.9033959236739567, 0.9190698254462041, 0.9261904341063347, 0.9175207783433885, 0.8990337481146304, 0.8608526583710407, 0.8905593066553544, 0.9173037644544997, 0.9131399454813977, 0.9020636940673704, 0.9229029191804927, 0.91983212355455, 0.8968827575100553, 0.9179087520424837, 0.6911612501571142, 0.9075923438285571, 0.8958600427350427, 0.9209686478758169, 0.8832892431812469, 0.7065167994281046, 0.8860292153720464, 0.910872003048014, 0.9018658284627954, 0.8946650915975364, 0.9214569782239819, 0.9115799985859728]}, {\"categories\": [\"0\", \"1\", \"2\", \"3\", \"4\", \"5\", \"6\", \"7\", \"8\", \"9\", \"10\", \"11\", \"12\", \"13\", \"14\", \"15\", \"16\", \"17\", \"18\", \"19\", \"20\", \"21\", \"22\", \"23\", \"24\", \"25\", \"26\", \"27\", \"28\", \"29\", \"30\", \"31\", \"32\", \"33\", \"34\", \"38\", \"39\"], \"mode\": \"lines\", \"name\": \"AUC_weighted_max\", \"stepped\": true, \"type\": \"scatter\", \"data\": [0.9002979276646556, 0.9159180739603534, 0.9159180739603534, 0.9159180739603534, 0.9159180739603534, 0.9159180739603534, 0.9159180739603534, 0.9159180739603534, 0.9159180739603534, 0.9159180739603534, 0.9159180739603534, 0.9159180739603534, 0.9190698254462041, 0.9261904341063347, 0.9261904341063347, 0.9261904341063347, 0.9261904341063347, 0.9261904341063347, 0.9261904341063347, 0.9261904341063347, 0.9261904341063347, 0.9261904341063347, 0.9261904341063347, 0.9261904341063347, 0.9261904341063347, 0.9261904341063347, 0.9261904341063347, 0.9261904341063347, 0.9261904341063347, 0.9261904341063347, 0.9261904341063347, 0.9261904341063347, 0.9261904341063347, 0.9261904341063347, 0.9261904341063347, 0.9261904341063347, 0.9261904341063347]}], \"weighted_accuracy\": [{\"categories\": [\"0\", \"1\", \"2\", \"3\", \"4\", \"5\", \"6\", \"7\", \"8\", \"9\", \"10\", \"11\", \"12\", \"13\", \"14\", \"15\", \"16\", \"17\", \"18\", \"19\", \"20\", \"21\", \"22\", \"23\", \"24\", \"25\", \"26\", \"27\", \"28\", \"29\", \"30\", \"31\", \"32\", \"33\", \"34\", \"38\", \"39\"], \"mode\": \"markers\", \"name\": \"weighted_accuracy\", \"stepped\": false, \"type\": \"scatter\", \"data\": [0.8385053172751683, 0.8207413226957876, 0.8456457609176231, 0.856017138933921, 0.7964623495221013, 0.8257683673799501, 0.828211914578518, 0.7872000282174143, 0.7958730548855667, 0.8512520264416942, 0.8436388422592622, 0.820343443674806, 0.8634915500526605, 0.8605434368451133, 0.8501550699684037, 0.8692050192848951, 0.8167772342979975, 0.8387907759609197, 0.8434581474638475, 0.8302753354637181, 0.8150464014709001, 0.8448915112312498, 0.8689712326157362, 0.8503700030913346, 0.8476566965136216, 0.6444288220218047, 0.8315196829944249, 0.8226160328831726, 0.8468002620445223, 0.7906853192162389, 0.7766378501565437, 0.8456404454397423, 0.8325076609381122, 0.8420770622975804, 0.8252106915243514, 0.8793706977429663, 0.8566310114774782]}, {\"categories\": [\"0\", \"1\", \"2\", \"3\", \"4\", \"5\", \"6\", \"7\", \"8\", \"9\", \"10\", \"11\", \"12\", \"13\", \"14\", \"15\", \"16\", \"17\", \"18\", \"19\", \"20\", \"21\", \"22\", \"23\", \"24\", \"25\", \"26\", \"27\", \"28\", \"29\", \"30\", \"31\", \"32\", \"33\", \"34\", \"38\", \"39\"], \"mode\": \"lines\", \"name\": \"weighted_accuracy_max\", \"stepped\": true, \"type\": \"scatter\", \"data\": [0.8385053172751683, 0.8385053172751683, 0.8456457609176231, 0.856017138933921, 0.856017138933921, 0.856017138933921, 0.856017138933921, 0.856017138933921, 0.856017138933921, 0.856017138933921, 0.856017138933921, 0.856017138933921, 0.8634915500526605, 0.8634915500526605, 0.8634915500526605, 0.8692050192848951, 0.8692050192848951, 0.8692050192848951, 0.8692050192848951, 0.8692050192848951, 0.8692050192848951, 0.8692050192848951, 0.8692050192848951, 0.8692050192848951, 0.8692050192848951, 0.8692050192848951, 0.8692050192848951, 0.8692050192848951, 0.8692050192848951, 0.8692050192848951, 0.8692050192848951, 0.8692050192848951, 0.8692050192848951, 0.8692050192848951, 0.8692050192848951, 0.8793706977429663, 0.8793706977429663]}], \"matthews_correlation\": [{\"categories\": [\"0\", \"1\", \"2\", \"3\", \"4\", \"5\", \"6\", \"7\", \"8\", \"9\", \"10\", \"11\", \"12\", \"13\", \"14\", \"15\", \"16\", \"17\", \"18\", \"19\", \"20\", \"21\", \"22\", \"23\", \"24\", \"25\", \"26\", \"27\", \"28\", \"29\", \"30\", \"31\", \"32\", \"33\", \"34\", \"38\", \"39\"], \"mode\": \"markers\", \"name\": \"matthews_correlation\", \"stepped\": false, \"type\": \"scatter\", \"data\": [0.627991654042288, 0.610548767767891, 0.574278135742823, 0.6829590258149297, 0.6126068193352877, 0.5985745371035199, 0.4527170269562386, 0.3962287966694694, 0.39310619168555216, 0.6354309516971164, 0.6545692844994202, 0.4305269915092321, 0.6685306312037103, 0.6584442439326534, 0.6663904549176649, 0.6898609907079827, 0.3868841192650571, 0.5877005840059129, 0.6472984560059665, 0.47815155000264337, 0.46794267632112824, 0.6461144232213298, 0.6642649140491206, 0.6396243708352063, 0.633399024961361, 0.31964658628761267, 0.6427516396552184, 0.5895179249853036, 0.6682442295505358, 0.545860835834415, 0.0, 0.550548129578601, 0.635293832302879, 0.626070233375143, 0.6177398895373669, 0.7084794979604092, 0.6436660368278957]}, {\"categories\": [\"0\", \"1\", \"2\", \"3\", \"4\", \"5\", \"6\", \"7\", \"8\", \"9\", \"10\", \"11\", \"12\", \"13\", \"14\", \"15\", \"16\", \"17\", \"18\", \"19\", \"20\", \"21\", \"22\", \"23\", \"24\", \"25\", \"26\", \"27\", \"28\", \"29\", \"30\", \"31\", \"32\", \"33\", \"34\", \"38\", \"39\"], \"mode\": \"lines\", \"name\": \"matthews_correlation_max\", \"stepped\": true, \"type\": \"scatter\", \"data\": [0.627991654042288, 0.627991654042288, 0.627991654042288, 0.6829590258149297, 0.6829590258149297, 0.6829590258149297, 0.6829590258149297, 0.6829590258149297, 0.6829590258149297, 0.6829590258149297, 0.6829590258149297, 0.6829590258149297, 0.6829590258149297, 0.6829590258149297, 0.6829590258149297, 0.6898609907079827, 0.6898609907079827, 0.6898609907079827, 0.6898609907079827, 0.6898609907079827, 0.6898609907079827, 0.6898609907079827, 0.6898609907079827, 0.6898609907079827, 0.6898609907079827, 0.6898609907079827, 0.6898609907079827, 0.6898609907079827, 0.6898609907079827, 0.6898609907079827, 0.6898609907079827, 0.6898609907079827, 0.6898609907079827, 0.6898609907079827, 0.6898609907079827, 0.7084794979604092, 0.7084794979604092]}], \"precision_score_weighted\": [{\"categories\": [\"0\", \"1\", \"2\", \"3\", \"4\", \"5\", \"6\", \"7\", \"8\", \"9\", \"10\", \"11\", \"12\", \"13\", \"14\", \"15\", \"16\", \"17\", \"18\", \"19\", \"20\", \"21\", \"22\", \"23\", \"24\", \"25\", \"26\", \"27\", \"28\", \"29\", \"30\", \"31\", \"32\", \"33\", \"34\", \"38\", \"39\"], \"mode\": \"markers\", \"name\": \"precision_score_weighted\", \"stepped\": false, \"type\": \"scatter\", \"data\": [0.8404457491863507, 0.8364471565026663, 0.8208933974745226, 0.8677402210884353, 0.8406342992882772, 0.8294529673043893, 0.7975433273958934, 0.7498401378129711, 0.7530414438502674, 0.8481777327994434, 0.8546850121167349, 0.7802705903790087, 0.8641671041342095, 0.8600911749820607, 0.8631200396825397, 0.8719329612421718, 0.7784460632078919, 0.8305785134566647, 0.8559272267878022, 0.8042048380032178, 0.7839101044192578, 0.8561819023990077, 0.8618597433624713, 0.8522099519632415, 0.8524421112947131, 0.7087432826314558, 0.8523627382362093, 0.825373790063585, 0.8636470306961407, 0.8162211281993398, 0.43375318877551017, 0.8158670648497858, 0.8456899167649321, 0.8493825197482796, 0.8388239561825701, 0.8803898938573862, 0.8526710921447763]}, {\"categories\": [\"0\", \"1\", \"2\", \"3\", \"4\", \"5\", \"6\", \"7\", \"8\", \"9\", \"10\", \"11\", \"12\", \"13\", \"14\", \"15\", \"16\", \"17\", \"18\", \"19\", \"20\", \"21\", \"22\", \"23\", \"24\", \"25\", \"26\", \"27\", \"28\", \"29\", \"30\", \"31\", \"32\", \"33\", \"34\", \"38\", \"39\"], \"mode\": \"lines\", \"name\": \"precision_score_weighted_max\", \"stepped\": true, \"type\": \"scatter\", \"data\": [0.8404457491863507, 0.8404457491863507, 0.8404457491863507, 0.8677402210884353, 0.8677402210884353, 0.8677402210884353, 0.8677402210884353, 0.8677402210884353, 0.8677402210884353, 0.8677402210884353, 0.8677402210884353, 0.8677402210884353, 0.8677402210884353, 0.8677402210884353, 0.8677402210884353, 0.8719329612421718, 0.8719329612421718, 0.8719329612421718, 0.8719329612421718, 0.8719329612421718, 0.8719329612421718, 0.8719329612421718, 0.8719329612421718, 0.8719329612421718, 0.8719329612421718, 0.8719329612421718, 0.8719329612421718, 0.8719329612421718, 0.8719329612421718, 0.8719329612421718, 0.8719329612421718, 0.8719329612421718, 0.8719329612421718, 0.8719329612421718, 0.8719329612421718, 0.8803898938573862, 0.8803898938573862]}], \"norm_macro_recall\": [{\"categories\": [\"0\", \"1\", \"2\", \"3\", \"4\", \"5\", \"6\", \"7\", \"8\", \"9\", \"10\", \"11\", \"12\", \"13\", \"14\", \"15\", \"16\", \"17\", \"18\", \"19\", \"20\", \"21\", \"22\", \"23\", \"24\", \"25\", \"26\", \"27\", \"28\", \"29\", \"30\", \"31\", \"32\", \"33\", \"34\", \"38\", \"39\"], \"mode\": \"markers\", \"name\": \"norm_macro_recall\", \"stepped\": false, \"type\": \"scatter\", \"data\": [0.6242497800402211, 0.6091856774761186, 0.5572602438411263, 0.6808336475615888, 0.630355235042735, 0.595045405982906, 0.3411183383609854, 0.3444970776772247, 0.3223125628456511, 0.6116138763197587, 0.6528445512820512, 0.339756158873806, 0.6417577928607341, 0.6292577928607341, 0.6558336475615887, 0.6685583207642031, 0.26628487933634987, 0.5594928355957768, 0.6327567244846657, 0.3776992207139266, 0.41486770990447464, 0.6287770236299648, 0.6270519105077927, 0.61423139768728, 0.6020142031171444, 0.317713832327803, 0.6430131347410759, 0.5827433697838109, 0.6645409125188536, 0.5247549019607842, 0.0, 0.4991138763197586, 0.6392447523881347, 0.5965230643539468, 0.6183737116641528, 0.682382792860734, 0.616822209653092]}, {\"categories\": [\"0\", \"1\", \"2\", \"3\", \"4\", \"5\", \"6\", \"7\", \"8\", \"9\", \"10\", \"11\", \"12\", \"13\", \"14\", \"15\", \"16\", \"17\", \"18\", \"19\", \"20\", \"21\", \"22\", \"23\", \"24\", \"25\", \"26\", \"27\", \"28\", \"29\", \"30\", \"31\", \"32\", \"33\", \"34\", \"38\", \"39\"], \"mode\": \"lines\", \"name\": \"norm_macro_recall_max\", \"stepped\": true, \"type\": \"scatter\", \"data\": [0.6242497800402211, 0.6242497800402211, 0.6242497800402211, 0.6808336475615888, 0.6808336475615888, 0.6808336475615888, 0.6808336475615888, 0.6808336475615888, 0.6808336475615888, 0.6808336475615888, 0.6808336475615888, 0.6808336475615888, 0.6808336475615888, 0.6808336475615888, 0.6808336475615888, 0.6808336475615888, 0.6808336475615888, 0.6808336475615888, 0.6808336475615888, 0.6808336475615888, 0.6808336475615888, 0.6808336475615888, 0.6808336475615888, 0.6808336475615888, 0.6808336475615888, 0.6808336475615888, 0.6808336475615888, 0.6808336475615888, 0.6808336475615888, 0.6808336475615888, 0.6808336475615888, 0.6808336475615888, 0.6808336475615888, 0.6808336475615888, 0.6808336475615888, 0.682382792860734, 0.682382792860734]}], \"recall_score_weighted\": [{\"categories\": [\"0\", \"1\", \"2\", \"3\", \"4\", \"5\", \"6\", \"7\", \"8\", \"9\", \"10\", \"11\", \"12\", \"13\", \"14\", \"15\", \"16\", \"17\", \"18\", \"19\", \"20\", \"21\", \"22\", \"23\", \"24\", \"25\", \"26\", \"27\", \"28\", \"29\", \"30\", \"31\", \"32\", \"33\", \"34\", \"38\", \"39\"], \"mode\": \"markers\", \"name\": \"recall_score_weighted\", \"stepped\": false, \"type\": \"scatter\", \"data\": [0.8258928571428571, 0.8125, 0.8169642857142858, 0.8482142857142856, 0.8035714285714286, 0.8125, 0.7589285714285714, 0.7366071428571428, 0.7366071428571429, 0.8303571428571428, 0.8348214285714286, 0.7544642857142858, 0.8437499999999999, 0.8392857142857143, 0.8392857142857143, 0.8526785714285714, 0.7366071428571428, 0.8125, 0.8303571428571429, 0.7678571428571428, 0.7678571428571429, 0.8303571428571429, 0.84375, 0.8303571428571429, 0.8258928571428571, 0.6517857142857143, 0.8258928571428572, 0.8080357142857143, 0.8392857142857144, 0.7767857142857143, 0.65625, 0.8035714285714286, 0.8258928571428572, 0.8214285714285715, 0.8169642857142856, 0.8616071428571429, 0.8348214285714285]}, {\"categories\": [\"0\", \"1\", \"2\", \"3\", \"4\", \"5\", \"6\", \"7\", \"8\", \"9\", \"10\", \"11\", \"12\", \"13\", \"14\", \"15\", \"16\", \"17\", \"18\", \"19\", \"20\", \"21\", \"22\", \"23\", \"24\", \"25\", \"26\", \"27\", \"28\", \"29\", \"30\", \"31\", \"32\", \"33\", \"34\", \"38\", \"39\"], \"mode\": \"lines\", \"name\": \"recall_score_weighted_max\", \"stepped\": true, \"type\": \"scatter\", \"data\": [0.8258928571428571, 0.8258928571428571, 0.8258928571428571, 0.8482142857142856, 0.8482142857142856, 0.8482142857142856, 0.8482142857142856, 0.8482142857142856, 0.8482142857142856, 0.8482142857142856, 0.8482142857142856, 0.8482142857142856, 0.8482142857142856, 0.8482142857142856, 0.8482142857142856, 0.8526785714285714, 0.8526785714285714, 0.8526785714285714, 0.8526785714285714, 0.8526785714285714, 0.8526785714285714, 0.8526785714285714, 0.8526785714285714, 0.8526785714285714, 0.8526785714285714, 0.8526785714285714, 0.8526785714285714, 0.8526785714285714, 0.8526785714285714, 0.8526785714285714, 0.8526785714285714, 0.8526785714285714, 0.8526785714285714, 0.8526785714285714, 0.8526785714285714, 0.8616071428571429, 0.8616071428571429]}], \"recall_score_micro\": [{\"categories\": [\"0\", \"1\", \"2\", \"3\", \"4\", \"5\", \"6\", \"7\", \"8\", \"9\", \"10\", \"11\", \"12\", \"13\", \"14\", \"15\", \"16\", \"17\", \"18\", \"19\", \"20\", \"21\", \"22\", \"23\", \"24\", \"25\", \"26\", \"27\", \"28\", \"29\", \"30\", \"31\", \"32\", \"33\", \"34\", \"38\", \"39\"], \"mode\": \"markers\", \"name\": \"recall_score_micro\", \"stepped\": false, \"type\": \"scatter\", \"data\": [0.8258928571428571, 0.8125, 0.8169642857142858, 0.8482142857142856, 0.8035714285714286, 0.8125, 0.7589285714285714, 0.7366071428571428, 0.7366071428571429, 0.8303571428571428, 0.8348214285714286, 0.7544642857142858, 0.8437499999999999, 0.8392857142857143, 0.8392857142857143, 0.8526785714285714, 0.7366071428571428, 0.8125, 0.8303571428571429, 0.7678571428571428, 0.7678571428571429, 0.8303571428571429, 0.84375, 0.8303571428571429, 0.8258928571428571, 0.6517857142857143, 0.8258928571428572, 0.8080357142857143, 0.8392857142857144, 0.7767857142857143, 0.65625, 0.8035714285714286, 0.8258928571428572, 0.8214285714285715, 0.8169642857142856, 0.8616071428571429, 0.8348214285714285]}, {\"categories\": [\"0\", \"1\", \"2\", \"3\", \"4\", \"5\", \"6\", \"7\", \"8\", \"9\", \"10\", \"11\", \"12\", \"13\", \"14\", \"15\", \"16\", \"17\", \"18\", \"19\", \"20\", \"21\", \"22\", \"23\", \"24\", \"25\", \"26\", \"27\", \"28\", \"29\", \"30\", \"31\", \"32\", \"33\", \"34\", \"38\", \"39\"], \"mode\": \"lines\", \"name\": \"recall_score_micro_max\", \"stepped\": true, \"type\": \"scatter\", \"data\": [0.8258928571428571, 0.8258928571428571, 0.8258928571428571, 0.8482142857142856, 0.8482142857142856, 0.8482142857142856, 0.8482142857142856, 0.8482142857142856, 0.8482142857142856, 0.8482142857142856, 0.8482142857142856, 0.8482142857142856, 0.8482142857142856, 0.8482142857142856, 0.8482142857142856, 0.8526785714285714, 0.8526785714285714, 0.8526785714285714, 0.8526785714285714, 0.8526785714285714, 0.8526785714285714, 0.8526785714285714, 0.8526785714285714, 0.8526785714285714, 0.8526785714285714, 0.8526785714285714, 0.8526785714285714, 0.8526785714285714, 0.8526785714285714, 0.8526785714285714, 0.8526785714285714, 0.8526785714285714, 0.8526785714285714, 0.8526785714285714, 0.8526785714285714, 0.8616071428571429, 0.8616071428571429]}], \"average_precision_score_macro\": [{\"categories\": [\"0\", \"1\", \"2\", \"3\", \"4\", \"5\", \"6\", \"7\", \"8\", \"9\", \"10\", \"11\", \"12\", \"13\", \"14\", \"15\", \"16\", \"17\", \"18\", \"19\", \"20\", \"21\", \"22\", \"23\", \"24\", \"25\", \"26\", \"27\", \"28\", \"29\", \"30\", \"31\", \"32\", \"33\", \"34\", \"38\", \"39\"], \"mode\": \"markers\", \"name\": \"average_precision_score_macro\", \"stepped\": false, \"type\": \"scatter\", \"data\": [0.8730418765755152, 0.9068971345583243, 0.8838008552866317, 0.8924626647854186, 0.8578262744215979, 0.8828514730427608, 0.8098172254441262, 0.7662107931458597, 0.7631270667358381, 0.8798221424098978, 0.891246301935739, 0.88993015922652, 0.8984197201464446, 0.9083505251291359, 0.891276664093567, 0.898030228983902, 0.8423398092327554, 0.8765266873682788, 0.8972282035186214, 0.9012750058320094, 0.8819369201469867, 0.9104891923861662, 0.9050704185581511, 0.8634733407239745, 0.9002164077418472, 0.6481300751469646, 0.8833730275752945, 0.8793533758416167, 0.894400108336636, 0.8789684266548172, 0.6881896991462411, 0.872095262105085, 0.8873154322753456, 0.8841981840458638, 0.8763110934888029, 0.9053995620836771, 0.886979418613796]}, {\"categories\": [\"0\", \"1\", \"2\", \"3\", \"4\", \"5\", \"6\", \"7\", \"8\", \"9\", \"10\", \"11\", \"12\", \"13\", \"14\", \"15\", \"16\", \"17\", \"18\", \"19\", \"20\", \"21\", \"22\", \"23\", \"24\", \"25\", \"26\", \"27\", \"28\", \"29\", \"30\", \"31\", \"32\", \"33\", \"34\", \"38\", \"39\"], \"mode\": \"lines\", \"name\": \"average_precision_score_macro_max\", \"stepped\": true, \"type\": \"scatter\", \"data\": [0.8730418765755152, 0.9068971345583243, 0.9068971345583243, 0.9068971345583243, 0.9068971345583243, 0.9068971345583243, 0.9068971345583243, 0.9068971345583243, 0.9068971345583243, 0.9068971345583243, 0.9068971345583243, 0.9068971345583243, 0.9068971345583243, 0.9083505251291359, 0.9083505251291359, 0.9083505251291359, 0.9083505251291359, 0.9083505251291359, 0.9083505251291359, 0.9083505251291359, 0.9083505251291359, 0.9104891923861662, 0.9104891923861662, 0.9104891923861662, 0.9104891923861662, 0.9104891923861662, 0.9104891923861662, 0.9104891923861662, 0.9104891923861662, 0.9104891923861662, 0.9104891923861662, 0.9104891923861662, 0.9104891923861662, 0.9104891923861662, 0.9104891923861662, 0.9104891923861662, 0.9104891923861662]}]}, \"metricName\": null, \"primaryMetricName\": \"accuracy\", \"showLegend\": false}, \"run_metrics\": [{\"name\": \"experiment_status\", \"run_id\": \"AutoML_8af90426-71d5-4962-9d1f-17b56aa9021f\", \"categories\": [0, 1, 2, 3, 4, 5, 6, 7, 8, 9, 10, 11, 12, 13], \"series\": [{\"data\": [\"DatasetEvaluation\", \"FeaturesGeneration\", \"DatasetFeaturization\", \"DatasetFeaturizationCompleted\", \"DatasetCrossValidationSplit\", \"ModelSelection\", \"BestRunExplainModel\", \"ModelExplanationDataSetSetup\", \"PickSurrogateModel\", \"EngineeredFeatureExplanations\", \"EngineeredFeatureExplanations\", \"RawFeaturesExplanations\", \"RawFeaturesExplanations\", \"BestRunExplainModel\"]}]}, {\"name\": \"experiment_status_description\", \"run_id\": \"AutoML_8af90426-71d5-4962-9d1f-17b56aa9021f\", \"categories\": [0, 1, 2, 3, 4, 5, 6, 7, 8, 9, 10, 11, 12, 13], \"series\": [{\"data\": [\"Gathering dataset statistics.\", \"Generating features for the dataset.\", \"Beginning to fit featurizers and featurize the dataset.\", \"Completed fit featurizers and featurizing the dataset.\", \"Generating individually featurized CV splits.\", \"Beginning model selection.\", \"Best run model explanations started\", \"Model explanations data setup completed\", \"Choosing LightGBM as the surrogate model for explanations\", \"Computation of engineered features started\", \"Computation of engineered features completed\", \"Computation of raw features started\", \"Computation of raw features completed\", \"Best run model explanations completed\"]}]}, {\"name\": \"balanced_accuracy\", \"run_id\": \"AutoML_8af90426-71d5-4962-9d1f-17b56aa9021f\", \"categories\": [0], \"series\": [{\"data\": [0.8411913964303669]}]}, {\"name\": \"average_precision_score_micro\", \"run_id\": \"AutoML_8af90426-71d5-4962-9d1f-17b56aa9021f\", \"categories\": [0], \"series\": [{\"data\": [0.9085802785137382]}]}, {\"name\": \"f1_score_weighted\", \"run_id\": \"AutoML_8af90426-71d5-4962-9d1f-17b56aa9021f\", \"categories\": [0], \"series\": [{\"data\": [0.8556230778575405]}]}, {\"name\": \"f1_score_macro\", \"run_id\": \"AutoML_8af90426-71d5-4962-9d1f-17b56aa9021f\", \"categories\": [0], \"series\": [{\"data\": [0.8390932800126671]}]}, {\"name\": \"log_loss\", \"run_id\": \"AutoML_8af90426-71d5-4962-9d1f-17b56aa9021f\", \"categories\": [0], \"series\": [{\"data\": [0.43995487289169594]}]}, {\"name\": \"AUC_micro\", \"run_id\": \"AutoML_8af90426-71d5-4962-9d1f-17b56aa9021f\", \"categories\": [0], \"series\": [{\"data\": [0.904735331632653]}]}, {\"name\": \"average_precision_score_macro\", \"run_id\": \"AutoML_8af90426-71d5-4962-9d1f-17b56aa9021f\", \"categories\": [0], \"series\": [{\"data\": [0.9053995620836771]}]}, {\"name\": \"precision_score_micro\", \"run_id\": \"AutoML_8af90426-71d5-4962-9d1f-17b56aa9021f\", \"categories\": [0], \"series\": [{\"data\": [0.8616071428571429]}]}, {\"name\": \"recall_score_weighted\", \"run_id\": \"AutoML_8af90426-71d5-4962-9d1f-17b56aa9021f\", \"categories\": [0], \"series\": [{\"data\": [0.8616071428571429]}]}, {\"name\": \"precision_score_weighted\", \"run_id\": \"AutoML_8af90426-71d5-4962-9d1f-17b56aa9021f\", \"categories\": [0], \"series\": [{\"data\": [0.8803898938573862]}]}, {\"name\": \"weighted_accuracy\", \"run_id\": \"AutoML_8af90426-71d5-4962-9d1f-17b56aa9021f\", \"categories\": [0], \"series\": [{\"data\": [0.8793706977429663]}]}, {\"name\": \"recall_score_micro\", \"run_id\": \"AutoML_8af90426-71d5-4962-9d1f-17b56aa9021f\", \"categories\": [0], \"series\": [{\"data\": [0.8616071428571429]}]}, {\"name\": \"average_precision_score_weighted\", \"run_id\": \"AutoML_8af90426-71d5-4962-9d1f-17b56aa9021f\", \"categories\": [0], \"series\": [{\"data\": [0.9248584544197557]}]}, {\"name\": \"precision_score_macro\", \"run_id\": \"AutoML_8af90426-71d5-4962-9d1f-17b56aa9021f\", \"categories\": [0], \"series\": [{\"data\": [0.8710149957053982]}]}, {\"name\": \"norm_macro_recall\", \"run_id\": \"AutoML_8af90426-71d5-4962-9d1f-17b56aa9021f\", \"categories\": [0], \"series\": [{\"data\": [0.682382792860734]}]}, {\"name\": \"AUC_weighted\", \"run_id\": \"AutoML_8af90426-71d5-4962-9d1f-17b56aa9021f\", \"categories\": [0], \"series\": [{\"data\": [0.9214569782239819]}]}, {\"name\": \"recall_score_macro\", \"run_id\": \"AutoML_8af90426-71d5-4962-9d1f-17b56aa9021f\", \"categories\": [0], \"series\": [{\"data\": [0.8411913964303669]}]}, {\"name\": \"f1_score_micro\", \"run_id\": \"AutoML_8af90426-71d5-4962-9d1f-17b56aa9021f\", \"categories\": [0], \"series\": [{\"data\": [0.8616071428571429]}]}, {\"name\": \"AUC_macro\", \"run_id\": \"AutoML_8af90426-71d5-4962-9d1f-17b56aa9021f\", \"categories\": [0], \"series\": [{\"data\": [0.9214569782239819]}]}, {\"name\": \"accuracy\", \"run_id\": \"AutoML_8af90426-71d5-4962-9d1f-17b56aa9021f\", \"categories\": [0], \"series\": [{\"data\": [0.8616071428571429]}]}, {\"name\": \"matthews_correlation\", \"run_id\": \"AutoML_8af90426-71d5-4962-9d1f-17b56aa9021f\", \"categories\": [0], \"series\": [{\"data\": [0.7084794979604092]}]}], \"run_logs\": \"\\nRun is completed.\", \"graph\": {}, \"widget_settings\": {\"childWidgetDisplay\": \"popup\", \"send_telemetry\": false, \"log_level\": \"INFO\", \"sdk_version\": \"1.24.0\"}, \"loading\": false}"
     },
     "metadata": {},
     "output_type": "display_data"
    },
    {
     "data": {
      "text/plain": [
       "{'runId': 'AutoML_8af90426-71d5-4962-9d1f-17b56aa9021f',\n",
       " 'target': 'cpu-cluster',\n",
       " 'status': 'Completed',\n",
       " 'startTimeUtc': '2021-03-13T13:55:59.071681Z',\n",
       " 'endTimeUtc': '2021-03-13T14:12:56.216291Z',\n",
       " 'properties': {'num_iterations': '1000',\n",
       "  'training_type': 'TrainFull',\n",
       "  'acquisition_function': 'EI',\n",
       "  'primary_metric': 'accuracy',\n",
       "  'train_split': '0',\n",
       "  'acquisition_parameter': '0',\n",
       "  'num_cross_validation': '4',\n",
       "  'target': 'cpu-cluster',\n",
       "  'AMLSettingsJsonString': '{\"path\":null,\"name\":\"automl_experiment\",\"subscription_id\":\"6b4af8be-9931-443e-90f6-c4c34a1f9737\",\"resource_group\":\"aml-quickstarts-140332\",\"workspace_name\":\"quick-starts-ws-140332\",\"region\":\"southcentralus\",\"compute_target\":\"cpu-cluster\",\"spark_service\":null,\"azure_service\":\"remote\",\"many_models\":false,\"pipeline_fetch_max_batch_size\":1,\"enable_batch_run\":false,\"iterations\":1000,\"primary_metric\":\"accuracy\",\"task_type\":\"classification\",\"data_script\":null,\"validation_size\":0.0,\"n_cross_validations\":4,\"y_min\":null,\"y_max\":null,\"num_classes\":null,\"featurization\":\"auto\",\"_ignore_package_version_incompatibilities\":false,\"is_timeseries\":false,\"max_cores_per_iteration\":1,\"max_concurrent_iterations\":5,\"iteration_timeout_minutes\":null,\"mem_in_mb\":null,\"enforce_time_on_windows\":false,\"experiment_timeout_minutes\":20,\"experiment_exit_score\":null,\"whitelist_models\":null,\"blacklist_algos\":[\"XGBoostClassifier\",\"TensorFlowLinearClassifier\",\"TensorFlowDNN\"],\"supported_models\":[\"XGBoostClassifier\",\"BernoulliNaiveBayes\",\"DecisionTree\",\"SGD\",\"ExtremeRandomTrees\",\"AveragedPerceptronClassifier\",\"TensorFlowLinearClassifier\",\"LinearSVM\",\"SVM\",\"LightGBM\",\"RandomForest\",\"TensorFlowDNN\",\"KNN\",\"LogisticRegression\",\"MultinomialNaiveBayes\",\"GradientBoosting\"],\"private_models\":[],\"auto_blacklist\":true,\"blacklist_samples_reached\":false,\"exclude_nan_labels\":true,\"verbosity\":20,\"_debug_log\":\"azureml_automl.log\",\"show_warnings\":false,\"model_explainability\":true,\"service_url\":null,\"sdk_url\":null,\"sdk_packages\":null,\"enable_onnx_compatible_models\":false,\"enable_split_onnx_featurizer_estimator_models\":false,\"vm_type\":\"STANDARD_DS3_V2\",\"telemetry_verbosity\":20,\"send_telemetry\":true,\"enable_dnn\":false,\"scenario\":\"SDK-1.13.0\",\"environment_label\":null,\"save_mlflow\":false,\"force_text_dnn\":false,\"enable_feature_sweeping\":true,\"enable_early_stopping\":true,\"early_stopping_n_iters\":10,\"metrics\":null,\"enable_metric_confidence\":false,\"enable_ensembling\":true,\"enable_stack_ensembling\":true,\"ensemble_iterations\":15,\"enable_tf\":false,\"enable_subsampling\":null,\"subsample_seed\":null,\"enable_nimbusml\":false,\"enable_streaming\":false,\"force_streaming\":false,\"track_child_runs\":true,\"allowed_private_models\":[],\"label_column_name\":\"DEATH_EVENT\",\"weight_column_name\":null,\"cv_split_column_names\":null,\"enable_local_managed\":false,\"_local_managed_run_id\":null,\"cost_mode\":1,\"lag_length\":0,\"metric_operation\":\"maximize\",\"preprocess\":true}',\n",
       "  'DataPrepJsonString': '{\\\\\"training_data\\\\\": \\\\\"{\\\\\\\\\\\\\"blocks\\\\\\\\\\\\\": [{\\\\\\\\\\\\\"id\\\\\\\\\\\\\": \\\\\\\\\\\\\"cfb3dd56-b01c-4ba3-9b74-de1c291e2e1e\\\\\\\\\\\\\", \\\\\\\\\\\\\"type\\\\\\\\\\\\\": \\\\\\\\\\\\\"Microsoft.DPrep.GetDatastoreFilesBlock\\\\\\\\\\\\\", \\\\\\\\\\\\\"arguments\\\\\\\\\\\\\": {\\\\\\\\\\\\\"datastores\\\\\\\\\\\\\": [{\\\\\\\\\\\\\"datastoreName\\\\\\\\\\\\\": \\\\\\\\\\\\\"workspaceblobstore\\\\\\\\\\\\\", \\\\\\\\\\\\\"path\\\\\\\\\\\\\": \\\\\\\\\\\\\"udacity-project/train_data.csv\\\\\\\\\\\\\", \\\\\\\\\\\\\"resourceGroup\\\\\\\\\\\\\": \\\\\\\\\\\\\"aml-quickstarts-140332\\\\\\\\\\\\\", \\\\\\\\\\\\\"subscription\\\\\\\\\\\\\": \\\\\\\\\\\\\"6b4af8be-9931-443e-90f6-c4c34a1f9737\\\\\\\\\\\\\", \\\\\\\\\\\\\"workspaceName\\\\\\\\\\\\\": \\\\\\\\\\\\\"quick-starts-ws-140332\\\\\\\\\\\\\"}]}, \\\\\\\\\\\\\"localData\\\\\\\\\\\\\": {}, \\\\\\\\\\\\\"isEnabled\\\\\\\\\\\\\": true, \\\\\\\\\\\\\"name\\\\\\\\\\\\\": null, \\\\\\\\\\\\\"annotation\\\\\\\\\\\\\": null}, {\\\\\\\\\\\\\"id\\\\\\\\\\\\\": \\\\\\\\\\\\\"2e90e684-d789-4750-8470-bebf672a935c\\\\\\\\\\\\\", \\\\\\\\\\\\\"type\\\\\\\\\\\\\": \\\\\\\\\\\\\"Microsoft.DPrep.ParseDelimitedBlock\\\\\\\\\\\\\", \\\\\\\\\\\\\"arguments\\\\\\\\\\\\\": {\\\\\\\\\\\\\"columnHeadersMode\\\\\\\\\\\\\": 3, \\\\\\\\\\\\\"fileEncoding\\\\\\\\\\\\\": 0, \\\\\\\\\\\\\"handleQuotedLineBreaks\\\\\\\\\\\\\": false, \\\\\\\\\\\\\"preview\\\\\\\\\\\\\": false, \\\\\\\\\\\\\"separator\\\\\\\\\\\\\": \\\\\\\\\\\\\",\\\\\\\\\\\\\", \\\\\\\\\\\\\"skipRows\\\\\\\\\\\\\": 0, \\\\\\\\\\\\\"skipRowsMode\\\\\\\\\\\\\": 0}, \\\\\\\\\\\\\"localData\\\\\\\\\\\\\": {}, \\\\\\\\\\\\\"isEnabled\\\\\\\\\\\\\": true, \\\\\\\\\\\\\"name\\\\\\\\\\\\\": null, \\\\\\\\\\\\\"annotation\\\\\\\\\\\\\": null}, {\\\\\\\\\\\\\"id\\\\\\\\\\\\\": \\\\\\\\\\\\\"79861e51-b3e1-45d6-9099-dd84ac404594\\\\\\\\\\\\\", \\\\\\\\\\\\\"type\\\\\\\\\\\\\": \\\\\\\\\\\\\"Microsoft.DPrep.DropColumnsBlock\\\\\\\\\\\\\", \\\\\\\\\\\\\"arguments\\\\\\\\\\\\\": {\\\\\\\\\\\\\"columns\\\\\\\\\\\\\": {\\\\\\\\\\\\\"type\\\\\\\\\\\\\": 0, \\\\\\\\\\\\\"details\\\\\\\\\\\\\": {\\\\\\\\\\\\\"selectedColumns\\\\\\\\\\\\\": [\\\\\\\\\\\\\"Path\\\\\\\\\\\\\"]}}}, \\\\\\\\\\\\\"localData\\\\\\\\\\\\\": {}, \\\\\\\\\\\\\"isEnabled\\\\\\\\\\\\\": true, \\\\\\\\\\\\\"name\\\\\\\\\\\\\": null, \\\\\\\\\\\\\"annotation\\\\\\\\\\\\\": null}, {\\\\\\\\\\\\\"id\\\\\\\\\\\\\": \\\\\\\\\\\\\"10135bce-5192-4cbb-9920-f5154c0ce21f\\\\\\\\\\\\\", \\\\\\\\\\\\\"type\\\\\\\\\\\\\": \\\\\\\\\\\\\"Microsoft.DPrep.SetColumnTypesBlock\\\\\\\\\\\\\", \\\\\\\\\\\\\"arguments\\\\\\\\\\\\\": {\\\\\\\\\\\\\"columnConversion\\\\\\\\\\\\\": [{\\\\\\\\\\\\\"column\\\\\\\\\\\\\": {\\\\\\\\\\\\\"type\\\\\\\\\\\\\": 2, \\\\\\\\\\\\\"details\\\\\\\\\\\\\": {\\\\\\\\\\\\\"selectedColumn\\\\\\\\\\\\\": \\\\\\\\\\\\\"age\\\\\\\\\\\\\"}}, \\\\\\\\\\\\\"typeProperty\\\\\\\\\\\\\": 3}, {\\\\\\\\\\\\\"column\\\\\\\\\\\\\": {\\\\\\\\\\\\\"type\\\\\\\\\\\\\": 2, \\\\\\\\\\\\\"details\\\\\\\\\\\\\": {\\\\\\\\\\\\\"selectedColumn\\\\\\\\\\\\\": \\\\\\\\\\\\\"anaemia\\\\\\\\\\\\\"}}, \\\\\\\\\\\\\"typeProperty\\\\\\\\\\\\\": 2}, {\\\\\\\\\\\\\"column\\\\\\\\\\\\\": {\\\\\\\\\\\\\"type\\\\\\\\\\\\\": 2, \\\\\\\\\\\\\"details\\\\\\\\\\\\\": {\\\\\\\\\\\\\"selectedColumn\\\\\\\\\\\\\": \\\\\\\\\\\\\"creatinine_phosphokinase\\\\\\\\\\\\\"}}, \\\\\\\\\\\\\"typeProperty\\\\\\\\\\\\\": 2}, {\\\\\\\\\\\\\"column\\\\\\\\\\\\\": {\\\\\\\\\\\\\"type\\\\\\\\\\\\\": 2, \\\\\\\\\\\\\"details\\\\\\\\\\\\\": {\\\\\\\\\\\\\"selectedColumn\\\\\\\\\\\\\": \\\\\\\\\\\\\"diabetes\\\\\\\\\\\\\"}}, \\\\\\\\\\\\\"typeProperty\\\\\\\\\\\\\": 2}, {\\\\\\\\\\\\\"column\\\\\\\\\\\\\": {\\\\\\\\\\\\\"type\\\\\\\\\\\\\": 2, \\\\\\\\\\\\\"details\\\\\\\\\\\\\": {\\\\\\\\\\\\\"selectedColumn\\\\\\\\\\\\\": \\\\\\\\\\\\\"ejection_fraction\\\\\\\\\\\\\"}}, \\\\\\\\\\\\\"typeProperty\\\\\\\\\\\\\": 2}, {\\\\\\\\\\\\\"column\\\\\\\\\\\\\": {\\\\\\\\\\\\\"type\\\\\\\\\\\\\": 2, \\\\\\\\\\\\\"details\\\\\\\\\\\\\": {\\\\\\\\\\\\\"selectedColumn\\\\\\\\\\\\\": \\\\\\\\\\\\\"high_blood_pressure\\\\\\\\\\\\\"}}, \\\\\\\\\\\\\"typeProperty\\\\\\\\\\\\\": 2}, {\\\\\\\\\\\\\"column\\\\\\\\\\\\\": {\\\\\\\\\\\\\"type\\\\\\\\\\\\\": 2, \\\\\\\\\\\\\"details\\\\\\\\\\\\\": {\\\\\\\\\\\\\"selectedColumn\\\\\\\\\\\\\": \\\\\\\\\\\\\"platelets\\\\\\\\\\\\\"}}, \\\\\\\\\\\\\"typeProperty\\\\\\\\\\\\\": 3}, {\\\\\\\\\\\\\"column\\\\\\\\\\\\\": {\\\\\\\\\\\\\"type\\\\\\\\\\\\\": 2, \\\\\\\\\\\\\"details\\\\\\\\\\\\\": {\\\\\\\\\\\\\"selectedColumn\\\\\\\\\\\\\": \\\\\\\\\\\\\"serum_creatinine\\\\\\\\\\\\\"}}, \\\\\\\\\\\\\"typeProperty\\\\\\\\\\\\\": 3}, {\\\\\\\\\\\\\"column\\\\\\\\\\\\\": {\\\\\\\\\\\\\"type\\\\\\\\\\\\\": 2, \\\\\\\\\\\\\"details\\\\\\\\\\\\\": {\\\\\\\\\\\\\"selectedColumn\\\\\\\\\\\\\": \\\\\\\\\\\\\"serum_sodium\\\\\\\\\\\\\"}}, \\\\\\\\\\\\\"typeProperty\\\\\\\\\\\\\": 2}, {\\\\\\\\\\\\\"column\\\\\\\\\\\\\": {\\\\\\\\\\\\\"type\\\\\\\\\\\\\": 2, \\\\\\\\\\\\\"details\\\\\\\\\\\\\": {\\\\\\\\\\\\\"selectedColumn\\\\\\\\\\\\\": \\\\\\\\\\\\\"sex\\\\\\\\\\\\\"}}, \\\\\\\\\\\\\"typeProperty\\\\\\\\\\\\\": 2}, {\\\\\\\\\\\\\"column\\\\\\\\\\\\\": {\\\\\\\\\\\\\"type\\\\\\\\\\\\\": 2, \\\\\\\\\\\\\"details\\\\\\\\\\\\\": {\\\\\\\\\\\\\"selectedColumn\\\\\\\\\\\\\": \\\\\\\\\\\\\"smoking\\\\\\\\\\\\\"}}, \\\\\\\\\\\\\"typeProperty\\\\\\\\\\\\\": 2}, {\\\\\\\\\\\\\"column\\\\\\\\\\\\\": {\\\\\\\\\\\\\"type\\\\\\\\\\\\\": 2, \\\\\\\\\\\\\"details\\\\\\\\\\\\\": {\\\\\\\\\\\\\"selectedColumn\\\\\\\\\\\\\": \\\\\\\\\\\\\"time\\\\\\\\\\\\\"}}, \\\\\\\\\\\\\"typeProperty\\\\\\\\\\\\\": 2}, {\\\\\\\\\\\\\"column\\\\\\\\\\\\\": {\\\\\\\\\\\\\"type\\\\\\\\\\\\\": 2, \\\\\\\\\\\\\"details\\\\\\\\\\\\\": {\\\\\\\\\\\\\"selectedColumn\\\\\\\\\\\\\": \\\\\\\\\\\\\"DEATH_EVENT\\\\\\\\\\\\\"}}, \\\\\\\\\\\\\"typeProperty\\\\\\\\\\\\\": 2}]}, \\\\\\\\\\\\\"localData\\\\\\\\\\\\\": {}, \\\\\\\\\\\\\"isEnabled\\\\\\\\\\\\\": true, \\\\\\\\\\\\\"name\\\\\\\\\\\\\": null, \\\\\\\\\\\\\"annotation\\\\\\\\\\\\\": null}], \\\\\\\\\\\\\"inspectors\\\\\\\\\\\\\": [], \\\\\\\\\\\\\"meta\\\\\\\\\\\\\": {\\\\\\\\\\\\\"savedDatasetId\\\\\\\\\\\\\": \\\\\\\\\\\\\"3e7a4598-8592-4d41-ad14-f634eb46bd18\\\\\\\\\\\\\", \\\\\\\\\\\\\"datasetType\\\\\\\\\\\\\": \\\\\\\\\\\\\"tabular\\\\\\\\\\\\\", \\\\\\\\\\\\\"subscriptionId\\\\\\\\\\\\\": \\\\\\\\\\\\\"6b4af8be-9931-443e-90f6-c4c34a1f9737\\\\\\\\\\\\\", \\\\\\\\\\\\\"workspaceId\\\\\\\\\\\\\": \\\\\\\\\\\\\"cac97f8a-ce68-40a8-be4b-32b66be2fb4a\\\\\\\\\\\\\", \\\\\\\\\\\\\"workspaceLocation\\\\\\\\\\\\\": \\\\\\\\\\\\\"southcentralus\\\\\\\\\\\\\", \\\\\\\\\\\\\"partition_keys\\\\\\\\\\\\\": \\\\\\\\\\\\\"true\\\\\\\\\\\\\"}}\\\\\", \\\\\"activities\\\\\": 0}',\n",
       "  'EnableSubsampling': None,\n",
       "  'runTemplate': 'AutoML',\n",
       "  'azureml.runsource': 'automl',\n",
       "  'display_task_type': 'classification',\n",
       "  'dependencies_versions': '{\"azureml-widgets\": \"1.22.0\", \"azureml-train\": \"1.24.0\", \"azureml-train-restclients-hyperdrive\": \"1.24.0\", \"azureml-train-core\": \"1.24.0\", \"azureml-train-automl\": \"1.24.0\", \"azureml-train-automl-runtime\": \"1.24.0\", \"azureml-train-automl-client\": \"1.24.0\", \"azureml-tensorboard\": \"1.22.0\", \"azureml-telemetry\": \"1.24.0\", \"azureml-sdk\": \"1.24.0\", \"azureml-samples\": \"0+unknown\", \"azureml-pipeline\": \"1.24.0\", \"azureml-pipeline-steps\": \"1.24.0\", \"azureml-pipeline-core\": \"1.24.0\", \"azureml-opendatasets\": \"1.22.0\", \"azureml-model-management-sdk\": \"1.0.1b6.post1\", \"azureml-mlflow\": \"1.22.0\", \"azureml-interpret\": \"1.24.0\", \"azureml-explain-model\": \"1.22.0\", \"azureml-defaults\": \"1.24.0\", \"azureml-dataset-runtime\": \"1.24.0\", \"azureml-dataprep\": \"2.11.2\", \"azureml-dataprep-rslex\": \"1.9.1\", \"azureml-dataprep-native\": \"30.0.0\", \"azureml-datadrift\": \"1.22.0\", \"azureml-core\": \"1.24.0.post2\", \"azureml-contrib-services\": \"1.22.0\", \"azureml-contrib-server\": \"1.22.0\", \"azureml-contrib-reinforcementlearning\": \"1.22.0\", \"azureml-contrib-pipeline-steps\": \"1.22.0\", \"azureml-contrib-notebook\": \"1.22.0\", \"azureml-contrib-interpret\": \"1.22.0\", \"azureml-contrib-gbdt\": \"1.22.0\", \"azureml-contrib-fairness\": \"1.22.0\", \"azureml-contrib-dataset\": \"1.22.0\", \"azureml-cli-common\": \"1.22.0\", \"azureml-automl-runtime\": \"1.24.0\", \"azureml-automl-core\": \"1.24.0\", \"azureml-accel-models\": \"1.22.0\"}',\n",
       "  '_aml_system_scenario_identification': 'Remote.Parent',\n",
       "  'ClientType': 'SDK',\n",
       "  'environment_cpu_name': 'AzureML-AutoML',\n",
       "  'environment_cpu_label': 'prod',\n",
       "  'environment_gpu_name': 'AzureML-AutoML-GPU',\n",
       "  'environment_gpu_label': 'prod',\n",
       "  'root_attribution': 'automl',\n",
       "  'attribution': 'AutoML',\n",
       "  'Orchestrator': 'AutoML',\n",
       "  'CancelUri': 'https://southcentralus.experiments.azureml.net/jasmine/v1.0/subscriptions/6b4af8be-9931-443e-90f6-c4c34a1f9737/resourceGroups/aml-quickstarts-140332/providers/Microsoft.MachineLearningServices/workspaces/quick-starts-ws-140332/experimentids/4f3bc7cc-f265-4336-b719-b3cd838ee25f/cancel/AutoML_8af90426-71d5-4962-9d1f-17b56aa9021f',\n",
       "  'ClientSdkVersion': '1.23.0',\n",
       "  'snapshotId': '00000000-0000-0000-0000-000000000000',\n",
       "  'SetupRunId': 'AutoML_8af90426-71d5-4962-9d1f-17b56aa9021f_setup',\n",
       "  'SetupRunContainerId': 'dcid.AutoML_8af90426-71d5-4962-9d1f-17b56aa9021f_setup',\n",
       "  'FeaturizationRunJsonPath': 'featurizer_container.json',\n",
       "  'FeaturizationRunId': 'AutoML_8af90426-71d5-4962-9d1f-17b56aa9021f_featurize',\n",
       "  'ProblemInfoJsonString': '{\"dataset_num_categorical\": 0, \"is_sparse\": false, \"subsampling\": false, \"dataset_classes\": 2, \"dataset_features\": 12, \"dataset_samples\": 224, \"single_frequency_class_detected\": false}',\n",
       "  'ModelExplainRunId': 'AutoML_8af90426-71d5-4962-9d1f-17b56aa9021f_ModelExplain'},\n",
       " 'inputDatasets': [{'dataset': {'id': '3e7a4598-8592-4d41-ad14-f634eb46bd18'}, 'consumptionDetails': {'type': 'RunInput', 'inputName': 'training_data', 'mechanism': 'Direct'}}],\n",
       " 'outputDatasets': [],\n",
       " 'logFiles': {},\n",
       " 'submittedBy': 'ODL_User 140332'}"
      ]
     },
     "execution_count": 12,
     "metadata": {},
     "output_type": "execute_result"
    }
   ],
   "source": [
    "RunDetails(remote_run).show()\n",
    "remote_run.wait_for_completion()"
   ]
  },
  {
   "cell_type": "markdown",
   "metadata": {},
   "source": [
    "## Best Model\n",
    "\n",
    "TODO: In the cell below, get the best model from the automl experiments and display all the properties of the model.\n",
    "\n"
   ]
  },
  {
   "cell_type": "code",
   "execution_count": 13,
   "metadata": {
    "gather": {
     "logged": 1598431425670
    },
    "jupyter": {
     "outputs_hidden": false,
     "source_hidden": false
    },
    "nteract": {
     "transient": {
      "deleting": false
     }
    },
    "scrolled": false
   },
   "outputs": [
    {
     "data": {
      "text/html": [
       "<table style=\"width:100%\"><tr><th>Experiment</th><th>Id</th><th>Type</th><th>Status</th><th>Details Page</th><th>Docs Page</th></tr><tr><td>automl_experiment</td><td>AutoML_8af90426-71d5-4962-9d1f-17b56aa9021f_38</td><td>azureml.scriptrun</td><td>Completed</td><td><a href=\"https://ml.azure.com/experiments/automl_experiment/runs/AutoML_8af90426-71d5-4962-9d1f-17b56aa9021f_38?wsid=/subscriptions/6b4af8be-9931-443e-90f6-c4c34a1f9737/resourcegroups/aml-quickstarts-140332/workspaces/quick-starts-ws-140332\" target=\"_blank\" rel=\"noopener\">Link to Azure Machine Learning studio</a></td><td><a href=\"https://docs.microsoft.com/en-us/python/api/azureml-core/azureml.core.run.Run?view=azure-ml-py\" target=\"_blank\" rel=\"noopener\">Link to Documentation</a></td></tr></table>"
      ],
      "text/plain": [
       "Run(Experiment: automl_experiment,\n",
       "Id: AutoML_8af90426-71d5-4962-9d1f-17b56aa9021f_38,\n",
       "Type: azureml.scriptrun,\n",
       "Status: Completed)"
      ]
     },
     "execution_count": 13,
     "metadata": {},
     "output_type": "execute_result"
    }
   ],
   "source": [
    "best_automl_run, fitted_automl_model = remote_run.get_output()\n",
    "\n",
    "best_automl_run"
   ]
  },
  {
   "cell_type": "code",
   "execution_count": 14,
   "metadata": {},
   "outputs": [
    {
     "data": {
      "text/plain": [
       "Pipeline(memory=None,\n",
       "         steps=[('datatransformer',\n",
       "                 DataTransformer(enable_dnn=None, enable_feature_sweeping=None,\n",
       "                                 feature_sweeping_config=None,\n",
       "                                 feature_sweeping_timeout=None,\n",
       "                                 featurization_config=None, force_text_dnn=None,\n",
       "                                 is_cross_validation=None,\n",
       "                                 is_onnx_compatible=None, logger=None,\n",
       "                                 observer=None, task=None, working_dir=None)),\n",
       "                ('prefittedsoftvotingclassifier',...\n",
       "                                                                                        decision_function_shape='ovr',\n",
       "                                                                                        degree=3,\n",
       "                                                                                        gamma='scale',\n",
       "                                                                                        kernel='rbf',\n",
       "                                                                                        max_iter=-1,\n",
       "                                                                                        probability=True,\n",
       "                                                                                        random_state=None,\n",
       "                                                                                        shrinking=True,\n",
       "                                                                                        tol=0.001,\n",
       "                                                                                        verbose=False))],\n",
       "                                                                     verbose=False))],\n",
       "                                               flatten_transform=None,\n",
       "                                               weights=[0.14285714285714285,\n",
       "                                                        0.14285714285714285,\n",
       "                                                        0.14285714285714285,\n",
       "                                                        0.14285714285714285,\n",
       "                                                        0.14285714285714285,\n",
       "                                                        0.14285714285714285,\n",
       "                                                        0.14285714285714285]))],\n",
       "         verbose=False)"
      ]
     },
     "execution_count": 14,
     "metadata": {},
     "output_type": "execute_result"
    }
   ],
   "source": [
    "fitted_automl_model"
   ]
  },
  {
   "cell_type": "code",
   "execution_count": 15,
   "metadata": {
    "gather": {
     "logged": 1598431426111
    },
    "jupyter": {
     "outputs_hidden": false,
     "source_hidden": false
    },
    "nteract": {
     "transient": {
      "deleting": false
     }
    }
   },
   "outputs": [
    {
     "data": {
      "text/plain": [
       "['outputs/automl_model.joblib']"
      ]
     },
     "execution_count": 15,
     "metadata": {},
     "output_type": "execute_result"
    }
   ],
   "source": [
    "#TODO: Save the best model\n",
    "import joblib\n",
    "\n",
    "joblib.dump(fitted_automl_model, 'outputs/automl_model.joblib')"
   ]
  },
  {
   "cell_type": "markdown",
   "metadata": {},
   "source": [
    "## Model Deployment\n",
    "\n",
    "Remember you have to deploy only one of the two models you trained.. Perform the steps in the rest of this notebook only if you wish to deploy this model.\n",
    "\n",
    "TODO: In the cell below, register the model, create an inference config and deploy the model as a web service."
   ]
  },
  {
   "cell_type": "code",
   "execution_count": 35,
   "metadata": {
    "gather": {
     "logged": 1598431435189
    },
    "jupyter": {
     "outputs_hidden": false,
     "source_hidden": false
    },
    "nteract": {
     "transient": {
      "deleting": false
     }
    }
   },
   "outputs": [],
   "source": [
    "from azureml.core.model import Model\n",
    "\n",
    "# model = Model.register(workspace = ws,\n",
    "#                         model_path =\"outputs/automl_model.joblib\",\n",
    "#                         model_name = \"automl_model\")\n",
    "\n",
    "model = remote_run.register_model(model_name = \"automl_model\")"
   ]
  },
  {
   "cell_type": "code",
   "execution_count": 36,
   "metadata": {},
   "outputs": [],
   "source": [
    "from azureml.core.webservice import Webservice, AciWebservice\n",
    "\n",
    "deploy_config = AciWebservice.deploy_configuration(cpu_cores=1,memory_gb=2,enable_app_insights=True)"
   ]
  },
  {
   "cell_type": "code",
   "execution_count": 37,
   "metadata": {},
   "outputs": [],
   "source": [
    "from azureml.core.model import InferenceConfig\n",
    "\n",
    "inference_config = InferenceConfig(entry_script='./score.py')"
   ]
  },
  {
   "cell_type": "code",
   "execution_count": 39,
   "metadata": {
    "scrolled": true
   },
   "outputs": [
    {
     "name": "stdout",
     "output_type": "stream",
     "text": [
      "Tips: You can try get_logs(): https://aka.ms/debugimage#dockerlog or local deployment: https://aka.ms/debugimage#debug-locally to debug if deployment takes longer than 10 minutes.\n",
      "Running\n",
      "2021-03-13 14:59:35+00:00 Creating Container Registry if not exists.\n",
      "2021-03-13 14:59:36+00:00 Use the existing image.\n",
      "2021-03-13 14:59:36+00:00 Generating deployment configuration.\n",
      "2021-03-13 14:59:38+00:00 Submitting deployment to compute..\n",
      "2021-03-13 14:59:42+00:00 Checking the status of deployment automl-web-service..\n",
      "2021-03-13 15:02:15+00:00 Checking the status of inference endpoint automl-web-service.\n",
      "Succeeded\n",
      "ACI service creation operation finished, operation \"Succeeded\"\n",
      "Healthy\n"
     ]
    }
   ],
   "source": [
    "service_name = 'automl-web-service'\n",
    "\n",
    "service = Model.deploy(ws, service_name, [model], inference_config, deployment_config=deploy_config)\n",
    "\n",
    "service.wait_for_deployment(True)\n",
    "print(service.state)"
   ]
  },
  {
   "cell_type": "markdown",
   "metadata": {
    "collapsed": true,
    "gather": {
     "logged": 1598431657736
    },
    "jupyter": {
     "outputs_hidden": false,
     "source_hidden": false
    },
    "nteract": {
     "transient": {
      "deleting": false
     }
    }
   },
   "source": [
    "TODO: In the cell below, send a request to the web service you deployed to test it."
   ]
  },
  {
   "cell_type": "code",
   "execution_count": 42,
   "metadata": {
    "jupyter": {
     "outputs_hidden": false,
     "source_hidden": false
    },
    "nteract": {
     "transient": {
      "deleting": false
     }
    }
   },
   "outputs": [
    {
     "name": "stdout",
     "output_type": "stream",
     "text": [
      "Result 1: [1]\n",
      "Result 2: [0]\n"
     ]
    }
   ],
   "source": [
    "import json\n",
    "import requests\n",
    "\n",
    "scoring_uri = service.scoring_uri\n",
    "headers = {'Content-Type':'application/json'}\n",
    "\n",
    "test_data_1 = json.dumps({'data':[{\n",
    "    'age':75,\n",
    "    'anaemia':0,\n",
    "    'creatinine_phosphokinase':582,\n",
    "    'diabetes':0,\n",
    "    'ejection_fraction':20,\n",
    "    'high_blood_pressure':1,\n",
    "    'platelets':265000,\n",
    "    'serum_creatinine':1.9,\n",
    "    'serum_sodium':130,\n",
    "    'sex':1,\n",
    "    'smoking':0,\n",
    "    'time':4}\n",
    "    ]\n",
    "        })\n",
    "\n",
    "test_data_2 = json.dumps({'data':[{\n",
    "    'age':40,\n",
    "    'anaemia':0,\n",
    "    'creatinine_phosphokinase':321,\n",
    "    'diabetes':0,\n",
    "    'ejection_fraction':35,\n",
    "    'high_blood_pressure':0,\n",
    "    'platelets':265000,\n",
    "    'serum_creatinine':1,\n",
    "    'serum_sodium':130,\n",
    "    'sex':1,\n",
    "    'smoking':0,\n",
    "    'time':198}\n",
    "    ]\n",
    "        })\n",
    "\n",
    "\n",
    "response = requests.post(scoring_uri, data=test_data_1, headers=headers)\n",
    "\n",
    "print(\"Result 1:\",response.text)\n",
    "\n",
    "\n",
    "response = requests.post(scoring_uri, data=test_data_2, headers=headers)\n",
    "\n",
    "print(\"Result 2:\",response.text)"
   ]
  },
  {
   "cell_type": "markdown",
   "metadata": {},
   "source": [
    "TODO: In the cell below, print the logs of the web service and delete the service"
   ]
  },
  {
   "cell_type": "code",
   "execution_count": null,
   "metadata": {},
   "outputs": [],
   "source": [
    "service.get_logs()"
   ]
  },
  {
   "cell_type": "code",
   "execution_count": null,
   "metadata": {},
   "outputs": [],
   "source": [
    "service.delete()"
   ]
  }
 ],
 "metadata": {
  "kernel_info": {
   "name": "python3-azureml"
  },
  "kernelspec": {
   "display_name": "Python 3",
   "language": "python",
   "name": "python3"
  },
  "language_info": {
   "codemirror_mode": {
    "name": "ipython",
    "version": 3
   },
   "file_extension": ".py",
   "mimetype": "text/x-python",
   "name": "python",
   "nbconvert_exporter": "python",
   "pygments_lexer": "ipython3",
   "version": "3.6.9"
  },
  "nteract": {
   "version": "nteract-front-end@1.0.0"
  }
 },
 "nbformat": 4,
 "nbformat_minor": 2
}
